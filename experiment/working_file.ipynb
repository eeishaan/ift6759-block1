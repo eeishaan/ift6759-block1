{
 "cells": [
  {
   "cell_type": "code",
   "execution_count": 1,
   "metadata": {},
   "outputs": [],
   "source": [
    "import matplotlib.pyplot as plt\n",
    "%matplotlib inline"
   ]
  },
  {
   "cell_type": "code",
   "execution_count": 2,
   "metadata": {},
   "outputs": [],
   "source": [
    "import os\n",
    "import torch\n",
    "import torch.nn as nn\n",
    "import torch.nn.functional as F\n",
    "import math"
   ]
  },
  {
   "cell_type": "code",
   "execution_count": 3,
   "metadata": {},
   "outputs": [],
   "source": [
    "import numpy as np\n",
    "from scipy.stats import kendalltau\n",
    "from sklearn.metrics import recall_score\n",
    "from sklearn.ensemble import RandomForestRegressor"
   ]
  },
  {
   "cell_type": "code",
   "execution_count": 4,
   "metadata": {},
   "outputs": [],
   "source": [
    "def read_memfile(filename, shape, dtype='float32'):\n",
    "    # read binary data and return as a numpy array\n",
    "    fp = np.memmap(filename, dtype=dtype, mode='r', shape=shape)\n",
    "    data = np.zeros(shape=shape, dtype=dtype)\n",
    "    data[:] = fp[:]\n",
    "    del fp\n",
    "    return data"
   ]
  },
  {
   "cell_type": "code",
   "execution_count": 5,
   "metadata": {},
   "outputs": [],
   "source": [
    "def write_memfile(data, filename):\n",
    "    # write a numpy array 'data' into a binary  data file specified by\n",
    "    # 'filename'\n",
    "    shape = data.shape\n",
    "    dtype = data.dtype\n",
    "    fp = np.memmap(filename, dtype=dtype, mode='w+', shape=shape)\n",
    "    fp[:] = data[:]\n",
    "    del fp"
   ]
  },
  {
   "cell_type": "code",
   "execution_count": 6,
   "metadata": {},
   "outputs": [],
   "source": [
    "ROOT_DIR = '/rap/jvb-000-aa/COURS2019/etudiants/data/omsignal/myHeartProject/'\n",
    "TRAIN_LABELED_FILE = 'MILA_TrainLabeledData.dat'\n",
    "VALIDATION_LABELED_FILE =  'MILA_ValidationLabeledData.dat'\n",
    "\n",
    "TRAIN_LABELED_FILE = 'MILA_TrainLabeledData.dat'\n",
    "VALIDATION_LABELED_FILE = 'MILA_ValidationLabeledData.dat'\n",
    "LABELS_NAME = [\"PR_Mean\", \"RT_Mean\", \"RR_StdDev\", \"ID\"]\n",
    "\n",
    "train_labeled_data_file = os.path.join(ROOT_DIR, TRAIN_LABELED_FILE)\n",
    "validation_labeled_data_file = os.path.join(ROOT_DIR, VALIDATION_LABELED_FILE)"
   ]
  },
  {
   "cell_type": "code",
   "execution_count": 7,
   "metadata": {},
   "outputs": [],
   "source": [
    "datatrain = read_memfile(train_labeled_data_file, shape=(160,3754))\n",
    "train_data, train_labels = datatrain[:,:-4], datatrain[:,-4:]"
   ]
  },
  {
   "cell_type": "code",
   "execution_count": 8,
   "metadata": {},
   "outputs": [],
   "source": [
    "datavalid = read_memfile(validation_labeled_data_file, shape=(160,3754))\n",
    "valid_data, valid_labels = datavalid[:,:-4], datavalid[:,-4:]"
   ]
  },
  {
   "cell_type": "code",
   "execution_count": 9,
   "metadata": {},
   "outputs": [],
   "source": [
    "class Preprocessor(nn.Module):\n",
    "\n",
    "    def __init__(\n",
    "            self,\n",
    "            ma_window_size=2,\n",
    "            mv_window_size=4,\n",
    "            num_samples_per_second=125):\n",
    "        # ma_window_size: (in seconds) window size to use\n",
    "        #                 for moving average baseline wander removal\n",
    "        # mv_window_size: (in seconds) window size to use\n",
    "        #                 for moving average RMS normalization\n",
    "\n",
    "        super(Preprocessor, self).__init__()\n",
    "\n",
    "        # Kernel size to use for moving average baseline wander removal: 2\n",
    "        # seconds * 125 HZ sampling rate, + 1 to make it odd\n",
    "\n",
    "        self.maKernelSize = (ma_window_size * num_samples_per_second) + 1\n",
    "\n",
    "        # Kernel size to use for moving average normalization: 4\n",
    "        # seconds * 125 HZ sampling rate , + 1 to make it odd\n",
    "\n",
    "        self.mvKernelSize = (mv_window_size * num_samples_per_second) + 1\n",
    "\n",
    "    def forward(self, x):\n",
    "\n",
    "        with torch.no_grad():\n",
    "            x = x.unsqueeze(0)\n",
    "            \n",
    "\n",
    "            # Remove window mean and standard deviation\n",
    "\n",
    "            x = (x - torch.mean(x, dim=2, keepdim=True)) / \\\n",
    "                (torch.std(x, dim=2, keepdim=True) + 0.00001)\n",
    "\n",
    "            # Moving average baseline wander removal\n",
    "\n",
    "            x = x - F.avg_pool1d(\n",
    "                x, kernel_size=self.maKernelSize,\n",
    "                stride=1, padding=(self.maKernelSize - 1) // 2\n",
    "            )\n",
    "\n",
    "            # Moving RMS normalization\n",
    "\n",
    "            x = x / (\n",
    "                torch.sqrt(\n",
    "                    F.avg_pool1d(\n",
    "                        torch.pow(x, 2),\n",
    "                        kernel_size=self.mvKernelSize,\n",
    "                        stride=1, padding=(self.mvKernelSize - 1) // 2\n",
    "                    )) + 0.00001\n",
    "            )\n",
    "\n",
    "        # Don't backpropagate further\n",
    "\n",
    "        x = x.detach().contiguous()\n",
    "\n",
    "        return x.squeeze(0)"
   ]
  },
  {
   "cell_type": "code",
   "execution_count": 10,
   "metadata": {},
   "outputs": [],
   "source": [
    "def Plot_ECG(data, start=0, end=30, index_nb=[0], seconde=True):\n",
    "    \"\"\"\n",
    "    Plot the ECG on a user defined time interval\n",
    "    \n",
    "    Parameters\n",
    "    ----------\n",
    "    data : numpy array\n",
    "        The ECG Data\n",
    "    start: int\n",
    "        The starting time of the part of the ECG you want to plot\n",
    "    end: int\n",
    "        The End time of the part of the ECG you want to plot\n",
    "    index_nb: List\n",
    "        The index of the observation you want to plot\n",
    "    seconde: boolean\n",
    "        Used True if the start time is in seconde\n",
    "    \"\"\"\n",
    "    # Adjust the shape in order to have 2 dimension\n",
    "    if len(data.shape) == 1:\n",
    "        data = np.expand_dims(data, axis=0)\n",
    "        \n",
    "    # Transform the start and end time \n",
    "    if seconde == True:\n",
    "        start = start*125\n",
    "        end = end*125\n",
    "        \n",
    "    x_labels = np.arange(start, end)\n",
    "             \n",
    "    for i, ex in enumerate(index_nb):\n",
    "        plt.figure(i*2+1) \n",
    "        plt.plot(x_labels, data[ex, start:end])\n",
    "        \n",
    "    plt.show"
   ]
  },
  {
   "cell_type": "code",
   "execution_count": 22,
   "metadata": {},
   "outputs": [],
   "source": [
    "class id_trasformer:\n",
    "    def __init__(self):\n",
    "        self.DictId2Class = {}\n",
    "        self.DictClass2Id = {}\n",
    "        self.n_Id = 0 \n",
    "        \n",
    "    def create_dict_ID(self, ID_vector):\n",
    "        for id in ID_vector:\n",
    "            if id not in self.DictId2Class:\n",
    "                self.DictId2Class[id] = self.n_Id\n",
    "                self.DictClass2Id[self.n_Id] = id\n",
    "                self.n_Id += 1\n",
    "                \n",
    "    def Id2Class(self, ID_vector):\n",
    "        return [self.DictId2Class[id] for id in ID_vector]\n",
    "    \n",
    "    def Class2Id(self, class_vector):\n",
    "        return [self.DictClass2Id[labels] for labels in class_vector]"
   ]
  },
  {
   "cell_type": "code",
   "execution_count": 11,
   "metadata": {},
   "outputs": [],
   "source": [
    "device = torch.device(\"cuda:0\" if torch.cuda.is_available else \"cpu\")"
   ]
  },
  {
   "cell_type": "code",
   "execution_count": 12,
   "metadata": {},
   "outputs": [],
   "source": [
    "preprocessor = Preprocessor().to(device)"
   ]
  },
  {
   "cell_type": "code",
   "execution_count": 13,
   "metadata": {},
   "outputs": [],
   "source": [
    "train = torch.tensor(train_data).to(device)\n",
    "valid =  torch.tensor(valid_data).to(device)\n",
    "preprocess_train = preprocessor(train)\n",
    "preprocess_valid = preprocessor(valid)"
   ]
  },
  {
   "cell_type": "code",
   "execution_count": 23,
   "metadata": {},
   "outputs": [],
   "source": [
    "idtransformer = id_trasformer()\n",
    "idtransformer.create_dict_ID(train_labels[:,-1])\n",
    "train_labels[:,-1] = idtransformer.Id2Class(train_labels[:,-1])\n",
    "valid_labels[:,-1] = idtransformer.Id2Class(valid_labels[:,-1])"
   ]
  },
  {
   "cell_type": "markdown",
   "metadata": {},
   "source": [
    "Algo to detect R P,T peak and onset offset based on https://pure.tugraz.at/ws/portalfiles/portal/1312717/Online%20and%20Offline%20Determination%20of%20QT%20PR%20in%20Electrocardiography%20LNCS%207719.pdfdf.pdf"
   ]
  },
  {
   "cell_type": "code",
   "execution_count": 14,
   "metadata": {},
   "outputs": [],
   "source": [
    "def detect_R_peak(data, SADA_wd_size = 7, FS_wd_size = 12, Threshold = 35):\n",
    "    \"\"\"\n",
    "    Take a Batch of ECG data and find the location of the R Peak\n",
    "    \n",
    "    The algorithm is based on the paper:\n",
    "    Online and Offline Determination of QT and PR Interval and QRS Duration in Electrocardiography\n",
    "    (Bachler et al., 2012)\n",
    "    The variable name and default value follow the paper\n",
    "    \n",
    "    Parameters\n",
    "    ----------\n",
    "    data : numpy array\n",
    "        The ECG Data (batch size x lenght of the ECG recording)\n",
    "    SADA_wd_size: int\n",
    "        size of the moving window used in the calculation of SA and DA\n",
    "    FS_wd_size: int\n",
    "        size of the moving window used in the calculation of the feature signal FS\n",
    "    Threshold: int\n",
    "        FS is compared to the Threshold to determined if its a QRS zone. \n",
    "    \"\"\"\n",
    "    \n",
    "    R_peak = []\n",
    "    \n",
    "    #Allow batch size of 1\n",
    "    if len(data.size()) == 1:\n",
    "        data = data.unsqueeze(0)\n",
    "    \n",
    "    D = data[:, 1:] - data[:, 0:-1]\n",
    "    \n",
    "    \n",
    "    data = data.unsqueeze(0)\n",
    "    D = D.unsqueeze(0)\n",
    "    SA = F.max_pool1d(data, kernel_size = SADA_wd_size, stride = 1)\n",
    "    SA = SA + F.max_pool1d(-data, kernel_size = SADA_wd_size, stride = 1) \n",
    "    DA = F.max_pool1d(D, kernel_size = SADA_wd_size, stride = 1, padding=1)\n",
    "    DA = DA + F.max_pool1d(-D, kernel_size = SADA_wd_size, stride = 1, padding=1) \n",
    "    \n",
    "    C = DA[:,:,1:] * torch.pow(SA, 2)\n",
    "    FS = F.max_pool1d(C, kernel_size = FS_wd_size, stride = 1) \n",
    "    Detect = (FS > Threshold)\n",
    "    \n",
    "    Detect = Detect.squeeze(0).cpu()\n",
    "    data = data.squeeze(0).cpu()\n",
    "\n",
    "    for ECG in range(len(data)):\n",
    "        \n",
    "        in_QRS = 0\n",
    "        start_QRS = 0\n",
    "        end_QRS = 0\n",
    "        r_peak = np.array([])\n",
    "        \n",
    "        for tick, detect in enumerate(Detect[ECG]):\n",
    "            \n",
    "            if (in_QRS == 0) and (detect == 1):\n",
    "                start_QRS = tick\n",
    "                in_QRS = 1\n",
    "                \n",
    "            elif (in_QRS == 1) and (detect == 0):\n",
    "                end_QRS = tick\n",
    "                R_tick = torch.argmax(data[ECG, start_QRS : end_QRS+SADA_wd_size+FS_wd_size]).item()\n",
    "                r_peak = np.append(r_peak, R_tick + start_QRS)\n",
    "                in_QRS = 0\n",
    "                start_QRS = 0\n",
    "                \n",
    "        R_peak.append(r_peak)\n",
    "        \n",
    "    return R_peak"
   ]
  },
  {
   "cell_type": "code",
   "execution_count": 15,
   "metadata": {},
   "outputs": [],
   "source": [
    "R_peak_train = detect_R_peak(preprocess_train)\n",
    "R_peak_valid = detect_R_peak(preprocess_valid)"
   ]
  },
  {
   "cell_type": "code",
   "execution_count": 125,
   "metadata": {},
   "outputs": [],
   "source": [
    "RR_interval = [R_peak[i][1:]-R_peak[i][0:-1] for i in range(len(R_peak))]\n",
    "#We keep only good quality one\n",
    "RR_interval_adj = [interval[interval<180] for interval in RR_interval]\n",
    "RR_interval_mean = [np.mean(interval) for interval in RR_interval_adj]\n",
    "heart_beat = [1/(interval_mean/125)*60 for interval_mean in RR_interval_mean]\n",
    "RR_std = [np.std(interval) for interval in RR_interval_adj]"
   ]
  },
  {
   "cell_type": "code",
   "execution_count": 73,
   "metadata": {},
   "outputs": [],
   "source": [
    "\n",
    "def create_template(data, R_peak, template_size = 110, All_window = True):\n",
    "    \n",
    "    listoftemplate = np.empty((1,template_size))\n",
    "    \n",
    "    for recording in range(len(R_peak)):\n",
    "        #generate the template\n",
    "        half_size_int = int(template_size//2)\n",
    "        template = np.zeros((1,template_size))\n",
    "        \n",
    "        for i in R_peak[recording][1:-1]:\n",
    "            new_heart_beat = data[recording][int(i)-int(half_size_int*0.8): int(i)+int(half_size_int*1.2)]\n",
    "            #add padding to make them all of the same size\n",
    "            current_size = int(half_size_int*0.8)+int(half_size_int*1.2)\n",
    "            \n",
    "                \n",
    "            template = np.concatenate((template,\n",
    "                                       np.expand_dims(new_heart_beat, axis = 0))\n",
    "                                       , axis=0)\n",
    "\n",
    "        if All_window == False:\n",
    "            template = np.mean(template, axis = 0)\n",
    "            template = np.expand_dims(template, axis = 0)\n",
    "        \n",
    "        listoftemplate = np.append(listoftemplate, template, axis = 0)\n",
    "    \n",
    "    return listoftemplate[1:]"
   ]
  },
  {
   "cell_type": "code",
   "execution_count": 74,
   "metadata": {},
   "outputs": [
    {
     "data": {
      "text/plain": [
       "(5157, 110)"
      ]
     },
     "execution_count": 74,
     "metadata": {},
     "output_type": "execute_result"
    }
   ],
   "source": [
    "template_train.shape"
   ]
  },
  {
   "cell_type": "code",
   "execution_count": 75,
   "metadata": {},
   "outputs": [],
   "source": [
    "template_valid = create_template(preprocess_train.cpu().numpy(), R_peak_train)\n",
    "template_train = create_template(preprocess_valid.cpu().numpy(), R_peak_valid)"
   ]
  },
  {
   "cell_type": "code",
   "execution_count": 52,
   "metadata": {},
   "outputs": [],
   "source": [
    "shuffle = np.random.permutation(160)\n",
    "train_shuffle = template_train[shuffle]\n",
    "TrainLabel_shuffle = train_labels[shuffle]\n",
    "shuffle = np.random.permutation(160)\n",
    "valid_shuffle = template_valid[shuffle]\n",
    "ValidLabel_shuffle = valid_labels[shuffle]"
   ]
  },
  {
   "cell_type": "code",
   "execution_count": 53,
   "metadata": {},
   "outputs": [],
   "source": [
    "from sklearn.decomposition import PCA"
   ]
  },
  {
   "cell_type": "code",
   "execution_count": 65,
   "metadata": {},
   "outputs": [],
   "source": [
    "ipca = PCA(n_components=25)\n",
    "ipca.fit(train_shuffle)\n",
    "pca_train = ipca.transform(train_shuffle)\n",
    "pca_valid = ipca.transform(valid_shuffle)"
   ]
  },
  {
   "cell_type": "code",
   "execution_count": 59,
   "metadata": {},
   "outputs": [],
   "source": [
    "from sklearn.discriminant_analysis import LinearDiscriminantAnalysis"
   ]
  },
  {
   "cell_type": "code",
   "execution_count": 60,
   "metadata": {},
   "outputs": [
    {
     "data": {
      "text/plain": [
       "0.79375"
      ]
     },
     "execution_count": 60,
     "metadata": {},
     "output_type": "execute_result"
    }
   ],
   "source": [
    "lda = LinearDiscriminantAnalysis()\n",
    "lda.fit(pca_train, TrainLabel_shuffle[:,-1])\n",
    "y_pred = lda.predict(pca_valid)\n",
    "lda.score(pca_valid, ValidLabel_shuffle[:,-1])"
   ]
  },
  {
   "cell_type": "code",
   "execution_count": 61,
   "metadata": {},
   "outputs": [
    {
     "name": "stdout",
     "output_type": "stream",
     "text": [
      "0.7870967741935483\n"
     ]
    }
   ],
   "source": [
    "ecgIdAccuracy = recall_score(ValidLabel_shuffle[:,-1], y_pred, average='macro')\n",
    "adjustementTerm = 1.0 / len(np.unique(ValidLabel_shuffle[:,-1]))\n",
    "ecgIdAccuracy = (ecgIdAccuracy - adjustementTerm) / (1 - adjustementTerm)\n",
    "if ecgIdAccuracy < 0:\n",
    "    ecgIdAccuracy = 0.0\n",
    "print(ecgIdAccuracy)"
   ]
  },
  {
   "cell_type": "code",
   "execution_count": 67,
   "metadata": {},
   "outputs": [
    {
     "ename": "NameError",
     "evalue": "name 'pca_transform' is not defined",
     "output_type": "error",
     "traceback": [
      "\u001b[0;31m---------------------------------------------------------------------------\u001b[0m",
      "\u001b[0;31mNameError\u001b[0m                                 Traceback (most recent call last)",
      "\u001b[0;32m<ipython-input-67-f52c41bc6e53>\u001b[0m in \u001b[0;36m<module>\u001b[0;34m\u001b[0m\n\u001b[0;32m----> 1\u001b[0;31m \u001b[0mpca_transform\u001b[0m\u001b[0;34m\u001b[0m\u001b[0;34m\u001b[0m\u001b[0m\n\u001b[0m",
      "\u001b[0;31mNameError\u001b[0m: name 'pca_transform' is not defined"
     ]
    }
   ],
   "source": [
    "pca_transform"
   ]
  },
  {
   "cell_type": "code",
   "execution_count": 102,
   "metadata": {},
   "outputs": [
    {
     "data": {
      "text/plain": [
       "array([[-0.25338975, -0.24917247, -0.25274529, ..., -0.25576503,\n",
       "        -0.28740021, -0.29173541],\n",
       "       [-0.24376676, -0.26171796, -0.28833485, ..., -0.43178901,\n",
       "        -0.44834672, -0.45985952],\n",
       "       [-0.04849116, -0.0463699 , -0.06121177, ..., -0.07391912,\n",
       "        -0.07794355, -0.09305795],\n",
       "       ...,\n",
       "       [ 0.01973739, -0.02789447, -0.07949318, ..., -0.24167573,\n",
       "        -0.21180793, -0.19415576],\n",
       "       [-0.25095649, -0.27646724, -0.28469655, ..., -0.21295203,\n",
       "        -0.23502796, -0.2713852 ],\n",
       "       [-0.2504455 , -0.25440335, -0.25353932, ..., -0.2000341 ,\n",
       "        -0.20901477, -0.2305932 ]])"
      ]
     },
     "execution_count": 102,
     "metadata": {},
     "output_type": "execute_result"
    }
   ],
   "source": [
    "listoftemplate[1:]"
   ]
  },
  {
   "cell_type": "code",
   "execution_count": 104,
   "metadata": {},
   "outputs": [
    {
     "data": {
      "image/png": "[encoded data removed]",
      "text/plain": [
       "<Figure size 432x288 with 1 Axes>"
      ]
     },
     "metadata": {
      "needs_background": "light"
     },
     "output_type": "display_data"
    }
   ],
   "source": [
    "Plot_ECG(listoftemplate[8],start=0,end=110,seconde = False)"
   ]
  },
  {
   "cell_type": "code",
   "execution_count": 16,
   "metadata": {},
   "outputs": [],
   "source": [
    "R_peak_amplitude = [[preprocess_train[i][int(j)] for j in record] for i, record in enumerate(R_peak)]"
   ]
  },
  {
   "cell_type": "code",
   "execution_count": 18,
   "metadata": {},
   "outputs": [
    {
     "data": {
      "image/png": "[encoded data removed]",
      "text/plain": [
       "<Figure size 432x288 with 1 Axes>"
      ]
     },
     "metadata": {
      "needs_background": "light"
     },
     "output_type": "display_data"
    }
   ],
   "source": [
    "plt.plot(R_peak[5],R_peak_amplitude[5],\"ro\")\n",
    "Plot_ECG(preprocess_train[5].cpu(),start=0,end=30)"
   ]
  },
  {
   "cell_type": "code",
   "execution_count": null,
   "metadata": {},
   "outputs": [],
   "source": [
    "RR_interval = [R_peak[i][1:]-R_peak[i][0:-1] for i in range(len(R_peak))]"
   ]
  },
  {
   "cell_type": "code",
   "execution_count": null,
   "metadata": {},
   "outputs": [],
   "source": []
  },
  {
   "cell_type": "markdown",
   "metadata": {},
   "source": [
    "for i in range(len(RR_std)):\n",
    "    print((i,RR_std[i], train_labels[i,-2]))"
   ]
  },
  {
   "cell_type": "code",
   "execution_count": null,
   "metadata": {},
   "outputs": [],
   "source": [
    "plt.plot(RR_std, train_labels[:,-2], \"ro\")"
   ]
  },
  {
   "cell_type": "code",
   "execution_count": null,
   "metadata": {},
   "outputs": [],
   "source": [
    "kendalltau(RR_std, train_labels[:,-2])"
   ]
  },
  {
   "cell_type": "markdown",
   "metadata": {},
   "source": [
    "\"PR_Mean\", \"RT_Mean\""
   ]
  },
  {
   "cell_type": "code",
   "execution_count": 33,
   "metadata": {},
   "outputs": [],
   "source": [
    "S_numpy = preprocess_train.cpu().numpy()"
   ]
  },
  {
   "cell_type": "code",
   "execution_count": 34,
   "metadata": {},
   "outputs": [],
   "source": [
    "listoftemplate = []\n",
    "listofQRS_offset = []\n",
    "listofT_peak = []\n",
    "listofT_offset = []\n",
    "listofQRS_onset = []\n",
    "listofP_peak = []\n",
    "listofP_onset = []\n",
    "listofR_Peak = []\n",
    "\n",
    "\n",
    "for recording in range(len(R_peak)):\n",
    "    #generate the template\n",
    "    half_size_int = int(RR_interval_mean[recording]//2)\n",
    "    template = np.ones((1,int(half_size_int*0.8)+int(half_size_int*1.2)))\n",
    "    for i in R_peak[recording][1:-1]:\n",
    "        new_heart_beat = S_numpy[recording][int(i)-int(half_size_int*0.8): int(i)+int(half_size_int*1.2)]\n",
    "        template = np.concatenate((template,\n",
    "                                   np.expand_dims(new_heart_beat, axis = 0))\n",
    "                                   , axis=0)\n",
    "    \n",
    "    \n",
    "    template = np.mean(template, axis = 0)\n",
    "    \n",
    "    #find QRS offset\n",
    "    derivative = template[1:] - template[:-1] \n",
    "    TA = np.array([])\n",
    "    TDA = np.array([])\n",
    "    for i in range(int(half_size_int*0.8)+1, int(half_size_int*0.8)+25):\n",
    "        TA = np.append(TA,np.max(template[i:i+4]) - np.min(template[i:i+4])) \n",
    "        TDA = np.append(TDA,np.max(derivative[i:i+4]) - np.min(derivative[i:i+4]))\n",
    "    c1 = 0.1\n",
    "    c2 = 0.1\n",
    "    TT = c1 * (np.max(TA) - np.min(TA)) + np.min(TA)\n",
    "    TD = c2 * (np.max(TDA) - np.min(TDA)) + np.min(TDA)\n",
    "    \n",
    "    for i in range(0, len(TA)):\n",
    "        if TA[i] < TT or TDA[i] < TD:\n",
    "            QRS_offset = i + int(half_size_int*0.8) + 4\n",
    "            break\n",
    "        \n",
    "    #find T peak\n",
    "    T_peak = QRS_offset + np.argmax(template[QRS_offset:])\n",
    "    \n",
    "    #find T wave offset\n",
    "    \n",
    "    k = (template[T_peak] - template[-1])/(T_peak-len(template))\n",
    "    d = template[-1] - k*len(template)\n",
    "    g = k*np.arange(0,len(template)) + d\n",
    "    decision = template - g\n",
    "    T_peak_offset = np.argmin(decision[T_peak:len(template)]) + T_peak\n",
    "    \n",
    "    #reverse the template\n",
    "    reverse_template = np.flip(template)\n",
    "    \n",
    "    #Find the QRS onset\n",
    "    derivative = reverse_template[1:] - reverse_template[:-1] \n",
    "    TA = np.array([])\n",
    "    TDA = np.array([])\n",
    "    for i in range(int(half_size_int*1.2)+1, int(half_size_int*1.2)+25):\n",
    "        TA = np.append(TA,np.max(reverse_template[i:i+4]) - np.min(reverse_template[i:i+4])) \n",
    "        TDA = np.append(TDA,np.max(derivative[i:i+4]) - np.min(derivative[i:i+4]))\n",
    "    c1 = 0.5\n",
    "    c2 = 0.5\n",
    "    TT = c1 * (np.max(TA) - np.min(TA)) + np.min(TA)\n",
    "    TD = c2 * (np.max(TDA) - np.min(TDA)) + np.min(TDA)\n",
    "    \n",
    "    for i in range(0, len(TA)):\n",
    "        if TA[i] < TT or TDA[i] < TD:\n",
    "            QRS_onset = i + int(half_size_int*1.2) + 4\n",
    "            break\n",
    "    \n",
    "    #Find the P peak\n",
    "    P_peak = QRS_onset + np.argmax(reverse_template[QRS_onset:])  \n",
    "    \n",
    "    #Find the P onset\n",
    "    \n",
    "    k = (reverse_template[P_peak] - reverse_template[-1])/(P_peak-len(reverse_template))\n",
    "    d = reverse_template[-1] - k*len(reverse_template)\n",
    "    g = k*np.arange(0,len(reverse_template)) + d\n",
    "    decision = reverse_template - g\n",
    "    P_onset = np.argmin(decision[P_peak:len(reverse_template)]) + P_peak\n",
    "    \n",
    "    \n",
    "    P_peak = len(template)-P_peak-1\n",
    "    QRS_onset = len(template)-QRS_onset-1\n",
    "    P_onset = len(template)-P_onset-1\n",
    "    \n",
    "    \n",
    "    listofR_Peak.append(int(half_size_int*0.8)+1)\n",
    "    listoftemplate.append(template)\n",
    "    listofQRS_offset.append(QRS_offset)\n",
    "    listofT_peak.append(T_peak)\n",
    "    listofT_offset.append(T_peak_offset)\n",
    "    listofQRS_onset.append(QRS_onset)\n",
    "    listofP_peak.append(P_peak)\n",
    "    listofP_onset.append(P_onset)\n",
    "    "
   ]
  },
  {
   "cell_type": "code",
   "execution_count": null,
   "metadata": {},
   "outputs": [],
   "source": [
    "RT_Mean = [T_peak-R_peak+1 for T_peak,R_peak in zip(listofT_peak,listofR_Peak)]\n",
    "PR_Mean = [R_peak-P_onset for R_peak,P_onset in zip(listofR_Peak,listofP_peak)]"
   ]
  },
  {
   "cell_type": "code",
   "execution_count": null,
   "metadata": {},
   "outputs": [],
   "source": [
    "PR_Mean2 = [QRS_onset-P_onset for QRS_onset,P_onset in zip(listofQRS_onset,listofP_onset)]"
   ]
  },
  {
   "cell_type": "code",
   "execution_count": null,
   "metadata": {},
   "outputs": [],
   "source": [
    "plt.plot(PR_Mean, train_labels[:,0], \"ro\")"
   ]
  },
  {
   "cell_type": "code",
   "execution_count": null,
   "metadata": {},
   "outputs": [],
   "source": [
    "kendalltau(PR_Mean, train_labels[:,0])"
   ]
  },
  {
   "cell_type": "code",
   "execution_count": null,
   "metadata": {},
   "outputs": [],
   "source": [
    "plt.plot(RT_Mean, train_labels[:,-3], \"ro\")"
   ]
  },
  {
   "cell_type": "code",
   "execution_count": null,
   "metadata": {},
   "outputs": [],
   "source": [
    "kendalltau(RT_Mean, train_labels[:,-3])"
   ]
  },
  {
   "cell_type": "code",
   "execution_count": null,
   "metadata": {},
   "outputs": [],
   "source": [
    "index_nb = 8\n",
    "vizualize_ECG(listoftemplate[index_nb],0,len(listoftemplate[index_nb]),seconde=False)\n",
    "plt.plot(listofR_Peak[index_nb]-1, listoftemplate[index_nb][listofR_Peak[index_nb]-1], \"o\")\n",
    "plt.plot(listofQRS_offset[index_nb], listoftemplate[index_nb][listofQRS_offset[index_nb]], \"o\")\n",
    "plt.plot(listofT_peak[index_nb], listoftemplate[index_nb][listofT_peak[index_nb]], \"o\")\n",
    "plt.plot(listofT_offset[index_nb], listoftemplate[index_nb][listofT_offset[index_nb]], \"o\")\n",
    "plt.plot(listofQRS_onset[index_nb], listoftemplate[index_nb][listofQRS_onset[index_nb]], \"o\")\n",
    "plt.plot(listofP_peak[index_nb], listoftemplate[index_nb][listofP_peak[index_nb]], \"o\")\n",
    "plt.plot(listofP_onset[index_nb], listoftemplate[index_nb][listofP_onset[index_nb]], \"o\")\n",
    "plt.legend([\"\",\"R\",\"QRS offset\", \"T\", \"T offset\", \"QRS onset\",\"P\", \"P onset\" ])"
   ]
  },
  {
   "cell_type": "markdown",
   "metadata": {},
   "source": [
    "Lets try to improve the result by adding a layer of machine learning"
   ]
  },
  {
   "cell_type": "code",
   "execution_count": 110,
   "metadata": {},
   "outputs": [],
   "source": [
    "import pandas as pd"
   ]
  },
  {
   "cell_type": "code",
   "execution_count": 111,
   "metadata": {},
   "outputs": [],
   "source": [
    "ECG_train = pd.DataFrame()"
   ]
  },
  {
   "cell_type": "code",
   "execution_count": 113,
   "metadata": {},
   "outputs": [],
   "source": [
    "ECG_train[\"heartbeat\"] = RR_interval_mean\n",
    "ECG_train[\"RR_std\"] = RR_std\n",
    "ECG_train[\"RT_Mean\"] = RT_Mean\n",
    "ECG_train[\"PR_Mean\"] = PR_Mean\n",
    "ECG_train[\"QRS_len\"] = [QRS_offset-QRS_onset for QRS_offset,QRS_onset in zip(listofQRS_offset,listofQRS_onset)]\n",
    "ECG_train[\"RT_Mean2\"] = [T_offset-QRS_offset for T_offset,QRS_offset in zip(listofT_offset,listofQRS_offset)]\n",
    "ECG_train[\"PR_Mean2\"] =[QRS_onset-P_onset for QRS_onset,P_onset in zip(listofQRS_onset,listofP_onset)]\n",
    "ECG_train[\"PT_Mean\"] =[T_peak-P_peak for T_peak,P_peak in zip(listofT_peak,listofP_peak)]\n",
    "ECG_train[\"R_peak_amplitude\"] = [listoftemplate[index_nb][R_peak-1] for index_nb, R_peak in enumerate(listofR_Peak)]\n",
    "ECG_train[\"P_peak_amplitude\"] = [listoftemplate[index_nb][P_peak] for index_nb, P_peak in enumerate(listofP_peak)]\n",
    "ECG_train[\"T_peak_amplitude\"] = [listoftemplate[index_nb][T_peak] for index_nb, T_peak in enumerate(listofT_peak)]"
   ]
  },
  {
   "cell_type": "code",
   "execution_count": 115,
   "metadata": {},
   "outputs": [],
   "source": []
  },
  {
   "cell_type": "code",
   "execution_count": 126,
   "metadata": {},
   "outputs": [],
   "source": [
    "idtransformer = id_trasformer()\n",
    "idtransformer.create_dict_ID(train_labels[:,-1])\n",
    "train_labels[:,-1] = idtransformer.Id2Class(train_labels[:,-1])\n",
    "valid_labels[:,-1] = idtransformer.Id2Class(valid_labels[:,-1])"
   ]
  },
  {
   "cell_type": "code",
   "execution_count": 116,
   "metadata": {},
   "outputs": [],
   "source": [
    "x_valid = np.array(ECG_train)"
   ]
  },
  {
   "cell_type": "code",
   "execution_count": 61,
   "metadata": {},
   "outputs": [],
   "source": [
    "x=np.array(ECG_train)"
   ]
  },
  {
   "cell_type": "code",
   "execution_count": 129,
   "metadata": {},
   "outputs": [],
   "source": [
    "shuffle = np.random.permutation(160)\n",
    "train_shuffle = x[shuffle]\n",
    "TrainLabel_shuffle = train_labels[shuffle]\n",
    "valid_shuffle = x_valid[shuffle]\n",
    "ValidLabel_shuffle = valid_labels[shuffle]"
   ]
  },
  {
   "cell_type": "markdown",
   "metadata": {},
   "source": [
    "ID task this will give a baseline to beat"
   ]
  },
  {
   "cell_type": "code",
   "execution_count": 171,
   "metadata": {},
   "outputs": [],
   "source": [
    "from sklearn.ensemble import ExtraTreesClassifier\n",
    "from sklearn.discriminant_analysis import LinearDiscriminantAnalysis"
   ]
  },
  {
   "cell_type": "code",
   "execution_count": 174,
   "metadata": {},
   "outputs": [
    {
     "name": "stderr",
     "output_type": "stream",
     "text": [
      "/miniconda/lib/python3.7/site-packages/sklearn/discriminant_analysis.py:388: UserWarning: Variables are collinear.\n",
      "  warnings.warn(\"Variables are collinear.\")\n"
     ]
    },
    {
     "data": {
      "text/plain": [
       "0.48125"
      ]
     },
     "execution_count": 174,
     "metadata": {},
     "output_type": "execute_result"
    }
   ],
   "source": [
    "forest = LinearDiscriminantAnalysis()\n",
    "forest.fit(train_shuffle, TrainLabel_shuffle[:,-1])\n",
    "y_pred = forest.predict(valid_shuffle)\n",
    "forest.score(valid_shuffle, ValidLabel_shuffle[:,-1])"
   ]
  },
  {
   "cell_type": "code",
   "execution_count": 134,
   "metadata": {},
   "outputs": [
    {
     "name": "stdout",
     "output_type": "stream",
     "text": [
      "0.78125\n"
     ]
    },
    {
     "data": {
      "text/plain": [
       "0.45"
      ]
     },
     "execution_count": 134,
     "metadata": {},
     "output_type": "execute_result"
    }
   ],
   "source": [
    "forest = ExtraTreesClassifier(n_estimators=1000,\n",
    "                              random_state=0, oob_score=True, bootstrap=True)\n",
    "forest.fit(train_shuffle, TrainLabel_shuffle[:,-1])\n",
    "print(forest.oob_score_)\n",
    "y_pred = forest.predict(valid_shuffle)\n",
    "forest.score(valid_shuffle, ValidLabel_shuffle[:,-1])"
   ]
  },
  {
   "cell_type": "code",
   "execution_count": 175,
   "metadata": {},
   "outputs": [
    {
     "name": "stdout",
     "output_type": "stream",
     "text": [
      "0.46451612903225814\n"
     ]
    }
   ],
   "source": [
    "ecgIdAccuracy = recall_score(ValidLabel_shuffle[:,-1], y_pred, average='macro')\n",
    "adjustementTerm = 1.0 / len(np.unique(ValidLabel_shuffle[:,-1]))\n",
    "ecgIdAccuracy = (ecgIdAccuracy - adjustementTerm) / (1 - adjustementTerm)\n",
    "if ecgIdAccuracy < 0:\n",
    "    ecgIdAccuracy = 0.0\n",
    "print(ecgIdAccuracy)"
   ]
  },
  {
   "cell_type": "markdown",
   "metadata": {},
   "source": [
    "Regression Task"
   ]
  },
  {
   "cell_type": "code",
   "execution_count": 147,
   "metadata": {},
   "outputs": [],
   "source": []
  },
  {
   "cell_type": "code",
   "execution_count": 152,
   "metadata": {},
   "outputs": [
    {
     "data": {
      "text/plain": [
       "KendalltauResult(correlation=0.841621133556427, pvalue=3.361077295023981e-56)"
      ]
     },
     "execution_count": 152,
     "metadata": {},
     "output_type": "execute_result"
    }
   ],
   "source": [
    "forest = RandomForestRegressor(n_estimators=500,\n",
    "                              random_state=0, bootstrap=True)\n",
    "forest.fit(train_shuffle, TrainLabel_shuffle[:,-2])\n",
    "y_pred = forest.predict(valid_shuffle)\n",
    "kendalltau(y_pred, ValidLabel_shuffle[:,-2])"
   ]
  },
  {
   "cell_type": "code",
   "execution_count": 153,
   "metadata": {},
   "outputs": [
    {
     "data": {
      "text/plain": [
       "KendalltauResult(correlation=0.8685327989136057, pvalue=1.0143556843011926e-59)"
      ]
     },
     "execution_count": 153,
     "metadata": {},
     "output_type": "execute_result"
    }
   ],
   "source": [
    "forest = RandomForestRegressor(n_estimators=500,\n",
    "                              random_state=0, bootstrap=True)\n",
    "forest.fit(train_shuffle, TrainLabel_shuffle[:,-3])\n",
    "y_pred = forest.predict(valid_shuffle)\n",
    "kendalltau(y_pred, ValidLabel_shuffle[:,-3])"
   ]
  },
  {
   "cell_type": "code",
   "execution_count": 154,
   "metadata": {},
   "outputs": [
    {
     "data": {
      "text/plain": [
       "KendalltauResult(correlation=0.843528867168673, pvalue=1.9595342735005284e-56)"
      ]
     },
     "execution_count": 154,
     "metadata": {},
     "output_type": "execute_result"
    }
   ],
   "source": [
    "forest = RandomForestRegressor(n_estimators=500,\n",
    "                              random_state=0, bootstrap=True)\n",
    "forest.fit(train_shuffle, TrainLabel_shuffle[:,-4])\n",
    "y_pred = forest.predict(valid_shuffle)\n",
    "kendalltau(y_pred, ValidLabel_shuffle[:,-4])"
   ]
  },
  {
   "cell_type": "markdown",
   "metadata": {},
   "source": [
    "No improvement here"
   ]
  },
  {
   "cell_type": "code",
   "execution_count": 156,
   "metadata": {},
   "outputs": [],
   "source": [
    "from sklearn.linear_model import LinearRegression"
   ]
  },
  {
   "cell_type": "code",
   "execution_count": 160,
   "metadata": {},
   "outputs": [
    {
     "name": "stdout",
     "output_type": "stream",
     "text": [
      "KendalltauResult(correlation=0.7024689503434867, pvalue=1.1128367743913108e-39)\n",
      "KendalltauResult(correlation=0.8812706509346092, pvalue=1.975081609541191e-61)\n",
      "KendalltauResult(correlation=0.8350171003739197, pvalue=2.380900142611868e-55)\n"
     ]
    }
   ],
   "source": [
    "for i in range(3):\n",
    "    linear = LinearRegression()\n",
    "    linear.fit(train_shuffle, TrainLabel_shuffle[:,i])\n",
    "    y_pred = linear.predict(valid_shuffle)\n",
    "    print(kendalltau(y_pred, ValidLabel_shuffle[:,i]))"
   ]
  },
  {
   "cell_type": "markdown",
   "metadata": {},
   "source": [
    "No improvement also"
   ]
  },
  {
   "cell_type": "code",
   "execution_count": 23,
   "metadata": {},
   "outputs": [
    {
     "data": {
      "image/png": "[encoded data removed]",
      "text/plain": [
       "<Figure size 432x288 with 1 Axes>"
      ]
     },
     "metadata": {
      "needs_background": "light"
     },
     "output_type": "display_data"
    },
    {
     "data": {
      "image/png": "[encoded data removed]",
      "text/plain": [
       "<Figure size 432x288 with 1 Axes>"
      ]
     },
     "metadata": {
      "needs_background": "light"
     },
     "output_type": "display_data"
    },
    {
     "data": {
      "image/png": "[encoded data removed]",
      "text/plain": [
       "<Figure size 432x288 with 1 Axes>"
      ]
     },
     "metadata": {
      "needs_background": "light"
     },
     "output_type": "display_data"
    },
    {
     "data": {
      "image/png": "[encoded data removed]",
      "text/plain": [
       "<Figure size 432x288 with 1 Axes>"
      ]
     },
     "metadata": {
      "needs_background": "light"
     },
     "output_type": "display_data"
    },
    {
     "data": {
      "image/png": "[encoded data removed]",
      "text/plain": [
       "<Figure size 432x288 with 1 Axes>"
      ]
     },
     "metadata": {
      "needs_background": "light"
     },
     "output_type": "display_data"
    },
    {
     "data": {
      "image/png": "[encoded data removed]",
      "text/plain": [
       "<Figure size 432x288 with 1 Axes>"
      ]
     },
     "metadata": {
      "needs_background": "light"
     },
     "output_type": "display_data"
    },
    {
     "data": {
      "image/png": "[encoded data removed]",
      "text/plain": [
       "<Figure size 432x288 with 1 Axes>"
      ]
     },
     "metadata": {
      "needs_background": "light"
     },
     "output_type": "display_data"
    },
    {
     "data": {
      "image/png": "[encoded data removed]",
      "text/plain": [
       "<Figure size 432x288 with 1 Axes>"
      ]
     },
     "metadata": {
      "needs_background": "light"
     },
     "output_type": "display_data"
    }
   ],
   "source": [
    "def vizualize_label(label_name=LABELS_NAME, type_data=train_labels):\n",
    "    # Plot histogram of the label to see their distribution\n",
    "    # Not complete \n",
    "    for i, ex in enumerate(label_name):\n",
    "        plt.figure(i*2+1) #to let the index start at 1\n",
    "        plt.title(ex)\n",
    "        plt.hist(train_labels[:,i])\n",
    "        plt.figure(i*2+2)\n",
    "        plt.plot(train_labels[:,-1], train_labels[:,i],\"ro\")\n",
    "    plt.show()\n",
    "    \n",
    "vizualize_label()"
   ]
  }
 ],
 "metadata": {
  "kernelspec": {
   "display_name": "Python 3",
   "language": "python",
   "name": "python3"
  },
  "language_info": {
   "codemirror_mode": {
    "name": "ipython",
    "version": 3
   },
   "file_extension": ".py",
   "mimetype": "text/x-python",
   "name": "python",
   "nbconvert_exporter": "python",
   "pygments_lexer": "ipython3",
   "version": "3.7.1"
  }
 },
 "nbformat": 4,
 "nbformat_minor": 2
}
