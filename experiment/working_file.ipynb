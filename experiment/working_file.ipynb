{
 "cells": [
  {
   "cell_type": "code",
   "execution_count": 1,
   "metadata": {},
   "outputs": [],
   "source": [
    "import matplotlib.pyplot as plt\n",
    "%matplotlib inline"
   ]
  },
  {
   "cell_type": "code",
   "execution_count": 2,
   "metadata": {},
   "outputs": [],
   "source": [
    "import os\n",
    "import torch\n",
    "import torch.nn as nn\n",
    "import torch.nn.functional as F\n",
    "import math"
   ]
  },
  {
   "cell_type": "code",
   "execution_count": 3,
   "metadata": {},
   "outputs": [],
   "source": [
    "import numpy as np\n",
    "from scipy.stats import kendalltau\n",
    "from sklearn.metrics import recall_score\n",
    "from sklearn.ensemble import RandomForestRegressor"
   ]
  },
  {
   "cell_type": "code",
   "execution_count": 4,
   "metadata": {},
   "outputs": [],
   "source": [
    "def read_memfile(filename, shape, dtype='float32'):\n",
    "    # read binary data and return as a numpy array\n",
    "    fp = np.memmap(filename, dtype=dtype, mode='r', shape=shape)\n",
    "    data = np.zeros(shape=shape, dtype=dtype)\n",
    "    data[:] = fp[:]\n",
    "    del fp\n",
    "    return data"
   ]
  },
  {
   "cell_type": "code",
   "execution_count": 5,
   "metadata": {},
   "outputs": [],
   "source": [
    "def write_memfile(data, filename):\n",
    "    # write a numpy array 'data' into a binary  data file specified by\n",
    "    # 'filename'\n",
    "    shape = data.shape\n",
    "    dtype = data.dtype\n",
    "    fp = np.memmap(filename, dtype=dtype, mode='w+', shape=shape)\n",
    "    fp[:] = data[:]\n",
    "    del fp"
   ]
  },
  {
   "cell_type": "code",
   "execution_count": 6,
   "metadata": {},
   "outputs": [],
   "source": [
    "ROOT_DIR = '/rap/jvb-000-aa/COURS2019/etudiants/data/omsignal/myHeartProject/'\n",
    "TRAIN_LABELED_FILE = 'MILA_TrainLabeledData.dat'\n",
    "VALIDATION_LABELED_FILE =  'MILA_ValidationLabeledData.dat'\n",
    "\n",
    "TRAIN_LABELED_FILE = 'MILA_TrainLabeledData.dat'\n",
    "VALIDATION_LABELED_FILE = 'MILA_ValidationLabeledData.dat'\n",
    "LABELS_NAME = [\"PR_Mean\", \"RT_Mean\", \"RR_StdDev\", \"ID\"]\n",
    "\n",
    "train_labeled_data_file = os.path.join(ROOT_DIR, TRAIN_LABELED_FILE)\n",
    "validation_labeled_data_file = os.path.join(ROOT_DIR, VALIDATION_LABELED_FILE)"
   ]
  },
  {
   "cell_type": "code",
   "execution_count": 7,
   "metadata": {},
   "outputs": [],
   "source": [
    "datatrain = read_memfile(train_labeled_data_file, shape=(160,3754))\n",
    "train_data, train_labels = datatrain[:,:-4], datatrain[:,-4:]"
   ]
  },
  {
   "cell_type": "code",
   "execution_count": 8,
   "metadata": {},
   "outputs": [],
   "source": [
    "datavalid = read_memfile(validation_labeled_data_file, shape=(160,3754))\n",
    "valid_data, valid_labels = datavalid[:,:-4], datavalid[:,-4:]"
   ]
  },
  {
   "cell_type": "code",
   "execution_count": 9,
   "metadata": {},
   "outputs": [],
   "source": [
    "class Preprocessor(nn.Module):\n",
    "\n",
    "    def __init__(\n",
    "            self,\n",
    "            ma_window_size=2,\n",
    "            mv_window_size=4,\n",
    "            num_samples_per_second=125):\n",
    "        # ma_window_size: (in seconds) window size to use\n",
    "        #                 for moving average baseline wander removal\n",
    "        # mv_window_size: (in seconds) window size to use\n",
    "        #                 for moving average RMS normalization\n",
    "\n",
    "        super(Preprocessor, self).__init__()\n",
    "\n",
    "        # Kernel size to use for moving average baseline wander removal: 2\n",
    "        # seconds * 125 HZ sampling rate, + 1 to make it odd\n",
    "\n",
    "        self.maKernelSize = (ma_window_size * num_samples_per_second) + 1\n",
    "\n",
    "        # Kernel size to use for moving average normalization: 4\n",
    "        # seconds * 125 HZ sampling rate , + 1 to make it odd\n",
    "\n",
    "        self.mvKernelSize = (mv_window_size * num_samples_per_second) + 1\n",
    "\n",
    "    def forward(self, x):\n",
    "\n",
    "        with torch.no_grad():\n",
    "            x = x.unsqueeze(0)\n",
    "            \n",
    "\n",
    "            # Remove window mean and standard deviation\n",
    "\n",
    "            x = (x - torch.mean(x, dim=2, keepdim=True)) / \\\n",
    "                (torch.std(x, dim=2, keepdim=True) + 0.00001)\n",
    "\n",
    "            # Moving average baseline wander removal\n",
    "\n",
    "            x = x - F.avg_pool1d(\n",
    "                x, kernel_size=self.maKernelSize,\n",
    "                stride=1, padding=(self.maKernelSize - 1) // 2\n",
    "            )\n",
    "\n",
    "            # Moving RMS normalization\n",
    "\n",
    "            x = x / (\n",
    "                torch.sqrt(\n",
    "                    F.avg_pool1d(\n",
    "                        torch.pow(x, 2),\n",
    "                        kernel_size=self.mvKernelSize,\n",
    "                        stride=1, padding=(self.mvKernelSize - 1) // 2\n",
    "                    )) + 0.00001\n",
    "            )\n",
    "\n",
    "        # Don't backpropagate further\n",
    "\n",
    "        x = x.detach().contiguous()\n",
    "\n",
    "        return x.squeeze(0)"
   ]
  },
  {
   "cell_type": "code",
   "execution_count": 10,
   "metadata": {},
   "outputs": [],
   "source": [
    "def Plot_ECG(data, start=0, end=30, index_nb=[0], seconde=True):\n",
    "    \"\"\"\n",
    "    Plot the ECG on a user defined time interval\n",
    "    \n",
    "    Parameters\n",
    "    ----------\n",
    "    data : numpy array\n",
    "        The ECG Data\n",
    "    start: int\n",
    "        The starting time of the part of the ECG you want to plot\n",
    "    end: int\n",
    "        The End time of the part of the ECG you want to plot\n",
    "    index_nb: List\n",
    "        The index of the observation you want to plot\n",
    "    seconde: boolean\n",
    "        Used True if the start time is in seconde\n",
    "    \"\"\"\n",
    "    # Adjust the shape in order to have 2 dimension\n",
    "    if len(data.shape) == 1:\n",
    "        data = np.expand_dims(data, axis=0)\n",
    "        \n",
    "    # Transform the start and end time \n",
    "    if seconde == True:\n",
    "        start = start*125\n",
    "        end = end*125\n",
    "        \n",
    "    x_labels = np.arange(start, end)\n",
    "             \n",
    "    for i, ex in enumerate(index_nb):\n",
    "        plt.figure(i*2+1) \n",
    "        plt.plot(x_labels, data[ex, start:end])\n",
    "        \n",
    "    plt.show"
   ]
  },
  {
   "cell_type": "code",
   "execution_count": 11,
   "metadata": {},
   "outputs": [],
   "source": [
    "class id_trasformer:\n",
    "    def __init__(self):\n",
    "        self.DictId2Class = {}\n",
    "        self.DictClass2Id = {}\n",
    "        self.n_Id = 0 \n",
    "        \n",
    "    def create_dict_ID(self, ID_vector):\n",
    "        for id in ID_vector:\n",
    "            if id not in self.DictId2Class:\n",
    "                self.DictId2Class[id] = self.n_Id\n",
    "                self.DictClass2Id[self.n_Id] = id\n",
    "                self.n_Id += 1\n",
    "                \n",
    "    def Id2Class(self, ID_vector):\n",
    "        return [self.DictId2Class[id] for id in ID_vector]\n",
    "    \n",
    "    def Class2Id(self, class_vector):\n",
    "        return [self.DictClass2Id[labels] for labels in class_vector]"
   ]
  },
  {
   "cell_type": "code",
   "execution_count": 12,
   "metadata": {},
   "outputs": [],
   "source": [
    "device = torch.device(\"cuda:0\" if torch.cuda.is_available else \"cpu\")"
   ]
  },
  {
   "cell_type": "code",
   "execution_count": 13,
   "metadata": {},
   "outputs": [],
   "source": [
    "preprocessor = Preprocessor().to(device)"
   ]
  },
  {
   "cell_type": "code",
   "execution_count": 14,
   "metadata": {},
   "outputs": [],
   "source": [
    "train = torch.tensor(train_data).to(device)\n",
    "valid =  torch.tensor(valid_data).to(device)\n",
    "preprocess_train = preprocessor(train)\n",
    "preprocess_valid = preprocessor(valid)"
   ]
  },
  {
   "cell_type": "code",
   "execution_count": 15,
   "metadata": {},
   "outputs": [],
   "source": [
    "idtransformer = id_trasformer()\n",
    "idtransformer.create_dict_ID(train_labels[:,-1])\n",
    "train_labels[:,-1] = idtransformer.Id2Class(train_labels[:,-1])\n",
    "valid_labels[:,-1] = idtransformer.Id2Class(valid_labels[:,-1])"
   ]
  },
  {
   "cell_type": "markdown",
   "metadata": {},
   "source": [
    "Algo to detect R P,T peak and onset offset based on https://pure.tugraz.at/ws/portalfiles/portal/1312717/Online%20and%20Offline%20Determination%20of%20QT%20PR%20in%20Electrocardiography%20LNCS%207719.pdfdf.pdf"
   ]
  },
  {
   "cell_type": "code",
   "execution_count": 16,
   "metadata": {},
   "outputs": [],
   "source": [
    "def detect_R_peak(data, SADA_wd_size = 7, FS_wd_size = 12, Threshold = 35):\n",
    "    \"\"\"\n",
    "    Take a Batch of ECG data and find the location of the R Peak\n",
    "    \n",
    "    The algorithm is based on the paper:\n",
    "    Online and Offline Determination of QT and PR Interval and QRS Duration in Electrocardiography\n",
    "    (Bachler et al., 2012)\n",
    "    The variable name and default value follow the paper\n",
    "    \n",
    "    Parameters\n",
    "    ----------\n",
    "    data : numpy array\n",
    "        The ECG Data (batch size x lenght of the ECG recording)\n",
    "    SADA_wd_size: int\n",
    "        size of the moving window used in the calculation of SA and DA\n",
    "    FS_wd_size: int\n",
    "        size of the moving window used in the calculation of the feature signal FS\n",
    "    Threshold: int\n",
    "        FS is compared to the Threshold to determined if its a QRS zone. \n",
    "    \"\"\"\n",
    "    \n",
    "    R_peak = []\n",
    "    \n",
    "    #Allow batch size of 1\n",
    "    if len(data.size()) == 1:\n",
    "        data = data.unsqueeze(0)\n",
    "    \n",
    "    D = data[:, 1:] - data[:, 0:-1]\n",
    "    \n",
    "    \n",
    "    data = data.unsqueeze(0)\n",
    "    D = D.unsqueeze(0)\n",
    "    SA = F.max_pool1d(data, kernel_size = SADA_wd_size, stride = 1)\n",
    "    SA = SA + F.max_pool1d(-data, kernel_size = SADA_wd_size, stride = 1) \n",
    "    DA = F.max_pool1d(D, kernel_size = SADA_wd_size, stride = 1, padding=1)\n",
    "    DA = DA + F.max_pool1d(-D, kernel_size = SADA_wd_size, stride = 1, padding=1) \n",
    "    \n",
    "    C = DA[:,:,1:] * torch.pow(SA, 2)\n",
    "    FS = F.max_pool1d(C, kernel_size = FS_wd_size, stride = 1) \n",
    "    Detect = (FS > Threshold)\n",
    "    \n",
    "    Detect = Detect.squeeze(0).cpu()\n",
    "    data = data.squeeze(0).cpu()\n",
    "\n",
    "    for ECG in range(len(data)):\n",
    "        \n",
    "        in_QRS = 0\n",
    "        start_QRS = 0\n",
    "        end_QRS = 0\n",
    "        r_peak = np.array([])\n",
    "        \n",
    "        for tick, detect in enumerate(Detect[ECG]):\n",
    "            \n",
    "            if (in_QRS == 0) and (detect == 1):\n",
    "                start_QRS = tick\n",
    "                in_QRS = 1\n",
    "                \n",
    "            elif (in_QRS == 1) and (detect == 0):\n",
    "                end_QRS = tick\n",
    "                R_tick = torch.argmax(data[ECG, start_QRS : end_QRS+SADA_wd_size+FS_wd_size]).item()\n",
    "                r_peak = np.append(r_peak, R_tick + start_QRS)\n",
    "                in_QRS = 0\n",
    "                start_QRS = 0\n",
    "                \n",
    "        R_peak.append(r_peak)\n",
    "        \n",
    "    return R_peak"
   ]
  },
  {
   "cell_type": "code",
   "execution_count": 17,
   "metadata": {},
   "outputs": [],
   "source": [
    "R_peak_train = detect_R_peak(preprocess_train)\n",
    "R_peak_valid = detect_R_peak(preprocess_valid)"
   ]
  },
  {
   "cell_type": "code",
   "execution_count": 18,
   "metadata": {},
   "outputs": [],
   "source": [
    "def Get_RR_Mean_std(R_peak, MaxInterval=180):\n",
    "    \"\"\"\n",
    "    Calculate the mean RR interval and the std\n",
    "    \n",
    "    Parameters\n",
    "    ----------\n",
    "    R_peak : list of list\n",
    "        Each entry is a list of the positiion of the R peak in the ECG\n",
    "    MaxInterval: int\n",
    "        maximum lenght of an interval, interval higher than this amount are ignore\n",
    "    \"\"\"\n",
    "    #calculate the lenght of the interval\n",
    "    RR_interval = [R_peak[i][1:]-R_peak[i][0:-1] for i in range(len(R_peak))]\n",
    "    \n",
    "    #We keep only good quality one\n",
    "    RR_interval_adj = [interval[interval<180] for interval in RR_interval]\n",
    "    \n",
    "\n",
    "    RR_interval_mean = [np.mean(interval) for interval in RR_interval_adj]    \n",
    "    RR_std = [np.std(interval) for interval in RR_interval_adj]\n",
    "    \n",
    "    return RR_interval_mean, RR_std"
   ]
  },
  {
   "cell_type": "code",
   "execution_count": 19,
   "metadata": {},
   "outputs": [],
   "source": [
    "Train_RR_mean, Train_RR_std = Get_RR_Mean_std(R_peak_train)\n",
    "Valid_RR_mean, Valid_RR_std = Get_RR_Mean_std(R_peak_valid)"
   ]
  },
  {
   "cell_type": "code",
   "execution_count": 20,
   "metadata": {},
   "outputs": [],
   "source": [
    "def create_template(data, R_peak, template_size = 110, All_window = True):\n",
    "    \n",
    "    listoftemplate1 = []\n",
    "    listoftemplate2 = []\n",
    "    half_size_int = template_size//2\n",
    "    listECG_id = []\n",
    "    \n",
    "    for recording in range(len(data)):\n",
    "        template = []\n",
    "        ECG_id = []\n",
    "        #generate the template      \n",
    "        \n",
    "        for i in R_peak[recording][1:-1]:\n",
    "            new_heart_beat = data[recording][int(i)-int(half_size_int*0.8): int(i)+int(half_size_int*1.2)]\n",
    "            if len(new_heart_beat) != 110:\n",
    "                print(\"error\")\n",
    "            template.append(new_heart_beat)\n",
    "            \n",
    "            if All_window:\n",
    "                ECG_id.append(recording)        \n",
    "\n",
    "        if All_window == False:\n",
    "            template = np.mean(template, axis = 0)\n",
    "            template = np.expand_dims(template, axis = 0)\n",
    "            ECG_id.append(recording)  \n",
    "            \n",
    "        listoftemplate1 = listoftemplate1 + template\n",
    "        listECG_id = listECG_id + ECG_id\n",
    "        \n",
    "        \n",
    "    #listoftemplate = [hearth_beat for hearth_beat in template for template in listoftemplate]\n",
    "    return np.array(listoftemplate1), np.array(listECG_id)"
   ]
  },
  {
   "cell_type": "code",
   "execution_count": 21,
   "metadata": {},
   "outputs": [],
   "source": [
    "def create_template_average(data, R_peak, template_size = 110):\n",
    "    half_size_int = template_size//2\n",
    "    listoftemplate = []\n",
    "    for recording in range(len(R_peak)):\n",
    "        #generate the template\n",
    "        template = np.zeros((1,int(half_size_int*0.8)+int(half_size_int*1.2)))\n",
    "        for i in R_peak[recording][1:-1]:\n",
    "            new_heart_beat = data[recording][int(i)-int(half_size_int*0.8): int(i)+int(half_size_int*1.2)]\n",
    "            template = np.concatenate((template,\n",
    "                                       np.expand_dims(new_heart_beat, axis = 0))\n",
    "                                       , axis=0)\n",
    "\n",
    "\n",
    "        template = np.mean(template, axis = 0)\n",
    "        listoftemplate.append(template)\n",
    "        \n",
    "        \n",
    "        \n",
    "    #listoftemplate = [hearth_beat for hearth_beat in template for template in listoftemplate]\n",
    "    return listoftemplate"
   ]
  },
  {
   "cell_type": "code",
   "execution_count": 22,
   "metadata": {},
   "outputs": [],
   "source": [
    "template_valid, t_valid_labels = create_template(preprocess_valid.cpu().numpy(),  R_peak_valid)\n",
    "template_train, t_train_labels = create_template(preprocess_train.cpu().numpy(), R_peak_train)"
   ]
  },
  {
   "cell_type": "code",
   "execution_count": 23,
   "metadata": {},
   "outputs": [],
   "source": [
    "Avg_template_valid = create_template_average(preprocess_valid.cpu().numpy(),  R_peak_valid)\n",
    "Avg_template_train = create_template_average(preprocess_train.cpu().numpy(), R_peak_train)\n",
    "Avg_template_train = np.array(Avg_template_train)\n",
    "Avg_template_valid = np.array(Avg_template_valid)"
   ]
  },
  {
   "cell_type": "code",
   "execution_count": 24,
   "metadata": {},
   "outputs": [],
   "source": [
    "dictECG_id_to_labels1 = {i:j for i, j in enumerate(train_labels[:,-1])}\n",
    "dictECG_id_to_labels2 = {i:j for i, j in enumerate(valid_labels[:,-1])}\n",
    "labels_train = np.array([dictECG_id_to_labels1[i] for i in t_train_labels])\n",
    "labels_valid = np.array([dictECG_id_to_labels2[i] for i in t_valid_labels])"
   ]
  },
  {
   "cell_type": "markdown",
   "metadata": {},
   "source": [
    "Convolution for classification on all window"
   ]
  },
  {
   "cell_type": "code",
   "execution_count": 24,
   "metadata": {},
   "outputs": [],
   "source": [
    "import torch\n",
    "from torchvision import models,transforms,datasets\n",
    "import torch.nn as nn\n",
    "import torch.nn.functional as F\n",
    "import matplotlib.pyplot as plt\n",
    "%matplotlib inline \n",
    "import torch.optim as optim\n",
    "from PIL import Image\n",
    "import copy\n",
    "import numpy as np\n",
    "import torchvision\n",
    "import os"
   ]
  },
  {
   "cell_type": "code",
   "execution_count": 26,
   "metadata": {},
   "outputs": [],
   "source": [
    "data_train = torch.Tensor(template_train)\n",
    "labels_train_t = torch.LongTensor(labels_train)\n",
    "trainloader = torch.utils.data.TensorDataset(data_train, labels_train_t)\n",
    "loader_train = torch.utils.data.DataLoader(trainloader, batch_size=128, shuffle = True)\n",
    "\n",
    "data_valid = torch.Tensor(template_valid)\n",
    "labels_valid_t = torch.LongTensor(labels_valid)\n",
    "validloader = torch.utils.data.TensorDataset(data_valid, labels_valid_t)\n",
    "loader_valid = torch.utils.data.DataLoader(validloader, batch_size=128, shuffle = False)"
   ]
  },
  {
   "cell_type": "code",
   "execution_count": 27,
   "metadata": {},
   "outputs": [],
   "source": [
    "class Net(nn.Module):\n",
    "    def __init__(self):\n",
    "        super(Net,self).__init__()\n",
    "        self.conv1=nn.Conv1d(1,10,kernel_size=5) #22\n",
    "        self.conv2=nn.Conv1d(10,20,kernel_size=5) #18\n",
    "        self.drop_conv2=nn.Dropout2d(p=0.5) #4\n",
    "        self.fc1=nn.Linear(60,50)\n",
    "        self.drop_lin=nn.Dropout(p=0.5)\n",
    "        self.fc2=nn.Linear(50,32)\n",
    "    \n",
    "    def forward(self,x):\n",
    "        x = x.unsqueeze(1)\n",
    "        x=F.relu(F.max_pool1d(self.conv1(x),5))\n",
    "        x=F.relu(F.max_pool1d(self.drop_conv2(self.conv2(x)),5))\n",
    "        x=x.view(-1,60)\n",
    "        x=F.relu(self.drop_lin(self.fc1(x)))\n",
    "        x=F.log_softmax(self.fc2(x), dim = 1)\n",
    "    \n",
    "        return x"
   ]
  },
  {
   "cell_type": "code",
   "execution_count": 28,
   "metadata": {},
   "outputs": [],
   "source": [
    "model = Net().to(device)"
   ]
  },
  {
   "cell_type": "code",
   "execution_count": 29,
   "metadata": {},
   "outputs": [],
   "source": [
    "def train(num_epochs, model, lr = 0.1):\n",
    "  \n",
    "    optmizer=optim.SGD(model.parameters(),lr=lr)\n",
    "    best_model=best_model=copy.deepcopy(model)\n",
    "    best_accuracy=0\n",
    "    best_epoch=0\n",
    "  \n",
    "    for i in range(num_epochs):\n",
    "\n",
    "        for mode in [\"train\",\"eval\"]:\n",
    "\n",
    "            accuracy=0\n",
    "            loss_total=0\n",
    "\n",
    "            if mode == \"train\":\n",
    "\n",
    "                model.train()\n",
    "                for data, labels in loader_train:\n",
    "                    data, labels=data.to(device), labels.to(device)\n",
    "                    optmizer.zero_grad()\n",
    "\n",
    "                    output=model(data)\n",
    "                    pred=torch.argmax(output,1)\n",
    "                    loss=F.nll_loss(output, labels)\n",
    "\n",
    "                    accuracy+=(pred==labels).sum()\n",
    "                    loss_total+=loss\n",
    "\n",
    "                    loss.backward()\n",
    "                    optmizer.step()\n",
    "\n",
    "                if i % 25 == 0:\n",
    "                    print(f\"Epoch{i} Training loss: {loss_total.item()}\")\n",
    "                    print(f\"Training Accuracy:{accuracy.item()/len(loader_train.dataset)}\")\n",
    "\n",
    "            if mode == \"eval\":\n",
    "\n",
    "                model.eval()\n",
    "                for data, labels in loader_valid:\n",
    "                    data, labels=data.to(device), labels.to(device)\n",
    "\n",
    "                    with torch.no_grad():\n",
    "                        optmizer.zero_grad()\n",
    "\n",
    "                        output=model(data)\n",
    "                        pred=torch.argmax(output,1)\n",
    "                        loss=F.nll_loss(output, labels)\n",
    "\n",
    "                        accuracy+=(pred==labels).sum()\n",
    "                        loss_total+=loss\n",
    "\n",
    "                accuracy=accuracy.item()/len(loader_valid.dataset)\n",
    "\n",
    "                if i % 25 == 0:\n",
    "                    print(f\"Eval loss: {loss_total.item()}\")\n",
    "                    print(f\"Eval Accuracy:{accuracy}\")\n",
    "\n",
    "                if accuracy > best_accuracy:\n",
    "                    best_accuracy=accuracy\n",
    "                    best_model=copy.deepcopy(model)\n",
    "                    best_epoch=i\n",
    "\n",
    "    print(f\"The best epoch:{best_epoch} with an accuracy of {best_accuracy}\")\n",
    "\n",
    "    return best_model"
   ]
  },
  {
   "cell_type": "code",
   "execution_count": 30,
   "metadata": {},
   "outputs": [
    {
     "name": "stdout",
     "output_type": "stream",
     "text": [
      "Epoch0 Training loss: 138.5193634033203\n",
      "Training Accuracy:0.03940886699507389\n",
      "Eval loss: 137.77752685546875\n",
      "Eval Accuracy:0.042625575345207126\n",
      "Epoch25 Training loss: 73.34390258789062\n",
      "Training Accuracy:0.39408866995073893\n",
      "Eval loss: 113.19097900390625\n",
      "Eval Accuracy:0.29817890734440666\n",
      "Epoch50 Training loss: 52.96660232543945\n",
      "Training Accuracy:0.5747783251231527\n",
      "Eval loss: 118.38907623291016\n",
      "Eval Accuracy:0.3864318591154693\n",
      "Epoch75 Training loss: 44.98758316040039\n",
      "Training Accuracy:0.62935960591133\n",
      "Eval loss: 104.32455444335938\n",
      "Eval Accuracy:0.4930958575145087\n",
      "Epoch100 Training loss: 47.656211853027344\n",
      "Training Accuracy:0.6269950738916256\n",
      "Eval loss: 91.76956176757812\n",
      "Eval Accuracy:0.5173103862317391\n",
      "Epoch125 Training loss: 37.453758239746094\n",
      "Training Accuracy:0.689064039408867\n",
      "Eval loss: 99.57717895507812\n",
      "Eval Accuracy:0.53412047228337\n",
      "Epoch150 Training loss: 34.973731994628906\n",
      "Training Accuracy:0.7129064039408867\n",
      "Eval loss: 92.09479522705078\n",
      "Eval Accuracy:0.5545327196317791\n",
      "Epoch175 Training loss: 36.91762924194336\n",
      "Training Accuracy:0.6949753694581281\n",
      "Eval loss: 90.92375946044922\n",
      "Eval Accuracy:0.5327196317790674\n",
      "Epoch200 Training loss: 33.410213470458984\n",
      "Training Accuracy:0.7201970443349753\n",
      "Eval loss: 91.9308853149414\n",
      "Eval Accuracy:0.5513307984790875\n",
      "Epoch225 Training loss: 31.58729362487793\n",
      "Training Accuracy:0.7375369458128079\n",
      "Eval loss: 88.88980102539062\n",
      "Eval Accuracy:0.57134280568341\n",
      "Epoch250 Training loss: 30.75432586669922\n",
      "Training Accuracy:0.7420689655172413\n",
      "Eval loss: 91.9979248046875\n",
      "Eval Accuracy:0.5755453271963178\n",
      "Epoch275 Training loss: 30.127147674560547\n",
      "Training Accuracy:0.7546798029556651\n",
      "Eval loss: 88.20550537109375\n",
      "Eval Accuracy:0.5837502501500901\n",
      "Epoch300 Training loss: 29.10602378845215\n",
      "Training Accuracy:0.747192118226601\n",
      "Eval loss: 85.62523651123047\n",
      "Eval Accuracy:0.606764058435061\n",
      "Epoch325 Training loss: 29.259057998657227\n",
      "Training Accuracy:0.7538916256157635\n",
      "Eval loss: 97.39442443847656\n",
      "Eval Accuracy:0.5793476085651391\n",
      "Epoch350 Training loss: 28.01200294494629\n",
      "Training Accuracy:0.7733990147783252\n",
      "Eval loss: 84.26334381103516\n",
      "Eval Accuracy:0.6187712627576546\n",
      "Epoch375 Training loss: 27.46984100341797\n",
      "Training Accuracy:0.7651231527093596\n",
      "Eval loss: 96.04348754882812\n",
      "Eval Accuracy:0.5779467680608364\n",
      "Epoch400 Training loss: 26.75751304626465\n",
      "Training Accuracy:0.7812807881773399\n",
      "Eval loss: 81.52362060546875\n",
      "Eval Accuracy:0.631578947368421\n",
      "Epoch425 Training loss: 26.914493560791016\n",
      "Training Accuracy:0.7722167487684729\n",
      "Eval loss: 89.2847900390625\n",
      "Eval Accuracy:0.631578947368421\n",
      "Epoch450 Training loss: 25.632320404052734\n",
      "Training Accuracy:0.7873891625615763\n",
      "Eval loss: 89.9638442993164\n",
      "Eval Accuracy:0.6231739043426056\n",
      "Epoch475 Training loss: 24.845619201660156\n",
      "Training Accuracy:0.7903448275862069\n",
      "Eval loss: 86.18158721923828\n",
      "Eval Accuracy:0.6421853111867121\n",
      "Epoch500 Training loss: 25.70599937438965\n",
      "Training Accuracy:0.7806896551724138\n",
      "Eval loss: 81.64659118652344\n",
      "Eval Accuracy:0.6519911947168301\n",
      "Epoch525 Training loss: 24.302276611328125\n",
      "Training Accuracy:0.7964532019704433\n",
      "Eval loss: 94.36119842529297\n",
      "Eval Accuracy:0.6259755853512107\n",
      "Epoch550 Training loss: 24.385221481323242\n",
      "Training Accuracy:0.8009852216748768\n",
      "Eval loss: 89.27459716796875\n",
      "Eval Accuracy:0.6363818290974584\n",
      "Epoch575 Training loss: 25.410306930541992\n",
      "Training Accuracy:0.7915270935960591\n",
      "Eval loss: 94.65835571289062\n",
      "Eval Accuracy:0.6119671803081849\n",
      "Epoch600 Training loss: 24.698047637939453\n",
      "Training Accuracy:0.8015763546798029\n",
      "Eval loss: 89.24517822265625\n",
      "Eval Accuracy:0.619971983189914\n",
      "Epoch625 Training loss: 23.833919525146484\n",
      "Training Accuracy:0.794679802955665\n",
      "Eval loss: 86.62503814697266\n",
      "Eval Accuracy:0.6467880728437062\n",
      "Epoch650 Training loss: 24.807764053344727\n",
      "Training Accuracy:0.7996059113300492\n",
      "Eval loss: 115.92105102539062\n",
      "Eval Accuracy:0.5691414848909345\n",
      "Epoch675 Training loss: 26.30109214782715\n",
      "Training Accuracy:0.7850246305418719\n",
      "Eval loss: 100.02766418457031\n",
      "Eval Accuracy:0.6119671803081849\n",
      "Epoch700 Training loss: 25.284011840820312\n",
      "Training Accuracy:0.7927093596059114\n",
      "Eval loss: 79.3970718383789\n",
      "Eval Accuracy:0.6537922753652191\n",
      "Epoch725 Training loss: 22.99533462524414\n",
      "Training Accuracy:0.8055172413793104\n",
      "Eval loss: 97.30611419677734\n",
      "Eval Accuracy:0.6451871122673604\n",
      "Epoch750 Training loss: 24.235698699951172\n",
      "Training Accuracy:0.7972413793103448\n",
      "Eval loss: 96.09027862548828\n",
      "Eval Accuracy:0.6397838703221933\n",
      "Epoch775 Training loss: 55.77800750732422\n",
      "Training Accuracy:0.6595073891625616\n",
      "Eval loss: 93.76219177246094\n",
      "Eval Accuracy:0.567740644386632\n",
      "Epoch800 Training loss: 23.943435668945312\n",
      "Training Accuracy:0.7996059113300492\n",
      "Eval loss: 94.37247467041016\n",
      "Eval Accuracy:0.6421853111867121\n",
      "Epoch825 Training loss: 23.564971923828125\n",
      "Training Accuracy:0.8120197044334976\n",
      "Eval loss: 92.02127075195312\n",
      "Eval Accuracy:0.6391835101060637\n",
      "Epoch850 Training loss: 24.386240005493164\n",
      "Training Accuracy:0.7986206896551724\n",
      "Eval loss: 84.97259521484375\n",
      "Eval Accuracy:0.6313788272963778\n",
      "Epoch875 Training loss: 26.225353240966797\n",
      "Training Accuracy:0.7840394088669951\n",
      "Eval loss: 102.99523162841797\n",
      "Eval Accuracy:0.6281769061436863\n",
      "Epoch900 Training loss: 23.495193481445312\n",
      "Training Accuracy:0.8100492610837439\n",
      "Eval loss: 100.31440734863281\n",
      "Eval Accuracy:0.6463878326996197\n",
      "Epoch925 Training loss: 24.525718688964844\n",
      "Training Accuracy:0.796256157635468\n",
      "Eval loss: 86.80677032470703\n",
      "Eval Accuracy:0.6501901140684411\n",
      "Epoch950 Training loss: 26.457473754882812\n",
      "Training Accuracy:0.7911330049261084\n",
      "Eval loss: 91.7084732055664\n",
      "Eval Accuracy:0.6443866319791876\n",
      "Epoch975 Training loss: 24.99950408935547\n",
      "Training Accuracy:0.7956650246305419\n",
      "Eval loss: 100.94583892822266\n",
      "Eval Accuracy:0.6431859115469282\n",
      "Epoch1000 Training loss: 24.733665466308594\n",
      "Training Accuracy:0.7980295566502463\n",
      "Eval loss: 95.46369934082031\n",
      "Eval Accuracy:0.6425855513307985\n",
      "Epoch1025 Training loss: 22.50139617919922\n",
      "Training Accuracy:0.8139901477832512\n",
      "Eval loss: 110.07421875\n",
      "Eval Accuracy:0.6203722233340004\n",
      "Epoch1050 Training loss: 22.417741775512695\n",
      "Training Accuracy:0.812807881773399\n",
      "Eval loss: 99.6917953491211\n",
      "Eval Accuracy:0.6455873524114468\n",
      "Epoch1075 Training loss: 22.537763595581055\n",
      "Training Accuracy:0.805320197044335\n",
      "Eval loss: 98.72354125976562\n",
      "Eval Accuracy:0.6529917950770462\n",
      "Epoch1100 Training loss: 22.546907424926758\n",
      "Training Accuracy:0.8133990147783251\n",
      "Eval loss: 95.60468292236328\n",
      "Eval Accuracy:0.6439863918351011\n",
      "Epoch1125 Training loss: 22.422300338745117\n",
      "Training Accuracy:0.8126108374384237\n",
      "Eval loss: 102.07457733154297\n",
      "Eval Accuracy:0.6197718631178707\n",
      "Epoch1150 Training loss: 21.769739151000977\n",
      "Training Accuracy:0.8124137931034483\n",
      "Eval loss: 97.77099609375\n",
      "Eval Accuracy:0.634180508304983\n",
      "Epoch1175 Training loss: 27.679738998413086\n",
      "Training Accuracy:0.7785221674876848\n",
      "Eval loss: 96.07444763183594\n",
      "Eval Accuracy:0.6559935961576946\n",
      "Epoch1200 Training loss: 22.25657844543457\n",
      "Training Accuracy:0.8126108374384237\n",
      "Eval loss: 91.77400207519531\n",
      "Eval Accuracy:0.6375825495297178\n",
      "Epoch1225 Training loss: 22.639055252075195\n",
      "Training Accuracy:0.8159605911330049\n",
      "Eval loss: 95.0854263305664\n",
      "Eval Accuracy:0.6179707824694817\n",
      "Epoch1250 Training loss: 22.5092716217041\n",
      "Training Accuracy:0.8135960591133005\n",
      "Eval loss: 95.58409881591797\n",
      "Eval Accuracy:0.6437862717630578\n",
      "Epoch1275 Training loss: 22.007293701171875\n",
      "Training Accuracy:0.8149753694581281\n",
      "Eval loss: 100.33308410644531\n",
      "Eval Accuracy:0.6463878326996197\n",
      "Epoch1300 Training loss: 22.898292541503906\n",
      "Training Accuracy:0.8049261083743843\n",
      "Eval loss: 109.47323608398438\n",
      "Eval Accuracy:0.6163698218931358\n",
      "Epoch1325 Training loss: 22.106843948364258\n",
      "Training Accuracy:0.8124137931034483\n",
      "Eval loss: 91.85964965820312\n",
      "Eval Accuracy:0.647388433059836\n",
      "Epoch1350 Training loss: 23.561912536621094\n",
      "Training Accuracy:0.8086699507389162\n",
      "Eval loss: 107.71001434326172\n",
      "Eval Accuracy:0.6175705423253952\n",
      "Epoch1375 Training loss: 23.153764724731445\n",
      "Training Accuracy:0.81871921182266\n",
      "Eval loss: 90.03507232666016\n",
      "Eval Accuracy:0.6463878326996197\n",
      "Epoch1400 Training loss: 21.51300811767578\n",
      "Training Accuracy:0.8165517241379311\n",
      "Eval loss: 99.86331939697266\n",
      "Eval Accuracy:0.6431859115469282\n",
      "Epoch1425 Training loss: 21.88262367248535\n",
      "Training Accuracy:0.8206896551724138\n",
      "Eval loss: 104.30708312988281\n",
      "Eval Accuracy:0.6425855513307985\n"
     ]
    },
    {
     "name": "stdout",
     "output_type": "stream",
     "text": [
      "Epoch1450 Training loss: 21.947803497314453\n",
      "Training Accuracy:0.8199014778325123\n",
      "Eval loss: 105.19341278076172\n",
      "Eval Accuracy:0.6251751050630379\n",
      "Epoch1475 Training loss: 22.019969940185547\n",
      "Training Accuracy:0.8204926108374384\n",
      "Eval loss: 103.62188720703125\n",
      "Eval Accuracy:0.6271763057834701\n",
      "Epoch1500 Training loss: 23.18649673461914\n",
      "Training Accuracy:0.8124137931034483\n",
      "Eval loss: 98.10343170166016\n",
      "Eval Accuracy:0.6505903542125275\n",
      "Epoch1525 Training loss: 56.87250518798828\n",
      "Training Accuracy:0.6744827586206896\n",
      "Eval loss: 83.41735076904297\n",
      "Eval Accuracy:0.565939563738243\n",
      "Epoch1550 Training loss: 22.19797706604004\n",
      "Training Accuracy:0.81871921182266\n",
      "Eval loss: 91.9659194946289\n",
      "Eval Accuracy:0.6313788272963778\n",
      "Epoch1575 Training loss: 21.780689239501953\n",
      "Training Accuracy:0.8214778325123153\n",
      "Eval loss: 101.67256164550781\n",
      "Eval Accuracy:0.6387832699619772\n",
      "Epoch1600 Training loss: 23.50294303894043\n",
      "Training Accuracy:0.8009852216748768\n",
      "Eval loss: 94.44935607910156\n",
      "Eval Accuracy:0.6259755853512107\n",
      "Epoch1625 Training loss: 22.134254455566406\n",
      "Training Accuracy:0.8193103448275862\n",
      "Eval loss: 96.10568237304688\n",
      "Eval Accuracy:0.6531919151490895\n",
      "Epoch1650 Training loss: 21.10932159423828\n",
      "Training Accuracy:0.8279802955665024\n",
      "Eval loss: 99.09518432617188\n",
      "Eval Accuracy:0.6511907144286572\n",
      "Epoch1675 Training loss: 23.127302169799805\n",
      "Training Accuracy:0.8086699507389162\n",
      "Eval loss: 95.12517547607422\n",
      "Eval Accuracy:0.6335801480888533\n",
      "Epoch1700 Training loss: 21.003803253173828\n",
      "Training Accuracy:0.8336945812807882\n",
      "Eval loss: 100.29683685302734\n",
      "Eval Accuracy:0.6443866319791876\n",
      "Epoch1725 Training loss: 23.284738540649414\n",
      "Training Accuracy:0.8074876847290641\n",
      "Eval loss: 99.21688842773438\n",
      "Eval Accuracy:0.6089653792275366\n",
      "Epoch1750 Training loss: 22.65738868713379\n",
      "Training Accuracy:0.8212807881773398\n",
      "Eval loss: 100.9852523803711\n",
      "Eval Accuracy:0.6475885531318791\n",
      "Epoch1775 Training loss: 21.185321807861328\n",
      "Training Accuracy:0.8248275862068966\n",
      "Eval loss: 97.22250366210938\n",
      "Eval Accuracy:0.6215729437662597\n",
      "Epoch1800 Training loss: 22.216642379760742\n",
      "Training Accuracy:0.8236453201970443\n",
      "Eval loss: 100.81095123291016\n",
      "Eval Accuracy:0.6371823093856314\n",
      "Epoch1825 Training loss: 22.321247100830078\n",
      "Training Accuracy:0.8147783251231527\n",
      "Eval loss: 100.86700439453125\n",
      "Eval Accuracy:0.6241745047028217\n",
      "Epoch1850 Training loss: 24.134418487548828\n",
      "Training Accuracy:0.8039408866995074\n",
      "Eval loss: 91.9061508178711\n",
      "Eval Accuracy:0.6485891534920952\n",
      "Epoch1875 Training loss: 21.232776641845703\n",
      "Training Accuracy:0.8214778325123153\n",
      "Eval loss: 98.67324829101562\n",
      "Eval Accuracy:0.6139683810286172\n",
      "Epoch1900 Training loss: 21.82258415222168\n",
      "Training Accuracy:0.8230541871921182\n",
      "Eval loss: 99.25902557373047\n",
      "Eval Accuracy:0.6405843506103662\n",
      "Epoch1925 Training loss: 22.279983520507812\n",
      "Training Accuracy:0.8206896551724138\n",
      "Eval loss: 110.45512390136719\n",
      "Eval Accuracy:0.6295777466479888\n",
      "Epoch1950 Training loss: 22.212432861328125\n",
      "Training Accuracy:0.8171428571428572\n",
      "Eval loss: 100.38433837890625\n",
      "Eval Accuracy:0.6303782269361617\n",
      "Epoch1975 Training loss: 24.168899536132812\n",
      "Training Accuracy:0.8031527093596059\n",
      "Eval loss: 97.00111389160156\n",
      "Eval Accuracy:0.6517910746447869\n",
      "Epoch2000 Training loss: 22.525941848754883\n",
      "Training Accuracy:0.8171428571428572\n",
      "Eval loss: 98.82674407958984\n",
      "Eval Accuracy:0.6325795477286372\n",
      "Epoch2025 Training loss: 22.336381912231445\n",
      "Training Accuracy:0.820295566502463\n",
      "Eval loss: 87.11021423339844\n",
      "Eval Accuracy:0.6389833900340204\n",
      "Epoch2050 Training loss: 22.289997100830078\n",
      "Training Accuracy:0.8151724137931035\n",
      "Eval loss: 103.99791717529297\n",
      "Eval Accuracy:0.6405843506103662\n",
      "Epoch2075 Training loss: 22.64431381225586\n",
      "Training Accuracy:0.8167487684729065\n",
      "Eval loss: 104.47551727294922\n",
      "Eval Accuracy:0.6373824294576746\n",
      "Epoch2100 Training loss: 21.37221908569336\n",
      "Training Accuracy:0.8204926108374384\n",
      "Eval loss: 95.84944152832031\n",
      "Eval Accuracy:0.6433860316189713\n",
      "Epoch2125 Training loss: 21.6995792388916\n",
      "Training Accuracy:0.8204926108374384\n",
      "Eval loss: 100.67768859863281\n",
      "Eval Accuracy:0.6241745047028217\n",
      "Epoch2150 Training loss: 21.55803680419922\n",
      "Training Accuracy:0.8210837438423645\n",
      "Eval loss: 97.61478424072266\n",
      "Eval Accuracy:0.6517910746447869\n",
      "Epoch2175 Training loss: 23.03199577331543\n",
      "Training Accuracy:0.8149753694581281\n",
      "Eval loss: 93.44644927978516\n",
      "Eval Accuracy:0.6237742645587352\n",
      "Epoch2200 Training loss: 22.306909561157227\n",
      "Training Accuracy:0.8175369458128079\n",
      "Eval loss: 97.99057006835938\n",
      "Eval Accuracy:0.6443866319791876\n",
      "Epoch2225 Training loss: 23.27652931213379\n",
      "Training Accuracy:0.8137931034482758\n",
      "Eval loss: 99.48060607910156\n",
      "Eval Accuracy:0.6433860316189713\n",
      "Epoch2250 Training loss: 22.719240188598633\n",
      "Training Accuracy:0.8165517241379311\n",
      "Eval loss: 91.6728515625\n",
      "Eval Accuracy:0.6373824294576746\n",
      "Epoch2275 Training loss: 23.445369720458984\n",
      "Training Accuracy:0.805320197044335\n",
      "Eval loss: 103.37333679199219\n",
      "Eval Accuracy:0.6497898739243546\n",
      "Epoch2300 Training loss: 21.29820442199707\n",
      "Training Accuracy:0.8155665024630542\n",
      "Eval loss: 94.78487396240234\n",
      "Eval Accuracy:0.6395837502501501\n",
      "Epoch2325 Training loss: 22.6274471282959\n",
      "Training Accuracy:0.8165517241379311\n",
      "Eval loss: 92.70431518554688\n",
      "Eval Accuracy:0.6325795477286372\n",
      "Epoch2350 Training loss: 21.434642791748047\n",
      "Training Accuracy:0.8175369458128079\n",
      "Eval loss: 96.2642822265625\n",
      "Eval Accuracy:0.6501901140684411\n",
      "Epoch2375 Training loss: 21.01822853088379\n",
      "Training Accuracy:0.8246305418719212\n",
      "Eval loss: 97.77216339111328\n",
      "Eval Accuracy:0.6277766659995998\n",
      "Epoch2400 Training loss: 22.037662506103516\n",
      "Training Accuracy:0.8139901477832512\n",
      "Eval loss: 105.69757843017578\n",
      "Eval Accuracy:0.617370422253352\n",
      "Epoch2425 Training loss: 20.97371482849121\n",
      "Training Accuracy:0.8262068965517242\n",
      "Eval loss: 93.49651336669922\n",
      "Eval Accuracy:0.6467880728437062\n",
      "Epoch2450 Training loss: 22.9375057220459\n",
      "Training Accuracy:0.8082758620689655\n",
      "Eval loss: 96.81290435791016\n",
      "Eval Accuracy:0.6401841104662798\n",
      "Epoch2475 Training loss: 20.71367645263672\n",
      "Training Accuracy:0.8285714285714286\n",
      "Eval loss: 94.26538848876953\n",
      "Eval Accuracy:0.6637982789673804\n",
      "Epoch2500 Training loss: 21.489213943481445\n",
      "Training Accuracy:0.8277832512315271\n",
      "Eval loss: 103.05293273925781\n",
      "Eval Accuracy:0.6143686211727036\n",
      "Epoch2525 Training loss: 24.997802734375\n",
      "Training Accuracy:0.7964532019704433\n",
      "Eval loss: 93.84921264648438\n",
      "Eval Accuracy:0.6033620172103262\n",
      "Epoch2550 Training loss: 22.37352180480957\n",
      "Training Accuracy:0.8210837438423645\n",
      "Eval loss: 99.57524871826172\n",
      "Eval Accuracy:0.6301781068641185\n",
      "Epoch2575 Training loss: 21.44340705871582\n",
      "Training Accuracy:0.8199014778325123\n",
      "Eval loss: 92.3011703491211\n",
      "Eval Accuracy:0.6321793075845508\n",
      "Epoch2600 Training loss: 21.5024356842041\n",
      "Training Accuracy:0.8262068965517242\n",
      "Eval loss: 91.1872329711914\n",
      "Eval Accuracy:0.6319791875125075\n",
      "Epoch2625 Training loss: 20.996034622192383\n",
      "Training Accuracy:0.8291625615763547\n",
      "Eval loss: 95.84146118164062\n",
      "Eval Accuracy:0.654592755653392\n",
      "Epoch2650 Training loss: 23.02562713623047\n",
      "Training Accuracy:0.8110344827586207\n",
      "Eval loss: 94.24018859863281\n",
      "Eval Accuracy:0.6351811086651992\n",
      "Epoch2675 Training loss: 21.346975326538086\n",
      "Training Accuracy:0.8224630541871921\n",
      "Eval loss: 101.7135009765625\n",
      "Eval Accuracy:0.6335801480888533\n",
      "Epoch2700 Training loss: 22.051374435424805\n",
      "Training Accuracy:0.8193103448275862\n",
      "Eval loss: 94.61616516113281\n",
      "Eval Accuracy:0.6331799079447669\n",
      "Epoch2725 Training loss: 21.49603271484375\n",
      "Training Accuracy:0.8269950738916256\n",
      "Eval loss: 94.59414672851562\n",
      "Eval Accuracy:0.6397838703221933\n",
      "Epoch2750 Training loss: 23.521883010864258\n",
      "Training Accuracy:0.8092610837438423\n",
      "Eval loss: 109.87318420410156\n",
      "Eval Accuracy:0.6263758254952971\n",
      "Epoch2775 Training loss: 22.647438049316406\n",
      "Training Accuracy:0.8133990147783251\n",
      "Eval loss: 93.15765380859375\n",
      "Eval Accuracy:0.6429857914748849\n",
      "Epoch2800 Training loss: 21.914464950561523\n",
      "Training Accuracy:0.8210837438423645\n",
      "Eval loss: 96.51889038085938\n",
      "Eval Accuracy:0.6513908345007005\n",
      "Epoch2825 Training loss: 21.435752868652344\n",
      "Training Accuracy:0.8177339901477833\n",
      "Eval loss: 102.41205596923828\n",
      "Eval Accuracy:0.6461877126275766\n",
      "Epoch2850 Training loss: 23.09076499938965\n",
      "Training Accuracy:0.8149753694581281\n",
      "Eval loss: 94.4489517211914\n",
      "Eval Accuracy:0.627976786071643\n",
      "Epoch2875 Training loss: 23.51262855529785\n",
      "Training Accuracy:0.8047290640394089\n",
      "Eval loss: 99.47579193115234\n",
      "Eval Accuracy:0.6405843506103662\n"
     ]
    },
    {
     "name": "stdout",
     "output_type": "stream",
     "text": [
      "Epoch2900 Training loss: 23.181699752807617\n",
      "Training Accuracy:0.8066995073891625\n",
      "Eval loss: 106.48827362060547\n",
      "Eval Accuracy:0.647388433059836\n",
      "Epoch2925 Training loss: 22.30608367919922\n",
      "Training Accuracy:0.8151724137931035\n",
      "Eval loss: 95.6187744140625\n",
      "Eval Accuracy:0.6355813488092855\n",
      "Epoch2950 Training loss: 24.492870330810547\n",
      "Training Accuracy:0.8031527093596059\n",
      "Eval loss: 102.19264221191406\n",
      "Eval Accuracy:0.6391835101060637\n",
      "Epoch2975 Training loss: 21.956457138061523\n",
      "Training Accuracy:0.8195073891625616\n",
      "Eval loss: 95.1494140625\n",
      "Eval Accuracy:0.6453872323394036\n",
      "Epoch3000 Training loss: 22.23126792907715\n",
      "Training Accuracy:0.8185221674876847\n",
      "Eval loss: 101.44667053222656\n",
      "Eval Accuracy:0.6369821893135882\n",
      "Epoch3025 Training loss: 21.24622344970703\n",
      "Training Accuracy:0.8258128078817734\n",
      "Eval loss: 92.5451431274414\n",
      "Eval Accuracy:0.6455873524114468\n",
      "Epoch3050 Training loss: 21.943023681640625\n",
      "Training Accuracy:0.827192118226601\n",
      "Eval loss: 101.4966049194336\n",
      "Eval Accuracy:0.6335801480888533\n",
      "Epoch3075 Training loss: 21.484689712524414\n",
      "Training Accuracy:0.8273891625615764\n",
      "Eval loss: 107.83895874023438\n",
      "Eval Accuracy:0.6385831498899339\n",
      "Epoch3100 Training loss: 21.91145896911621\n",
      "Training Accuracy:0.8244334975369458\n",
      "Eval loss: 109.50877380371094\n",
      "Eval Accuracy:0.6003602161296778\n",
      "Epoch3125 Training loss: 22.061269760131836\n",
      "Training Accuracy:0.8173399014778325\n",
      "Eval loss: 93.25550079345703\n",
      "Eval Accuracy:0.6301781068641185\n",
      "Epoch3150 Training loss: 22.28948402404785\n",
      "Training Accuracy:0.8171428571428572\n",
      "Eval loss: 104.1416015625\n",
      "Eval Accuracy:0.6281769061436863\n",
      "Epoch3175 Training loss: 21.610824584960938\n",
      "Training Accuracy:0.8234482758620689\n",
      "Eval loss: 106.60758972167969\n",
      "Eval Accuracy:0.6083650190114068\n",
      "Epoch3200 Training loss: 21.28961753845215\n",
      "Training Accuracy:0.825615763546798\n",
      "Eval loss: 108.45669555664062\n",
      "Eval Accuracy:0.6233740244146488\n",
      "Epoch3225 Training loss: 22.21558952331543\n",
      "Training Accuracy:0.8199014778325123\n",
      "Eval loss: 100.41716766357422\n",
      "Eval Accuracy:0.6477886732039223\n",
      "Epoch3250 Training loss: 19.76993751525879\n",
      "Training Accuracy:0.8336945812807882\n",
      "Eval loss: 105.39738464355469\n",
      "Eval Accuracy:0.6239743846307785\n",
      "Epoch3275 Training loss: 21.317607879638672\n",
      "Training Accuracy:0.8212807881773398\n",
      "Eval loss: 99.14964294433594\n",
      "Eval Accuracy:0.6219731839103462\n",
      "Epoch3300 Training loss: 21.109228134155273\n",
      "Training Accuracy:0.8248275862068966\n",
      "Eval loss: 101.01484680175781\n",
      "Eval Accuracy:0.6385831498899339\n",
      "Epoch3325 Training loss: 22.791284561157227\n",
      "Training Accuracy:0.8082758620689655\n",
      "Eval loss: 103.26719665527344\n",
      "Eval Accuracy:0.6269761857114269\n",
      "Epoch3350 Training loss: 25.614612579345703\n",
      "Training Accuracy:0.7974384236453202\n",
      "Eval loss: 100.60140991210938\n",
      "Eval Accuracy:0.6471883129877927\n",
      "Epoch3375 Training loss: 21.621671676635742\n",
      "Training Accuracy:0.8204926108374384\n",
      "Eval loss: 90.72532653808594\n",
      "Eval Accuracy:0.6147688613167901\n",
      "Epoch3400 Training loss: 22.229816436767578\n",
      "Training Accuracy:0.8167487684729065\n",
      "Eval loss: 97.5082778930664\n",
      "Eval Accuracy:0.6291775065039024\n",
      "Epoch3425 Training loss: 21.590456008911133\n",
      "Training Accuracy:0.8183251231527093\n",
      "Eval loss: 106.21931457519531\n",
      "Eval Accuracy:0.6503902341404842\n",
      "Epoch3450 Training loss: 21.67922592163086\n",
      "Training Accuracy:0.8236453201970443\n",
      "Eval loss: 100.6882095336914\n",
      "Eval Accuracy:0.6529917950770462\n",
      "Epoch3475 Training loss: 21.772661209106445\n",
      "Training Accuracy:0.8242364532019705\n",
      "Eval loss: 107.93334197998047\n",
      "Eval Accuracy:0.6377826696017611\n",
      "Epoch3500 Training loss: 21.799877166748047\n",
      "Training Accuracy:0.8195073891625616\n",
      "Eval loss: 97.35320281982422\n",
      "Eval Accuracy:0.6419851911146688\n",
      "Epoch3525 Training loss: 21.109107971191406\n",
      "Training Accuracy:0.8285714285714286\n",
      "Eval loss: 101.58416748046875\n",
      "Eval Accuracy:0.6157694616770062\n",
      "Epoch3550 Training loss: 21.496326446533203\n",
      "Training Accuracy:0.820295566502463\n",
      "Eval loss: 98.56532287597656\n",
      "Eval Accuracy:0.6425855513307985\n",
      "Epoch3575 Training loss: 24.05948829650879\n",
      "Training Accuracy:0.8068965517241379\n",
      "Eval loss: 102.9154281616211\n",
      "Eval Accuracy:0.5875525315189113\n",
      "Epoch3600 Training loss: 21.82681655883789\n",
      "Training Accuracy:0.8147783251231527\n",
      "Eval loss: 94.31614685058594\n",
      "Eval Accuracy:0.647388433059836\n",
      "Epoch3625 Training loss: 21.590572357177734\n",
      "Training Accuracy:0.8177339901477833\n",
      "Eval loss: 93.45175170898438\n",
      "Eval Accuracy:0.6573944366619972\n",
      "Epoch3650 Training loss: 21.403676986694336\n",
      "Training Accuracy:0.8254187192118226\n",
      "Eval loss: 114.02278900146484\n",
      "Eval Accuracy:0.6229737842705624\n",
      "Epoch3675 Training loss: 19.804012298583984\n",
      "Training Accuracy:0.8325123152709359\n",
      "Eval loss: 97.221923828125\n",
      "Eval Accuracy:0.6487892735641385\n",
      "Epoch3700 Training loss: 20.91761016845703\n",
      "Training Accuracy:0.8303448275862069\n",
      "Eval loss: 99.18009948730469\n",
      "Eval Accuracy:0.6425855513307985\n",
      "Epoch3725 Training loss: 20.65876007080078\n",
      "Training Accuracy:0.8301477832512315\n",
      "Eval loss: 100.43195343017578\n",
      "Eval Accuracy:0.63338002801681\n",
      "Epoch3750 Training loss: 21.234312057495117\n",
      "Training Accuracy:0.8226600985221675\n",
      "Eval loss: 103.8981704711914\n",
      "Eval Accuracy:0.6365819491695017\n",
      "Epoch3775 Training loss: 20.145605087280273\n",
      "Training Accuracy:0.8273891625615764\n",
      "Eval loss: 116.80780029296875\n",
      "Eval Accuracy:0.6259755853512107\n",
      "Epoch3800 Training loss: 23.09494972229004\n",
      "Training Accuracy:0.8132019704433497\n",
      "Eval loss: 116.05364990234375\n",
      "Eval Accuracy:0.6193716229737842\n",
      "Epoch3825 Training loss: 21.173736572265625\n",
      "Training Accuracy:0.8266009852216749\n",
      "Eval loss: 107.50343322753906\n",
      "Eval Accuracy:0.6257754652791675\n",
      "Epoch3850 Training loss: 21.965471267700195\n",
      "Training Accuracy:0.8179310344827586\n",
      "Eval loss: 97.18592834472656\n",
      "Eval Accuracy:0.6409845907544527\n",
      "Epoch3875 Training loss: 22.111183166503906\n",
      "Training Accuracy:0.8248275862068966\n",
      "Eval loss: 101.0321044921875\n",
      "Eval Accuracy:0.644786872123274\n",
      "Epoch3900 Training loss: 19.89141082763672\n",
      "Training Accuracy:0.8364532019704434\n",
      "Eval loss: 93.21353149414062\n",
      "Eval Accuracy:0.6467880728437062\n",
      "Epoch3925 Training loss: 21.306100845336914\n",
      "Training Accuracy:0.8244334975369458\n",
      "Eval loss: 109.68292999267578\n",
      "Eval Accuracy:0.6413848308985391\n",
      "Epoch3950 Training loss: 22.380388259887695\n",
      "Training Accuracy:0.821871921182266\n",
      "Eval loss: 99.30328369140625\n",
      "Eval Accuracy:0.6601961176706024\n",
      "Epoch3975 Training loss: 20.485403060913086\n",
      "Training Accuracy:0.8295566502463054\n",
      "Eval loss: 98.96215057373047\n",
      "Eval Accuracy:0.6337802681608965\n",
      "The best epoch:2589 with an accuracy of 0.6708024814888933\n"
     ]
    }
   ],
   "source": [
    "best_model = train(3000, model,0.1 )\n"
   ]
  },
  {
   "cell_type": "markdown",
   "metadata": {},
   "source": [
    "Pred and majority vote"
   ]
  },
  {
   "cell_type": "code",
   "execution_count": 31,
   "metadata": {},
   "outputs": [],
   "source": [
    "y_pred = best_model(data_valid.to(device))"
   ]
  },
  {
   "cell_type": "code",
   "execution_count": 32,
   "metadata": {},
   "outputs": [
    {
     "data": {
      "text/plain": [
       "tensor([ 0,  0, 18,  ..., 31, 31, 31], device='cuda:0')"
      ]
     },
     "execution_count": 32,
     "metadata": {},
     "output_type": "execute_result"
    }
   ],
   "source": [
    "pred=torch.argmax(y_pred,1)\n",
    "pred"
   ]
  },
  {
   "cell_type": "code",
   "execution_count": 33,
   "metadata": {},
   "outputs": [],
   "source": [
    "pred = pred.cpu().numpy()\n",
    "y_pred_majority = np.array([])\n",
    "for i in range(160):\n",
    "    index_of_int = t_valid_labels == i\n",
    "    counts = np.bincount(pred[index_of_int].astype(int))\n",
    "    y_pred_majority = np.append(y_pred_majority,np.argmax(counts))"
   ]
  },
  {
   "cell_type": "code",
   "execution_count": 34,
   "metadata": {},
   "outputs": [
    {
     "name": "stdout",
     "output_type": "stream",
     "text": [
      "0.7354838709677418\n"
     ]
    }
   ],
   "source": [
    "ecgIdAccuracy = recall_score(valid_labels[:,-1], y_pred_majority, average='macro')\n",
    "adjustementTerm = 1.0 / len(np.unique(valid_labels[:,-1]))\n",
    "ecgIdAccuracy = (ecgIdAccuracy - adjustementTerm) / (1 - adjustementTerm)\n",
    "if ecgIdAccuracy < 0:\n",
    "    ecgIdAccuracy = 0.0\n",
    "print(ecgIdAccuracy)"
   ]
  },
  {
   "cell_type": "markdown",
   "metadata": {},
   "source": [
    "End of Convolution"
   ]
  },
  {
   "cell_type": "markdown",
   "metadata": {},
   "source": [
    "Better result are obtained by using all the window and doing a majority vote however they both fell short of a PCA + LDA classificateur"
   ]
  },
  {
   "cell_type": "code",
   "execution_count": 31,
   "metadata": {},
   "outputs": [],
   "source": [
    "labels_train = train_labels[:,-1]\n",
    "labels_valid = valid_labels[:,-1]\n",
    "\n",
    "shuffle1 = np.random.permutation(len(Avg_template_train))\n",
    "train_shuffle = Avg_template_train[shuffle1]\n",
    "TrainLabel_shuffle = labels_train[shuffle1]\n",
    "shuffle2 = np.random.permutation(len(Avg_template_valid))\n",
    "valid_shuffle = Avg_template_valid[shuffle2]\n",
    "ValidLabel_shuffle = labels_valid[shuffle2]"
   ]
  },
  {
   "cell_type": "code",
   "execution_count": 32,
   "metadata": {},
   "outputs": [],
   "source": [
    "from sklearn.decomposition import PCA"
   ]
  },
  {
   "cell_type": "code",
   "execution_count": 33,
   "metadata": {},
   "outputs": [],
   "source": [
    "ipca = PCA(n_components=30)\n",
    "ipca.fit(train_shuffle)\n",
    "pca_train = ipca.transform(train_shuffle)\n",
    "pca_valid = ipca.transform(valid_shuffle)"
   ]
  },
  {
   "cell_type": "code",
   "execution_count": 34,
   "metadata": {},
   "outputs": [],
   "source": [
    "from sklearn.discriminant_analysis import LinearDiscriminantAnalysis"
   ]
  },
  {
   "cell_type": "code",
   "execution_count": 35,
   "metadata": {},
   "outputs": [
    {
     "data": {
      "text/plain": [
       "0.78125"
      ]
     },
     "execution_count": 35,
     "metadata": {},
     "output_type": "execute_result"
    }
   ],
   "source": [
    "lda = LinearDiscriminantAnalysis()\n",
    "lda.fit(pca_train, TrainLabel_shuffle)\n",
    "y_pred = lda.predict(pca_valid)\n",
    "lda.score(pca_valid, ValidLabel_shuffle)"
   ]
  },
  {
   "cell_type": "markdown",
   "metadata": {},
   "source": [
    "with hearth_beat"
   ]
  },
  {
   "cell_type": "code",
   "execution_count": 36,
   "metadata": {},
   "outputs": [],
   "source": [
    "pca_train = np.concatenate((pca_train,np.expand_dims(np.array(Train_RR_mean), axis = 1)[shuffle1]),axis = 1)\n",
    "pca_train = np.concatenate((pca_train,np.expand_dims(np.array(Train_RR_std), axis = 1)[shuffle1]),axis = 1)\n",
    "pca_valid = np.concatenate((pca_valid,np.expand_dims(np.array(Valid_RR_mean), axis = 1)[shuffle2]),axis = 1)\n",
    "pca_valid = np.concatenate((pca_valid,np.expand_dims(np.array(Valid_RR_std), axis = 1)[shuffle2]),axis = 1)"
   ]
  },
  {
   "cell_type": "code",
   "execution_count": 37,
   "metadata": {},
   "outputs": [
    {
     "data": {
      "text/plain": [
       "0.78125"
      ]
     },
     "execution_count": 37,
     "metadata": {},
     "output_type": "execute_result"
    }
   ],
   "source": [
    "lda = LinearDiscriminantAnalysis()\n",
    "lda.fit(pca_train, TrainLabel_shuffle)\n",
    "y_pred = lda.predict(pca_valid)\n",
    "lda.score(pca_valid, ValidLabel_shuffle)"
   ]
  },
  {
   "cell_type": "markdown",
   "metadata": {},
   "source": [
    "No improvement from adding the hearth beat"
   ]
  },
  {
   "cell_type": "markdown",
   "metadata": {},
   "source": [
    "With Majority vote"
   ]
  },
  {
   "cell_type": "code",
   "execution_count": 38,
   "metadata": {},
   "outputs": [
    {
     "ename": "ValueError",
     "evalue": "attempt to get argmax of an empty sequence",
     "output_type": "error",
     "traceback": [
      "\u001b[0;31m---------------------------------------------------------------------------\u001b[0m",
      "\u001b[0;31mValueError\u001b[0m                                Traceback (most recent call last)",
      "\u001b[0;32m<ipython-input-38-2016313f1535>\u001b[0m in \u001b[0;36m<module>\u001b[0;34m\u001b[0m\n\u001b[1;32m      3\u001b[0m     \u001b[0mindex_of_int\u001b[0m \u001b[0;34m=\u001b[0m \u001b[0mt_valid_labels\u001b[0m\u001b[0;34m[\u001b[0m\u001b[0mshuffle2\u001b[0m\u001b[0;34m]\u001b[0m \u001b[0;34m==\u001b[0m \u001b[0mi\u001b[0m\u001b[0;34m\u001b[0m\u001b[0;34m\u001b[0m\u001b[0m\n\u001b[1;32m      4\u001b[0m     \u001b[0mcounts\u001b[0m \u001b[0;34m=\u001b[0m \u001b[0mnp\u001b[0m\u001b[0;34m.\u001b[0m\u001b[0mbincount\u001b[0m\u001b[0;34m(\u001b[0m\u001b[0my_pred\u001b[0m\u001b[0;34m[\u001b[0m\u001b[0mindex_of_int\u001b[0m\u001b[0;34m]\u001b[0m\u001b[0;34m.\u001b[0m\u001b[0mastype\u001b[0m\u001b[0;34m(\u001b[0m\u001b[0mint\u001b[0m\u001b[0;34m)\u001b[0m\u001b[0;34m)\u001b[0m\u001b[0;34m\u001b[0m\u001b[0;34m\u001b[0m\u001b[0m\n\u001b[0;32m----> 5\u001b[0;31m     \u001b[0my_pred_majority\u001b[0m \u001b[0;34m=\u001b[0m \u001b[0mnp\u001b[0m\u001b[0;34m.\u001b[0m\u001b[0mappend\u001b[0m\u001b[0;34m(\u001b[0m\u001b[0my_pred_majority\u001b[0m\u001b[0;34m,\u001b[0m\u001b[0mnp\u001b[0m\u001b[0;34m.\u001b[0m\u001b[0margmax\u001b[0m\u001b[0;34m(\u001b[0m\u001b[0mcounts\u001b[0m\u001b[0;34m)\u001b[0m\u001b[0;34m)\u001b[0m\u001b[0;34m\u001b[0m\u001b[0;34m\u001b[0m\u001b[0m\n\u001b[0m\u001b[1;32m      6\u001b[0m \u001b[0;34m\u001b[0m\u001b[0m\n\u001b[1;32m      7\u001b[0m \u001b[0;34m\u001b[0m\u001b[0m\n",
      "\u001b[0;32m/miniconda/lib/python3.7/site-packages/numpy/core/fromnumeric.py\u001b[0m in \u001b[0;36margmax\u001b[0;34m(a, axis, out)\u001b[0m\n\u001b[1;32m   1035\u001b[0m \u001b[0;34m\u001b[0m\u001b[0m\n\u001b[1;32m   1036\u001b[0m     \"\"\"\n\u001b[0;32m-> 1037\u001b[0;31m     \u001b[0;32mreturn\u001b[0m \u001b[0m_wrapfunc\u001b[0m\u001b[0;34m(\u001b[0m\u001b[0ma\u001b[0m\u001b[0;34m,\u001b[0m \u001b[0;34m'argmax'\u001b[0m\u001b[0;34m,\u001b[0m \u001b[0maxis\u001b[0m\u001b[0;34m=\u001b[0m\u001b[0maxis\u001b[0m\u001b[0;34m,\u001b[0m \u001b[0mout\u001b[0m\u001b[0;34m=\u001b[0m\u001b[0mout\u001b[0m\u001b[0;34m)\u001b[0m\u001b[0;34m\u001b[0m\u001b[0;34m\u001b[0m\u001b[0m\n\u001b[0m\u001b[1;32m   1038\u001b[0m \u001b[0;34m\u001b[0m\u001b[0m\n\u001b[1;32m   1039\u001b[0m \u001b[0;34m\u001b[0m\u001b[0m\n",
      "\u001b[0;32m/miniconda/lib/python3.7/site-packages/numpy/core/fromnumeric.py\u001b[0m in \u001b[0;36m_wrapfunc\u001b[0;34m(obj, method, *args, **kwds)\u001b[0m\n\u001b[1;32m     49\u001b[0m \u001b[0;32mdef\u001b[0m \u001b[0m_wrapfunc\u001b[0m\u001b[0;34m(\u001b[0m\u001b[0mobj\u001b[0m\u001b[0;34m,\u001b[0m \u001b[0mmethod\u001b[0m\u001b[0;34m,\u001b[0m \u001b[0;34m*\u001b[0m\u001b[0margs\u001b[0m\u001b[0;34m,\u001b[0m \u001b[0;34m**\u001b[0m\u001b[0mkwds\u001b[0m\u001b[0;34m)\u001b[0m\u001b[0;34m:\u001b[0m\u001b[0;34m\u001b[0m\u001b[0;34m\u001b[0m\u001b[0m\n\u001b[1;32m     50\u001b[0m     \u001b[0;32mtry\u001b[0m\u001b[0;34m:\u001b[0m\u001b[0;34m\u001b[0m\u001b[0;34m\u001b[0m\u001b[0m\n\u001b[0;32m---> 51\u001b[0;31m         \u001b[0;32mreturn\u001b[0m \u001b[0mgetattr\u001b[0m\u001b[0;34m(\u001b[0m\u001b[0mobj\u001b[0m\u001b[0;34m,\u001b[0m \u001b[0mmethod\u001b[0m\u001b[0;34m)\u001b[0m\u001b[0;34m(\u001b[0m\u001b[0;34m*\u001b[0m\u001b[0margs\u001b[0m\u001b[0;34m,\u001b[0m \u001b[0;34m**\u001b[0m\u001b[0mkwds\u001b[0m\u001b[0;34m)\u001b[0m\u001b[0;34m\u001b[0m\u001b[0;34m\u001b[0m\u001b[0m\n\u001b[0m\u001b[1;32m     52\u001b[0m \u001b[0;34m\u001b[0m\u001b[0m\n\u001b[1;32m     53\u001b[0m     \u001b[0;31m# An AttributeError occurs if the object does not have\u001b[0m\u001b[0;34m\u001b[0m\u001b[0;34m\u001b[0m\u001b[0;34m\u001b[0m\u001b[0m\n",
      "\u001b[0;31mValueError\u001b[0m: attempt to get argmax of an empty sequence"
     ]
    }
   ],
   "source": [
    "y_pred_majority = np.array([])\n",
    "for i in range(160):\n",
    "    index_of_int = t_valid_labels[shuffle2] == i\n",
    "    counts = np.bincount(y_pred[index_of_int].astype(int))\n",
    "    y_pred_majority = np.append(y_pred_majority,np.argmax(counts))\n",
    "    \n",
    "    \n",
    "    "
   ]
  },
  {
   "cell_type": "code",
   "execution_count": null,
   "metadata": {},
   "outputs": [],
   "source": [
    "ecgIdAccuracy = recall_score(valid_labels[:,-1], y_pred_majority, average='macro')\n",
    "adjustementTerm = 1.0 / len(np.unique(valid_labels[:,-1]))\n",
    "ecgIdAccuracy = (ecgIdAccuracy - adjustementTerm) / (1 - adjustementTerm)\n",
    "if ecgIdAccuracy < 0:\n",
    "    ecgIdAccuracy = 0.0\n",
    "print(ecgIdAccuracy)"
   ]
  },
  {
   "cell_type": "markdown",
   "metadata": {},
   "source": [
    "individually analyse with PCA + LDA dont gives better than analyse the average"
   ]
  },
  {
   "cell_type": "markdown",
   "metadata": {},
   "source": [
    "Regression Task on averaged window with multitask learning"
   ]
  },
  {
   "cell_type": "code",
   "execution_count": 25,
   "metadata": {},
   "outputs": [],
   "source": []
  },
  {
   "cell_type": "code",
   "execution_count": 26,
   "metadata": {},
   "outputs": [],
   "source": [
    "labels_train = train_labels[:,1]\n",
    "labels_valid = valid_labels[:,1]\n",
    "data_train = torch.Tensor(Avg_template_train)\n",
    "labels_train_t = torch.Tensor(labels_train)\n",
    "trainloader = torch.utils.data.TensorDataset(data_train, labels_train_t)\n",
    "loader_train = torch.utils.data.DataLoader(trainloader, batch_size=160, shuffle = False)\n",
    "\n",
    "data_valid = torch.Tensor(Avg_template_valid)\n",
    "labels_valid_t = torch.Tensor(labels_valid)\n",
    "validloader = torch.utils.data.TensorDataset(data_valid, labels_valid_t)\n",
    "loader_valid = torch.utils.data.DataLoader(validloader, batch_size=160, shuffle = False)"
   ]
  },
  {
   "cell_type": "markdown",
   "metadata": {},
   "source": [
    "PRmax_rating = np.max(train_labels[:,0])\n",
    "PRmin_rating = np.min(train_labels[:,0])\n",
    "\n",
    "RTmax_rating = np.max(train_labels[:,1])\n",
    "RTmin_rating = np.min(train_labels[:,1])\n",
    "\n",
    "RRmax_rating = np.max(train_labels[:,2])\n",
    "RRmin_rating = np.min(train_labels[:,2])"
   ]
  },
  {
   "cell_type": "markdown",
   "metadata": {},
   "source": [
    "class Reg_Net(nn.Module):\n",
    "    def __init__(self):\n",
    "        super(Reg_Net,self).__init__()\n",
    "        self.conv1=nn.Conv1d(1,10,kernel_size=3) #22\n",
    "        self.conv2=nn.Conv1d(10,20,kernel_size=3) #18\n",
    "        self.conv3=nn.Conv1d(20,20,kernel_size=3) #18\n",
    "\n",
    "        \n",
    "        self.fc1RR_std=nn.Linear(60,30)\n",
    "        self.fc2RR_std=nn.Linear(30,1)\n",
    "        self.fc1TR_mean=nn.Linear(60,30)\n",
    "        self.fc2TR_mean=nn.Linear(30,1)\n",
    "        self.fc1PR_mean=nn.Linear(60,30)\n",
    "        self.fc2PR_mean=nn.Linear(30,1)\n",
    "    \n",
    "    def forward(self,x):\n",
    "        x = x.unsqueeze(1)\n",
    "        x=F.leaky_relu_(F.max_pool1d(self.conv1(x),3),0.2)\n",
    "        x=F.leaky_relu_(F.max_pool1d(self.conv2(x),3),0.2)\n",
    "        x=F.leaky_relu_(F.max_pool1d(self.conv3(x),3),0.2)\n",
    "        x=x.view(-1,60)\n",
    "        \n",
    "        \n",
    "        xRR_std = F.leaky_relu_((self.fc1RR_std(x)),0.2)\n",
    "        xRR_std = self.fc2RR_std(xRR_std)\n",
    "        xRR_std = F.sigmoid(xRR_std) * (RRmax_rating-RRmin_rating) + RRmin_rating\n",
    "        \n",
    "        \n",
    "        xTR_mean = F.leaky_relu_((self.fc1TR_mean(x)),0.2)\n",
    "        xTR_mean = self.fc2TR_mean(xTR_mean)\n",
    "        xTR_mean = F.sigmoid(xTR_mean) * (RTmax_rating-RTmin_rating) + RTmin_rating\n",
    "        \n",
    "        xPR_mean = F.leaky_relu_((self.fc1PR_mean(x)),0.2)\n",
    "        xPR_mean = self.fc2PR_mean(xPR_mean) \n",
    "        xPR_mean = F.sigmoid(xPR_mean) * (PRmax_rating-PRmin_rating) + PRmin_rating\n",
    "    \n",
    "        return xRR_std, xTR_mean, xPR_mean"
   ]
  },
  {
   "cell_type": "code",
   "execution_count": 25,
   "metadata": {},
   "outputs": [],
   "source": [
    "labels_train = train_labels[:,1]\n",
    "labels_valid = valid_labels[:,1]\n",
    "data_train = torch.Tensor(Avg_template_train)\n",
    "labels_train_t = torch.Tensor(labels_train)\n",
    "trainloader = torch.utils.data.TensorDataset(data_train, labels_train_t)\n",
    "loader_train = torch.utils.data.DataLoader(trainloader, batch_size=160, shuffle = False)\n",
    "\n",
    "data_valid = torch.Tensor(Avg_template_valid)\n",
    "labels_valid_t = torch.Tensor(labels_valid)\n",
    "validloader = torch.utils.data.TensorDataset(data_valid, labels_valid_t)\n",
    "loader_valid = torch.utils.data.DataLoader(validloader, batch_size=160, shuffle = False)"
   ]
  },
  {
   "cell_type": "code",
   "execution_count": 26,
   "metadata": {},
   "outputs": [],
   "source": [
    "labels_train = train_labels[:]\n",
    "labels_valid = valid_labels[:]\n",
    "\n",
    "shuffle1 = np.random.permutation(len(Avg_template_train))\n",
    "train_shuffle = Avg_template_train[shuffle1]\n",
    "TrainLabel_shuffle = labels_train[shuffle1]\n",
    "shuffle2 = np.random.permutation(len(Avg_template_valid))\n",
    "valid_shuffle = Avg_template_valid[shuffle2]\n",
    "ValidLabel_shuffle = labels_valid[shuffle2]\n",
    "\n",
    "from sklearn.decomposition import PCA\n",
    "ipca = PCA(n_components=1)\n",
    "ipca.fit(train_shuffle)\n",
    "pca_train = ipca.transform(train_shuffle)\n",
    "pca_valid = ipca.transform(valid_shuffle)"
   ]
  },
  {
   "cell_type": "code",
   "execution_count": 38,
   "metadata": {},
   "outputs": [
    {
     "name": "stdout",
     "output_type": "stream",
     "text": [
      "PR_Mean\n",
      "-0.1591445215463641\n",
      "RT_Mean\n",
      "0.20270483030954875\n",
      "0.021780154381592323\n"
     ]
    }
   ],
   "source": [
    "from sklearn.linear_model import LinearRegression\n",
    "\n",
    "lin = LinearRegression()\n",
    "result = []\n",
    "for i in range(2):\n",
    "    lin.fit(pca_train, TrainLabel_shuffle[:,1])\n",
    "    y_pred = lin.predict(pca_valid)\n",
    "    print(LABELS_NAME[i])\n",
    "    result.append(kendalltau(y_pred, ValidLabel_shuffle[:,i])[0])\n",
    "    print(kendalltau(y_pred, ValidLabel_shuffle[:,i])[0])\n",
    "    \n",
    "print(np.mean(result))"
   ]
  },
  {
   "cell_type": "code",
   "execution_count": 50,
   "metadata": {},
   "outputs": [
    {
     "data": {
      "text/plain": [
       "array([0.17106873])"
      ]
     },
     "execution_count": 50,
     "metadata": {},
     "output_type": "execute_result"
    }
   ],
   "source": [
    "lin.coef_"
   ]
  },
  {
   "cell_type": "code",
   "execution_count": 51,
   "metadata": {},
   "outputs": [
    {
     "data": {
      "text/plain": [
       "34.59221081733703"
      ]
     },
     "execution_count": 51,
     "metadata": {},
     "output_type": "execute_result"
    }
   ],
   "source": [
    "lin.intercept_"
   ]
  },
  {
   "cell_type": "code",
   "execution_count": 42,
   "metadata": {},
   "outputs": [
    {
     "data": {
      "text/plain": [
       "(160, 1)"
      ]
     },
     "execution_count": 42,
     "metadata": {},
     "output_type": "execute_result"
    }
   ],
   "source": [
    "pca_valid.shape"
   ]
  },
  {
   "cell_type": "code",
   "execution_count": 40,
   "metadata": {},
   "outputs": [
    {
     "data": {
      "text/plain": [
       "10.511816024780273"
      ]
     },
     "execution_count": 40,
     "metadata": {},
     "output_type": "execute_result"
    }
   ],
   "source": [
    "loss = criterion(torch.from_numpy(y_pred).float(), torch.from_numpy(ValidLabel_shuffle[:,1]))\n",
    "loss.item()"
   ]
  },
  {
   "cell_type": "code",
   "execution_count": 29,
   "metadata": {},
   "outputs": [],
   "source": [
    "from sklearn.preprocessing import StandardScaler\n",
    "scaler = StandardScaler()\n",
    "scaler.fit(pca_train)\n",
    "pca_train = scaler.transform(pca_train)\n",
    "pca_valid = scaler.transform(pca_valid)"
   ]
  },
  {
   "cell_type": "code",
   "execution_count": 30,
   "metadata": {},
   "outputs": [
    {
     "data": {
      "text/plain": [
       "array([[ 1.92377853],\n",
       "       [-0.63298597],\n",
       "       [-0.27352409],\n",
       "       [-0.44200195],\n",
       "       [ 0.16428951],\n",
       "       [-0.62035579],\n",
       "       [-0.58846335],\n",
       "       [-0.77845319],\n",
       "       [-0.68751581],\n",
       "       [-1.03466529],\n",
       "       [ 2.06393817],\n",
       "       [-0.31721653],\n",
       "       [ 0.04069926],\n",
       "       [ 2.97130097],\n",
       "       [-0.4476093 ],\n",
       "       [-0.31652295],\n",
       "       [ 2.7021941 ],\n",
       "       [ 0.56251149],\n",
       "       [ 0.29623117],\n",
       "       [ 0.28435824],\n",
       "       [-0.70105855],\n",
       "       [-0.51435345],\n",
       "       [-1.08263582],\n",
       "       [-0.25381941],\n",
       "       [-0.6208595 ],\n",
       "       [ 0.39705505],\n",
       "       [-0.99078844],\n",
       "       [-0.50114279],\n",
       "       [ 2.09643439],\n",
       "       [-0.1211592 ],\n",
       "       [-0.53722652],\n",
       "       [-0.21666094],\n",
       "       [-0.95461659],\n",
       "       [ 0.61953611],\n",
       "       [ 1.77357446],\n",
       "       [ 0.24994164],\n",
       "       [-1.38377445],\n",
       "       [ 1.55618255],\n",
       "       [-0.43425397],\n",
       "       [-0.84590988],\n",
       "       [ 0.41647398],\n",
       "       [-0.18002233],\n",
       "       [-0.13228881],\n",
       "       [-0.35559903],\n",
       "       [-0.4016495 ],\n",
       "       [-1.23682631],\n",
       "       [-0.47369803],\n",
       "       [ 0.00844288],\n",
       "       [-0.79544799],\n",
       "       [ 0.0094173 ],\n",
       "       [-0.93695859],\n",
       "       [-0.91139208],\n",
       "       [-0.35705418],\n",
       "       [-1.18016814],\n",
       "       [-0.80057532],\n",
       "       [-0.15277663],\n",
       "       [-0.10347948],\n",
       "       [ 1.07981902],\n",
       "       [-0.3975206 ],\n",
       "       [-0.49590857],\n",
       "       [-0.39534643],\n",
       "       [ 1.69407922],\n",
       "       [-0.73390626],\n",
       "       [-0.75503962],\n",
       "       [ 0.668863  ],\n",
       "       [-0.69982025],\n",
       "       [-0.60764971],\n",
       "       [-1.14749561],\n",
       "       [ 0.81133376],\n",
       "       [ 0.17013261],\n",
       "       [ 0.49291982],\n",
       "       [ 2.98135338],\n",
       "       [-0.54321821],\n",
       "       [ 3.29630725],\n",
       "       [ 3.11864477],\n",
       "       [ 0.66578686],\n",
       "       [-0.8162265 ],\n",
       "       [-0.9455819 ],\n",
       "       [-0.09512133],\n",
       "       [ 0.9151743 ],\n",
       "       [ 1.79185823],\n",
       "       [-1.20890857],\n",
       "       [-0.6039442 ],\n",
       "       [-0.8002592 ],\n",
       "       [ 0.63137469],\n",
       "       [-0.53473195],\n",
       "       [-0.43329393],\n",
       "       [-0.23032224],\n",
       "       [ 0.77709452],\n",
       "       [-0.36933586],\n",
       "       [-0.86808958],\n",
       "       [ 1.96201579],\n",
       "       [-0.20728298],\n",
       "       [-0.97363965],\n",
       "       [ 1.21463314],\n",
       "       [-0.13797862],\n",
       "       [ 0.88505563],\n",
       "       [-0.64054153],\n",
       "       [-0.64050696],\n",
       "       [ 1.43140174],\n",
       "       [ 1.03898899],\n",
       "       [-0.77776981],\n",
       "       [-0.5129992 ],\n",
       "       [-0.10812422],\n",
       "       [-0.36436047],\n",
       "       [ 0.08077124],\n",
       "       [ 1.34555429],\n",
       "       [ 1.33819662],\n",
       "       [-0.41742614],\n",
       "       [-0.54823702],\n",
       "       [ 0.30317208],\n",
       "       [ 0.02130324],\n",
       "       [-0.30361439],\n",
       "       [ 1.38024997],\n",
       "       [-0.98751656],\n",
       "       [ 3.40491973],\n",
       "       [ 0.55630247],\n",
       "       [ 0.937959  ],\n",
       "       [ 0.02085429],\n",
       "       [-1.34670869],\n",
       "       [ 0.1689364 ],\n",
       "       [-0.79122128],\n",
       "       [-0.84570909],\n",
       "       [ 0.01241581],\n",
       "       [-0.89294695],\n",
       "       [-0.24582421],\n",
       "       [-1.32384421],\n",
       "       [-0.29872551],\n",
       "       [ 0.2182243 ],\n",
       "       [-0.68863078],\n",
       "       [-0.66119021],\n",
       "       [-0.47049668],\n",
       "       [-0.03604033],\n",
       "       [-0.51667474],\n",
       "       [-0.00902286],\n",
       "       [-0.88075869],\n",
       "       [-0.31676177],\n",
       "       [ 1.33049389],\n",
       "       [-0.06055874],\n",
       "       [-0.3257974 ],\n",
       "       [-0.65375287],\n",
       "       [ 0.16349627],\n",
       "       [-0.59885344],\n",
       "       [-0.4396189 ],\n",
       "       [-0.87760338],\n",
       "       [ 0.57924102],\n",
       "       [ 2.17259157],\n",
       "       [-0.91897298],\n",
       "       [-0.61725685],\n",
       "       [-0.1376148 ],\n",
       "       [-0.46931108],\n",
       "       [-1.19416115],\n",
       "       [-0.29349482],\n",
       "       [ 0.52591263],\n",
       "       [ 1.20430284],\n",
       "       [-0.61709236],\n",
       "       [-0.7191075 ],\n",
       "       [-0.92654235],\n",
       "       [ 0.30408871],\n",
       "       [ 0.95933989]])"
      ]
     },
     "execution_count": 30,
     "metadata": {},
     "output_type": "execute_result"
    }
   ],
   "source": [
    "pca_train"
   ]
  },
  {
   "cell_type": "code",
   "execution_count": 31,
   "metadata": {},
   "outputs": [],
   "source": [
    "class LinearRegressionModel(nn.Module):\n",
    "\n",
    "    def __init__(self, input_dim, output_dim):\n",
    "\n",
    "        super(LinearRegressionModel, self).__init__() \n",
    "        # Calling Super Class's constructor\n",
    "        self.linear = nn.Linear(input_dim, output_dim)\n",
    "        # nn.linear is defined in nn.Module\n",
    "\n",
    "    def forward(self, x):\n",
    "        # Here the forward pass is simply a linear function\n",
    "\n",
    "        out = self.linear(x)\n",
    "        return out"
   ]
  },
  {
   "cell_type": "code",
   "execution_count": 48,
   "metadata": {},
   "outputs": [],
   "source": [
    "model = LinearRegressionModel(1,1)\n",
    "\n",
    "criterion = nn.MSELoss()# Mean Squared Loss\n",
    "\n",
    "\n",
    "epochs = 10000"
   ]
  },
  {
   "cell_type": "code",
   "execution_count": 62,
   "metadata": {},
   "outputs": [],
   "source": [
    "model.linear.weight.data = torch.Tensor([lin.coef_])\n",
    "model.linear.bias.data = torch.Tensor([lin.intercept_])"
   ]
  },
  {
   "cell_type": "code",
   "execution_count": 63,
   "metadata": {},
   "outputs": [
    {
     "data": {
      "text/plain": [
       "Parameter containing:\n",
       "tensor([[0.1711]], requires_grad=True)"
      ]
     },
     "execution_count": 63,
     "metadata": {},
     "output_type": "execute_result"
    }
   ],
   "source": [
    "model.linear.weight"
   ]
  },
  {
   "cell_type": "code",
   "execution_count": 64,
   "metadata": {},
   "outputs": [
    {
     "data": {
      "text/plain": [
       "Parameter containing:\n",
       "tensor([34.5922], requires_grad=True)"
      ]
     },
     "execution_count": 64,
     "metadata": {},
     "output_type": "execute_result"
    }
   ],
   "source": [
    "model.linear.bias"
   ]
  },
  {
   "cell_type": "code",
   "execution_count": 65,
   "metadata": {},
   "outputs": [],
   "source": [
    "predicted =model(torch.from_numpy(pca_train).float())"
   ]
  },
  {
   "cell_type": "code",
   "execution_count": 66,
   "metadata": {},
   "outputs": [
    {
     "data": {
      "text/plain": [
       "tensor([[34.9213],\n",
       "        [34.4839],\n",
       "        [34.5454],\n",
       "        [34.5166],\n",
       "        [34.6203],\n",
       "        [34.4861],\n",
       "        [34.4915],\n",
       "        [34.4590],\n",
       "        [34.4746],\n",
       "        [34.4152],\n",
       "        [34.9453],\n",
       "        [34.5379],\n",
       "        [34.5992],\n",
       "        [35.1005],\n",
       "        [34.5156],\n",
       "        [34.5381],\n",
       "        [35.0545],\n",
       "        [34.6884],\n",
       "        [34.6429],\n",
       "        [34.6409],\n",
       "        [34.4723],\n",
       "        [34.5042],\n",
       "        [34.4070],\n",
       "        [34.5488],\n",
       "        [34.4860],\n",
       "        [34.6601],\n",
       "        [34.4227],\n",
       "        [34.5065],\n",
       "        [34.9508],\n",
       "        [34.5715],\n",
       "        [34.5003],\n",
       "        [34.5551],\n",
       "        [34.4289],\n",
       "        [34.6982],\n",
       "        [34.8956],\n",
       "        [34.6350],\n",
       "        [34.3555],\n",
       "        [34.8584],\n",
       "        [34.5179],\n",
       "        [34.4475],\n",
       "        [34.6635],\n",
       "        [34.5614],\n",
       "        [34.5696],\n",
       "        [34.5314],\n",
       "        [34.5235],\n",
       "        [34.3806],\n",
       "        [34.5112],\n",
       "        [34.5937],\n",
       "        [34.4561],\n",
       "        [34.5938],\n",
       "        [34.4319],\n",
       "        [34.4363],\n",
       "        [34.5311],\n",
       "        [34.3903],\n",
       "        [34.4553],\n",
       "        [34.5661],\n",
       "        [34.5745],\n",
       "        [34.7769],\n",
       "        [34.5242],\n",
       "        [34.5074],\n",
       "        [34.5246],\n",
       "        [34.8820],\n",
       "        [34.4667],\n",
       "        [34.4631],\n",
       "        [34.7066],\n",
       "        [34.4725],\n",
       "        [34.4883],\n",
       "        [34.3959],\n",
       "        [34.7310],\n",
       "        [34.6213],\n",
       "        [34.6765],\n",
       "        [35.1022],\n",
       "        [34.4993],\n",
       "        [35.1561],\n",
       "        [35.1257],\n",
       "        [34.7061],\n",
       "        [34.4526],\n",
       "        [34.4305],\n",
       "        [34.5759],\n",
       "        [34.7488],\n",
       "        [34.8987],\n",
       "        [34.3854],\n",
       "        [34.4889],\n",
       "        [34.4553],\n",
       "        [34.7002],\n",
       "        [34.5007],\n",
       "        [34.5181],\n",
       "        [34.5528],\n",
       "        [34.7252],\n",
       "        [34.5290],\n",
       "        [34.4437],\n",
       "        [34.9279],\n",
       "        [34.5568],\n",
       "        [34.4257],\n",
       "        [34.8000],\n",
       "        [34.5686],\n",
       "        [34.7436],\n",
       "        [34.4826],\n",
       "        [34.4826],\n",
       "        [34.8371],\n",
       "        [34.7700],\n",
       "        [34.4592],\n",
       "        [34.5045],\n",
       "        [34.5737],\n",
       "        [34.5299],\n",
       "        [34.6060],\n",
       "        [34.8224],\n",
       "        [34.8211],\n",
       "        [34.5208],\n",
       "        [34.4984],\n",
       "        [34.6441],\n",
       "        [34.5959],\n",
       "        [34.5403],\n",
       "        [34.8283],\n",
       "        [34.4233],\n",
       "        [35.1747],\n",
       "        [34.6874],\n",
       "        [34.7527],\n",
       "        [34.5958],\n",
       "        [34.3618],\n",
       "        [34.6211],\n",
       "        [34.4569],\n",
       "        [34.4475],\n",
       "        [34.5943],\n",
       "        [34.4395],\n",
       "        [34.5502],\n",
       "        [34.3657],\n",
       "        [34.5411],\n",
       "        [34.6295],\n",
       "        [34.4744],\n",
       "        [34.4791],\n",
       "        [34.5117],\n",
       "        [34.5860],\n",
       "        [34.5038],\n",
       "        [34.5907],\n",
       "        [34.4415],\n",
       "        [34.5380],\n",
       "        [34.8198],\n",
       "        [34.5819],\n",
       "        [34.5365],\n",
       "        [34.4804],\n",
       "        [34.6202],\n",
       "        [34.4898],\n",
       "        [34.5170],\n",
       "        [34.4421],\n",
       "        [34.6913],\n",
       "        [34.9639],\n",
       "        [34.4350],\n",
       "        [34.4866],\n",
       "        [34.5687],\n",
       "        [34.5119],\n",
       "        [34.3879],\n",
       "        [34.5420],\n",
       "        [34.6822],\n",
       "        [34.7982],\n",
       "        [34.4866],\n",
       "        [34.4692],\n",
       "        [34.4337],\n",
       "        [34.6442],\n",
       "        [34.7563]], grad_fn=<AddmmBackward>)"
      ]
     },
     "execution_count": 66,
     "metadata": {},
     "output_type": "execute_result"
    }
   ],
   "source": [
    "predicted"
   ]
  },
  {
   "cell_type": "code",
   "execution_count": null,
   "metadata": {},
   "outputs": [],
   "source": [
    "loss = criterion(torch.from_numpy(y_pred).float(), torch.from_numpy(ValidLabel_shuffle[:,1]))\n",
    "loss.item()"
   ]
  },
  {
   "cell_type": "code",
   "execution_count": 36,
   "metadata": {},
   "outputs": [
    {
     "name": "stdout",
     "output_type": "stream",
     "text": [
      "tensor([[-4.5475e-13]])\n",
      "tensor([-0.0002])\n"
     ]
    }
   ],
   "source": [
    "for param in model.parameters():\n",
    "    print(param.grad)"
   ]
  },
  {
   "cell_type": "code",
   "execution_count": 34,
   "metadata": {},
   "outputs": [
    {
     "name": "stdout",
     "output_type": "stream",
     "text": [
      "epoch 0, loss 1198.7548828125\n",
      "epoch 1, loss 1151.8240966796875\n",
      "epoch 2, loss 1106.7518310546875\n",
      "epoch 3, loss 1063.46435546875\n",
      "epoch 4, loss 1021.89111328125\n",
      "epoch 5, loss 981.964111328125\n",
      "epoch 6, loss 943.6182861328125\n",
      "epoch 7, loss 906.7908935546875\n",
      "epoch 8, loss 871.4219360351562\n",
      "epoch 9, loss 837.4535522460938\n",
      "epoch 10, loss 804.830322265625\n",
      "epoch 11, loss 773.4989624023438\n",
      "epoch 12, loss 743.4083251953125\n",
      "epoch 13, loss 714.5092163085938\n",
      "epoch 14, loss 686.7545776367188\n",
      "epoch 15, loss 660.0990600585938\n",
      "epoch 16, loss 634.4990234375\n",
      "epoch 17, loss 609.9127807617188\n",
      "epoch 18, loss 586.3001708984375\n",
      "epoch 19, loss 563.6226196289062\n",
      "epoch 20, loss 541.8430786132812\n",
      "epoch 21, loss 520.926025390625\n",
      "epoch 22, loss 500.8372802734375\n",
      "epoch 23, loss 481.5440673828125\n",
      "epoch 24, loss 463.01483154296875\n",
      "epoch 25, loss 445.2193908691406\n",
      "epoch 26, loss 428.1286315917969\n",
      "epoch 27, loss 411.7146911621094\n",
      "epoch 28, loss 395.9507141113281\n",
      "epoch 29, loss 380.8110046386719\n",
      "epoch 30, loss 366.27081298828125\n",
      "epoch 31, loss 352.3064270019531\n",
      "epoch 32, loss 338.8949890136719\n",
      "epoch 33, loss 326.01470947265625\n",
      "epoch 34, loss 313.6444396972656\n",
      "epoch 35, loss 301.7640380859375\n",
      "epoch 36, loss 290.3540954589844\n",
      "epoch 37, loss 279.39599609375\n",
      "epoch 38, loss 268.8718566894531\n",
      "epoch 39, loss 258.7644348144531\n",
      "epoch 40, loss 249.0573272705078\n",
      "epoch 41, loss 239.73458862304688\n",
      "epoch 42, loss 230.781005859375\n",
      "epoch 43, loss 222.18202209472656\n",
      "epoch 44, loss 213.9235382080078\n",
      "epoch 45, loss 205.99208068847656\n",
      "epoch 46, loss 198.3747100830078\n",
      "epoch 47, loss 191.05902099609375\n",
      "epoch 48, loss 184.0330047607422\n",
      "epoch 49, loss 177.28521728515625\n",
      "epoch 50, loss 170.80465698242188\n",
      "epoch 51, loss 164.58070373535156\n",
      "epoch 52, loss 158.6032257080078\n",
      "epoch 53, loss 152.8624725341797\n",
      "epoch 54, loss 147.3490447998047\n",
      "epoch 55, loss 142.05393981933594\n",
      "epoch 56, loss 136.96852111816406\n",
      "epoch 57, loss 132.0845184326172\n",
      "epoch 58, loss 127.39387512207031\n",
      "epoch 59, loss 122.8890151977539\n",
      "epoch 60, loss 118.56251525878906\n",
      "epoch 61, loss 114.4073486328125\n",
      "epoch 62, loss 110.41675567626953\n",
      "epoch 63, loss 106.58419036865234\n",
      "epoch 64, loss 102.90338897705078\n",
      "epoch 65, loss 99.36832427978516\n",
      "epoch 66, loss 95.9732666015625\n",
      "epoch 67, loss 92.7126693725586\n",
      "epoch 68, loss 89.5811538696289\n",
      "epoch 69, loss 86.57365417480469\n",
      "epoch 70, loss 83.68526458740234\n",
      "epoch 71, loss 80.91126251220703\n",
      "epoch 72, loss 78.24710083007812\n",
      "epoch 73, loss 75.68843841552734\n",
      "epoch 74, loss 73.23110961914062\n",
      "epoch 75, loss 70.87109375\n",
      "epoch 76, loss 68.60453796386719\n",
      "epoch 77, loss 66.42771911621094\n",
      "epoch 78, loss 64.33711242675781\n",
      "epoch 79, loss 62.32929611206055\n",
      "epoch 80, loss 60.40098571777344\n",
      "epoch 81, loss 58.54903030395508\n",
      "epoch 82, loss 56.770408630371094\n",
      "epoch 83, loss 55.06222915649414\n",
      "epoch 84, loss 53.42169189453125\n",
      "epoch 85, loss 51.84612274169922\n",
      "epoch 86, loss 50.33293151855469\n",
      "epoch 87, loss 48.879676818847656\n",
      "epoch 88, loss 47.48396301269531\n",
      "epoch 89, loss 46.143516540527344\n",
      "epoch 90, loss 44.85615539550781\n",
      "epoch 91, loss 43.61977767944336\n",
      "epoch 92, loss 42.43236541748047\n",
      "epoch 93, loss 41.29196548461914\n",
      "epoch 94, loss 40.19672393798828\n",
      "epoch 95, loss 39.14485168457031\n",
      "epoch 96, loss 38.134639739990234\n",
      "epoch 97, loss 37.1644287109375\n",
      "epoch 98, loss 36.23263931274414\n",
      "epoch 99, loss 35.337745666503906\n",
      "epoch 100, loss 34.47828674316406\n",
      "epoch 101, loss 33.65286636352539\n",
      "epoch 102, loss 32.86014175415039\n",
      "epoch 103, loss 32.09880447387695\n",
      "epoch 104, loss 31.367610931396484\n",
      "epoch 105, loss 30.66538429260254\n",
      "epoch 106, loss 29.990962982177734\n",
      "epoch 107, loss 29.343244552612305\n",
      "epoch 108, loss 28.721174240112305\n",
      "epoch 109, loss 28.123733520507812\n",
      "epoch 110, loss 27.54996109008789\n",
      "epoch 111, loss 26.998905181884766\n",
      "epoch 112, loss 26.46966552734375\n",
      "epoch 113, loss 25.96139144897461\n",
      "epoch 114, loss 25.47323989868164\n",
      "epoch 115, loss 25.00442886352539\n",
      "epoch 116, loss 24.554174423217773\n",
      "epoch 117, loss 24.121749877929688\n",
      "epoch 118, loss 23.706449508666992\n",
      "epoch 119, loss 23.307594299316406\n",
      "epoch 120, loss 22.924537658691406\n",
      "epoch 121, loss 22.55664825439453\n",
      "epoch 122, loss 22.203327178955078\n",
      "epoch 123, loss 21.864002227783203\n",
      "epoch 124, loss 21.538116455078125\n",
      "epoch 125, loss 21.225130081176758\n",
      "epoch 126, loss 20.924541473388672\n",
      "epoch 127, loss 20.6358585357666\n",
      "epoch 128, loss 20.358606338500977\n",
      "epoch 129, loss 20.09233283996582\n",
      "epoch 130, loss 19.836597442626953\n",
      "epoch 131, loss 19.591001510620117\n",
      "epoch 132, loss 19.355125427246094\n",
      "epoch 133, loss 19.12859344482422\n",
      "epoch 134, loss 18.9110164642334\n",
      "epoch 135, loss 18.70206069946289\n",
      "epoch 136, loss 18.50138282775879\n",
      "epoch 137, loss 18.308650970458984\n",
      "epoch 138, loss 18.123544692993164\n",
      "epoch 139, loss 17.945775985717773\n",
      "epoch 140, loss 17.775041580200195\n",
      "epoch 141, loss 17.611074447631836\n",
      "epoch 142, loss 17.453594207763672\n",
      "epoch 143, loss 17.302350997924805\n",
      "epoch 144, loss 17.15709686279297\n",
      "epoch 145, loss 17.017595291137695\n",
      "epoch 146, loss 16.883623123168945\n",
      "epoch 147, loss 16.75495719909668\n",
      "epoch 148, loss 16.63138771057129\n",
      "epoch 149, loss 16.51270866394043\n",
      "epoch 150, loss 16.398733139038086\n",
      "epoch 151, loss 16.289274215698242\n",
      "epoch 152, loss 16.184146881103516\n",
      "epoch 153, loss 16.083181381225586\n",
      "epoch 154, loss 15.986211776733398\n",
      "epoch 155, loss 15.893080711364746\n",
      "epoch 156, loss 15.80363941192627\n",
      "epoch 157, loss 15.717744827270508\n",
      "epoch 158, loss 15.635247230529785\n",
      "epoch 159, loss 15.556012153625488\n",
      "epoch 160, loss 15.479923248291016\n",
      "epoch 161, loss 15.406843185424805\n",
      "epoch 162, loss 15.336652755737305\n",
      "epoch 163, loss 15.269246101379395\n",
      "epoch 164, loss 15.204509735107422\n",
      "epoch 165, loss 15.14233684539795\n",
      "epoch 166, loss 15.082622528076172\n",
      "epoch 167, loss 15.025275230407715\n",
      "epoch 168, loss 14.970197677612305\n",
      "epoch 169, loss 14.917304039001465\n",
      "epoch 170, loss 14.86650276184082\n",
      "epoch 171, loss 14.817715644836426\n",
      "epoch 172, loss 14.770856857299805\n",
      "epoch 173, loss 14.72585391998291\n",
      "epoch 174, loss 14.682634353637695\n",
      "epoch 175, loss 14.641130447387695\n",
      "epoch 176, loss 14.601266860961914\n",
      "epoch 177, loss 14.562980651855469\n",
      "epoch 178, loss 14.526209831237793\n",
      "epoch 179, loss 14.49089527130127\n",
      "epoch 180, loss 14.456978797912598\n",
      "epoch 181, loss 14.42440414428711\n",
      "epoch 182, loss 14.393119812011719\n",
      "epoch 183, loss 14.363080024719238\n",
      "epoch 184, loss 14.334226608276367\n",
      "epoch 185, loss 14.306513786315918\n",
      "epoch 186, loss 14.279899597167969\n",
      "epoch 187, loss 14.254339218139648\n",
      "epoch 188, loss 14.229790687561035\n",
      "epoch 189, loss 14.206215858459473\n",
      "epoch 190, loss 14.183575630187988\n",
      "epoch 191, loss 14.161829948425293\n",
      "epoch 192, loss 14.140947341918945\n",
      "epoch 193, loss 14.120890617370605\n",
      "epoch 194, loss 14.101631164550781\n",
      "epoch 195, loss 14.08313274383545\n",
      "epoch 196, loss 14.065363883972168\n",
      "epoch 197, loss 14.048301696777344\n",
      "epoch 198, loss 14.031911849975586\n",
      "epoch 199, loss 14.016173362731934\n",
      "epoch 200, loss 14.001057624816895\n",
      "epoch 201, loss 13.986541748046875\n",
      "epoch 202, loss 13.972599029541016\n",
      "epoch 203, loss 13.959206581115723\n",
      "epoch 204, loss 13.946345329284668\n",
      "epoch 205, loss 13.933993339538574\n",
      "epoch 206, loss 13.922133445739746\n",
      "epoch 207, loss 13.910740852355957\n",
      "epoch 208, loss 13.899798393249512\n",
      "epoch 209, loss 13.889289855957031\n",
      "epoch 210, loss 13.879196166992188\n",
      "epoch 211, loss 13.869503021240234\n",
      "epoch 212, loss 13.86019515991211\n",
      "epoch 213, loss 13.851255416870117\n",
      "epoch 214, loss 13.842670440673828\n",
      "epoch 215, loss 13.834425926208496\n",
      "epoch 216, loss 13.826508522033691\n",
      "epoch 217, loss 13.818902015686035\n",
      "epoch 218, loss 13.811595916748047\n",
      "epoch 219, loss 13.804579734802246\n",
      "epoch 220, loss 13.797844886779785\n",
      "epoch 221, loss 13.791375160217285\n",
      "epoch 222, loss 13.785160064697266\n",
      "epoch 223, loss 13.779192924499512\n",
      "epoch 224, loss 13.773460388183594\n",
      "epoch 225, loss 13.76795482635498\n",
      "epoch 226, loss 13.762666702270508\n",
      "epoch 227, loss 13.757590293884277\n",
      "epoch 228, loss 13.752713203430176\n",
      "epoch 229, loss 13.748029708862305\n",
      "epoch 230, loss 13.743532180786133\n",
      "epoch 231, loss 13.739213943481445\n",
      "epoch 232, loss 13.735065460205078\n",
      "epoch 233, loss 13.731081008911133\n",
      "epoch 234, loss 13.727253913879395\n",
      "epoch 235, loss 13.723579406738281\n",
      "epoch 236, loss 13.720049858093262\n",
      "epoch 237, loss 13.716660499572754\n",
      "epoch 238, loss 13.71340560913086\n",
      "epoch 239, loss 13.71027946472168\n",
      "epoch 240, loss 13.707276344299316\n",
      "epoch 241, loss 13.704391479492188\n",
      "epoch 242, loss 13.70162296295166\n",
      "epoch 243, loss 13.698963165283203\n",
      "epoch 244, loss 13.69640827178955\n",
      "epoch 245, loss 13.693954467773438\n",
      "epoch 246, loss 13.691597938537598\n",
      "epoch 247, loss 13.689335823059082\n",
      "epoch 248, loss 13.687162399291992\n",
      "epoch 249, loss 13.685074806213379\n",
      "epoch 250, loss 13.68307113647461\n",
      "epoch 251, loss 13.681146621704102\n",
      "epoch 252, loss 13.67929744720459\n",
      "epoch 253, loss 13.677521705627441\n",
      "epoch 254, loss 13.675816535949707\n",
      "epoch 255, loss 13.674179077148438\n",
      "epoch 256, loss 13.672605514526367\n",
      "epoch 257, loss 13.67109489440918\n",
      "epoch 258, loss 13.669645309448242\n",
      "epoch 259, loss 13.668251991271973\n",
      "epoch 260, loss 13.666913986206055\n",
      "epoch 261, loss 13.665629386901855\n",
      "epoch 262, loss 13.66439437866211\n",
      "epoch 263, loss 13.663208961486816\n",
      "epoch 264, loss 13.662070274353027\n",
      "epoch 265, loss 13.660977363586426\n",
      "epoch 266, loss 13.659926414489746\n",
      "epoch 267, loss 13.658917427062988\n",
      "epoch 268, loss 13.65794849395752\n",
      "epoch 269, loss 13.657018661499023\n",
      "epoch 270, loss 13.65612506866455\n",
      "epoch 271, loss 13.655266761779785\n",
      "epoch 272, loss 13.65444278717041\n",
      "epoch 273, loss 13.65365219116211\n",
      "epoch 274, loss 13.652892112731934\n",
      "epoch 275, loss 13.652162551879883\n",
      "epoch 276, loss 13.651460647583008\n",
      "epoch 277, loss 13.650787353515625\n",
      "epoch 278, loss 13.650140762329102\n",
      "epoch 279, loss 13.649518966674805\n",
      "epoch 280, loss 13.64892292022705\n",
      "epoch 281, loss 13.64834976196289\n",
      "epoch 282, loss 13.647799491882324\n",
      "epoch 283, loss 13.647271156311035\n",
      "epoch 284, loss 13.646763801574707\n",
      "epoch 285, loss 13.646276473999023\n",
      "epoch 286, loss 13.645808219909668\n",
      "epoch 287, loss 13.645358085632324\n",
      "epoch 288, loss 13.644927024841309\n",
      "epoch 289, loss 13.644513130187988\n",
      "epoch 290, loss 13.64411449432373\n",
      "epoch 291, loss 13.643732070922852\n",
      "epoch 292, loss 13.643364906311035\n",
      "epoch 293, loss 13.643012046813965\n",
      "epoch 294, loss 13.64267349243164\n",
      "epoch 295, loss 13.642348289489746\n",
      "epoch 296, loss 13.642035484313965\n",
      "epoch 297, loss 13.641735076904297\n",
      "epoch 298, loss 13.641448020935059\n",
      "epoch 299, loss 13.641170501708984\n",
      "epoch 300, loss 13.640904426574707\n",
      "epoch 301, loss 13.640649795532227\n",
      "epoch 302, loss 13.64040470123291\n",
      "epoch 303, loss 13.640169143676758\n",
      "epoch 304, loss 13.63994312286377\n",
      "epoch 305, loss 13.639726638793945\n",
      "epoch 306, loss 13.639517784118652\n",
      "epoch 307, loss 13.639317512512207\n",
      "epoch 308, loss 13.63912582397461\n",
      "epoch 309, loss 13.638940811157227\n",
      "epoch 310, loss 13.638763427734375\n",
      "epoch 311, loss 13.638592720031738\n",
      "epoch 312, loss 13.638428688049316\n",
      "epoch 313, loss 13.638272285461426\n",
      "epoch 314, loss 13.638120651245117\n",
      "epoch 315, loss 13.637975692749023\n",
      "epoch 316, loss 13.637836456298828\n",
      "epoch 317, loss 13.637702941894531\n",
      "epoch 318, loss 13.637574195861816\n",
      "epoch 319, loss 13.637450218200684\n",
      "epoch 320, loss 13.63733196258545\n",
      "epoch 321, loss 13.637218475341797\n",
      "epoch 322, loss 13.63710880279541\n",
      "epoch 323, loss 13.637003898620605\n",
      "epoch 324, loss 13.636903762817383\n",
      "epoch 325, loss 13.63680648803711\n",
      "epoch 326, loss 13.636713981628418\n",
      "epoch 327, loss 13.636624336242676\n"
     ]
    },
    {
     "name": "stdout",
     "output_type": "stream",
     "text": [
      "epoch 328, loss 13.6365385055542\n",
      "epoch 329, loss 13.636456489562988\n",
      "epoch 330, loss 13.636377334594727\n",
      "epoch 331, loss 13.636301040649414\n",
      "epoch 332, loss 13.636228561401367\n",
      "epoch 333, loss 13.636157989501953\n",
      "epoch 334, loss 13.636091232299805\n",
      "epoch 335, loss 13.636026382446289\n",
      "epoch 336, loss 13.635964393615723\n",
      "epoch 337, loss 13.635904312133789\n",
      "epoch 338, loss 13.635847091674805\n",
      "epoch 339, loss 13.63579273223877\n",
      "epoch 340, loss 13.635740280151367\n",
      "epoch 341, loss 13.635688781738281\n",
      "epoch 342, loss 13.635640144348145\n",
      "epoch 343, loss 13.63559341430664\n",
      "epoch 344, loss 13.63554859161377\n",
      "epoch 345, loss 13.635505676269531\n",
      "epoch 346, loss 13.63546371459961\n",
      "epoch 347, loss 13.635424613952637\n",
      "epoch 348, loss 13.635385513305664\n",
      "epoch 349, loss 13.63534927368164\n",
      "epoch 350, loss 13.635313987731934\n",
      "epoch 351, loss 13.63528060913086\n",
      "epoch 352, loss 13.635248184204102\n",
      "epoch 353, loss 13.63521671295166\n",
      "epoch 354, loss 13.635186195373535\n",
      "epoch 355, loss 13.635157585144043\n",
      "epoch 356, loss 13.635129928588867\n",
      "epoch 357, loss 13.635103225708008\n",
      "epoch 358, loss 13.635078430175781\n",
      "epoch 359, loss 13.635053634643555\n",
      "epoch 360, loss 13.635029792785645\n",
      "epoch 361, loss 13.635007858276367\n",
      "epoch 362, loss 13.63498592376709\n",
      "epoch 363, loss 13.634964942932129\n",
      "epoch 364, loss 13.634944915771484\n",
      "epoch 365, loss 13.634925842285156\n",
      "epoch 366, loss 13.634906768798828\n",
      "epoch 367, loss 13.634889602661133\n",
      "epoch 368, loss 13.634872436523438\n",
      "epoch 369, loss 13.634856224060059\n",
      "epoch 370, loss 13.63484001159668\n",
      "epoch 371, loss 13.634824752807617\n",
      "epoch 372, loss 13.634810447692871\n",
      "epoch 373, loss 13.634797096252441\n",
      "epoch 374, loss 13.634783744812012\n",
      "epoch 375, loss 13.634770393371582\n",
      "epoch 376, loss 13.634757995605469\n",
      "epoch 377, loss 13.634746551513672\n",
      "epoch 378, loss 13.634735107421875\n",
      "epoch 379, loss 13.634723663330078\n",
      "epoch 380, loss 13.634714126586914\n",
      "epoch 381, loss 13.634703636169434\n",
      "epoch 382, loss 13.63469409942627\n",
      "epoch 383, loss 13.634684562683105\n",
      "epoch 384, loss 13.634675979614258\n",
      "epoch 385, loss 13.63466739654541\n",
      "epoch 386, loss 13.634658813476562\n",
      "epoch 387, loss 13.634651184082031\n",
      "epoch 388, loss 13.6346435546875\n",
      "epoch 389, loss 13.634635925292969\n",
      "epoch 390, loss 13.634629249572754\n",
      "epoch 391, loss 13.634622573852539\n",
      "epoch 392, loss 13.634615898132324\n",
      "epoch 393, loss 13.63460922241211\n",
      "epoch 394, loss 13.634603500366211\n",
      "epoch 395, loss 13.634597778320312\n",
      "epoch 396, loss 13.634592056274414\n",
      "epoch 397, loss 13.634587287902832\n",
      "epoch 398, loss 13.634581565856934\n",
      "epoch 399, loss 13.634576797485352\n",
      "epoch 400, loss 13.63457202911377\n",
      "epoch 401, loss 13.634568214416504\n",
      "epoch 402, loss 13.634563446044922\n",
      "epoch 403, loss 13.634559631347656\n",
      "epoch 404, loss 13.63455581665039\n",
      "epoch 405, loss 13.634552001953125\n",
      "epoch 406, loss 13.63454818725586\n",
      "epoch 407, loss 13.634544372558594\n",
      "epoch 408, loss 13.634541511535645\n",
      "epoch 409, loss 13.634537696838379\n",
      "epoch 410, loss 13.63453483581543\n",
      "epoch 411, loss 13.63453197479248\n",
      "epoch 412, loss 13.634529113769531\n",
      "epoch 413, loss 13.634526252746582\n",
      "epoch 414, loss 13.634523391723633\n",
      "epoch 415, loss 13.634520530700684\n",
      "epoch 416, loss 13.63451862335205\n",
      "epoch 417, loss 13.634515762329102\n",
      "epoch 418, loss 13.634513854980469\n",
      "epoch 419, loss 13.634511947631836\n",
      "epoch 420, loss 13.634509086608887\n",
      "epoch 421, loss 13.634507179260254\n",
      "epoch 422, loss 13.634505271911621\n",
      "epoch 423, loss 13.634503364562988\n",
      "epoch 424, loss 13.634502410888672\n",
      "epoch 425, loss 13.634500503540039\n",
      "epoch 426, loss 13.634498596191406\n",
      "epoch 427, loss 13.634496688842773\n",
      "epoch 428, loss 13.634495735168457\n",
      "epoch 429, loss 13.634493827819824\n",
      "epoch 430, loss 13.634492874145508\n",
      "epoch 431, loss 13.634490966796875\n",
      "epoch 432, loss 13.634490013122559\n",
      "epoch 433, loss 13.634489059448242\n",
      "epoch 434, loss 13.634488105773926\n",
      "epoch 435, loss 13.634486198425293\n",
      "epoch 436, loss 13.634485244750977\n",
      "epoch 437, loss 13.63448429107666\n",
      "epoch 438, loss 13.634483337402344\n",
      "epoch 439, loss 13.634482383728027\n",
      "epoch 440, loss 13.634481430053711\n",
      "epoch 441, loss 13.634480476379395\n",
      "epoch 442, loss 13.634479522705078\n",
      "epoch 443, loss 13.634478569030762\n",
      "epoch 444, loss 13.634478569030762\n",
      "epoch 445, loss 13.634477615356445\n",
      "epoch 446, loss 13.634476661682129\n",
      "epoch 447, loss 13.634475708007812\n",
      "epoch 448, loss 13.634475708007812\n",
      "epoch 449, loss 13.634474754333496\n",
      "epoch 450, loss 13.63447380065918\n",
      "epoch 451, loss 13.63447380065918\n",
      "epoch 452, loss 13.634472846984863\n",
      "epoch 453, loss 13.634472846984863\n",
      "epoch 454, loss 13.634471893310547\n",
      "epoch 455, loss 13.63447093963623\n",
      "epoch 456, loss 13.63447093963623\n",
      "epoch 457, loss 13.634469985961914\n",
      "epoch 458, loss 13.634469985961914\n",
      "epoch 459, loss 13.634469985961914\n",
      "epoch 460, loss 13.634469032287598\n",
      "epoch 461, loss 13.634469032287598\n",
      "epoch 462, loss 13.634468078613281\n",
      "epoch 463, loss 13.634468078613281\n",
      "epoch 464, loss 13.634467124938965\n",
      "epoch 465, loss 13.634467124938965\n",
      "epoch 466, loss 13.634467124938965\n",
      "epoch 467, loss 13.634466171264648\n",
      "epoch 468, loss 13.634466171264648\n",
      "epoch 469, loss 13.634466171264648\n",
      "epoch 470, loss 13.634466171264648\n",
      "epoch 471, loss 13.634465217590332\n",
      "epoch 472, loss 13.634465217590332\n",
      "epoch 473, loss 13.634465217590332\n",
      "epoch 474, loss 13.634465217590332\n",
      "epoch 475, loss 13.634464263916016\n",
      "epoch 476, loss 13.634464263916016\n",
      "epoch 477, loss 13.634464263916016\n",
      "epoch 478, loss 13.634464263916016\n",
      "epoch 479, loss 13.6344633102417\n",
      "epoch 480, loss 13.6344633102417\n",
      "epoch 481, loss 13.6344633102417\n",
      "epoch 482, loss 13.6344633102417\n",
      "epoch 483, loss 13.6344633102417\n",
      "epoch 484, loss 13.6344633102417\n",
      "epoch 485, loss 13.634462356567383\n",
      "epoch 486, loss 13.634462356567383\n",
      "epoch 487, loss 13.634462356567383\n",
      "epoch 488, loss 13.634462356567383\n",
      "epoch 489, loss 13.634462356567383\n",
      "epoch 490, loss 13.634462356567383\n",
      "epoch 491, loss 13.634462356567383\n",
      "epoch 492, loss 13.634461402893066\n",
      "epoch 493, loss 13.634461402893066\n",
      "epoch 494, loss 13.634461402893066\n",
      "epoch 495, loss 13.634461402893066\n",
      "epoch 496, loss 13.634461402893066\n",
      "epoch 497, loss 13.634461402893066\n",
      "epoch 498, loss 13.634461402893066\n",
      "epoch 499, loss 13.634461402893066\n",
      "epoch 500, loss 13.634461402893066\n",
      "epoch 501, loss 13.634461402893066\n",
      "epoch 502, loss 13.63446044921875\n",
      "epoch 503, loss 13.63446044921875\n",
      "epoch 504, loss 13.63446044921875\n",
      "epoch 505, loss 13.63446044921875\n",
      "epoch 506, loss 13.63446044921875\n",
      "epoch 507, loss 13.63446044921875\n",
      "epoch 508, loss 13.63446044921875\n",
      "epoch 509, loss 13.63446044921875\n",
      "epoch 510, loss 13.63446044921875\n",
      "epoch 511, loss 13.63446044921875\n",
      "epoch 512, loss 13.63446044921875\n",
      "epoch 513, loss 13.63446044921875\n",
      "epoch 514, loss 13.63446044921875\n",
      "epoch 515, loss 13.63446044921875\n",
      "epoch 516, loss 13.63446044921875\n",
      "epoch 517, loss 13.63446044921875\n",
      "epoch 518, loss 13.63446044921875\n",
      "epoch 519, loss 13.63446044921875\n",
      "epoch 520, loss 13.634459495544434\n",
      "epoch 521, loss 13.634459495544434\n",
      "epoch 522, loss 13.634459495544434\n",
      "epoch 523, loss 13.634459495544434\n",
      "epoch 524, loss 13.634459495544434\n",
      "epoch 525, loss 13.634459495544434\n",
      "epoch 526, loss 13.634459495544434\n",
      "epoch 527, loss 13.634459495544434\n",
      "epoch 528, loss 13.634459495544434\n",
      "epoch 529, loss 13.634459495544434\n",
      "epoch 530, loss 13.634459495544434\n",
      "epoch 531, loss 13.634459495544434\n",
      "epoch 532, loss 13.634459495544434\n",
      "epoch 533, loss 13.634459495544434\n",
      "epoch 534, loss 13.634459495544434\n",
      "epoch 535, loss 13.634459495544434\n",
      "epoch 536, loss 13.634459495544434\n",
      "epoch 537, loss 13.634459495544434\n",
      "epoch 538, loss 13.634459495544434\n",
      "epoch 539, loss 13.634459495544434\n",
      "epoch 540, loss 13.634459495544434\n",
      "epoch 541, loss 13.634459495544434\n",
      "epoch 542, loss 13.634459495544434\n",
      "epoch 543, loss 13.634459495544434\n",
      "epoch 544, loss 13.634459495544434\n",
      "epoch 545, loss 13.634459495544434\n",
      "epoch 546, loss 13.634459495544434\n",
      "epoch 547, loss 13.634459495544434\n",
      "epoch 548, loss 13.634459495544434\n",
      "epoch 549, loss 13.634459495544434\n",
      "epoch 550, loss 13.634459495544434\n",
      "epoch 551, loss 13.634459495544434\n",
      "epoch 552, loss 13.634459495544434\n",
      "epoch 553, loss 13.634459495544434\n",
      "epoch 554, loss 13.634459495544434\n",
      "epoch 555, loss 13.634459495544434\n",
      "epoch 556, loss 13.634459495544434\n",
      "epoch 557, loss 13.634459495544434\n",
      "epoch 558, loss 13.634459495544434\n",
      "epoch 559, loss 13.634459495544434\n",
      "epoch 560, loss 13.634459495544434\n",
      "epoch 561, loss 13.634459495544434\n",
      "epoch 562, loss 13.634459495544434\n",
      "epoch 563, loss 13.634459495544434\n",
      "epoch 564, loss 13.634459495544434\n",
      "epoch 565, loss 13.634459495544434\n",
      "epoch 566, loss 13.634459495544434\n",
      "epoch 567, loss 13.634459495544434\n",
      "epoch 568, loss 13.634459495544434\n",
      "epoch 569, loss 13.634459495544434\n",
      "epoch 570, loss 13.634459495544434\n",
      "epoch 571, loss 13.634459495544434\n",
      "epoch 572, loss 13.634459495544434\n",
      "epoch 573, loss 13.634459495544434\n",
      "epoch 574, loss 13.634459495544434\n",
      "epoch 575, loss 13.634459495544434\n",
      "epoch 576, loss 13.634459495544434\n",
      "epoch 577, loss 13.634459495544434\n",
      "epoch 578, loss 13.634459495544434\n",
      "epoch 579, loss 13.634459495544434\n",
      "epoch 580, loss 13.634459495544434\n",
      "epoch 581, loss 13.634459495544434\n",
      "epoch 582, loss 13.634459495544434\n",
      "epoch 583, loss 13.634459495544434\n",
      "epoch 584, loss 13.634459495544434\n",
      "epoch 585, loss 13.634459495544434\n",
      "epoch 586, loss 13.634459495544434\n",
      "epoch 587, loss 13.634459495544434\n",
      "epoch 588, loss 13.634459495544434\n",
      "epoch 589, loss 13.634459495544434\n",
      "epoch 590, loss 13.634459495544434\n",
      "epoch 591, loss 13.634459495544434\n",
      "epoch 592, loss 13.634459495544434\n",
      "epoch 593, loss 13.634459495544434\n",
      "epoch 594, loss 13.634459495544434\n",
      "epoch 595, loss 13.634459495544434\n",
      "epoch 596, loss 13.634459495544434\n",
      "epoch 597, loss 13.634459495544434\n",
      "epoch 598, loss 13.634459495544434\n",
      "epoch 599, loss 13.634459495544434\n",
      "epoch 600, loss 13.634459495544434\n",
      "epoch 601, loss 13.634459495544434\n",
      "epoch 602, loss 13.634459495544434\n",
      "epoch 603, loss 13.634459495544434\n",
      "epoch 604, loss 13.634459495544434\n",
      "epoch 605, loss 13.634459495544434\n",
      "epoch 606, loss 13.634459495544434\n",
      "epoch 607, loss 13.634459495544434\n",
      "epoch 608, loss 13.634459495544434\n",
      "epoch 609, loss 13.634459495544434\n",
      "epoch 610, loss 13.634459495544434\n",
      "epoch 611, loss 13.634459495544434\n",
      "epoch 612, loss 13.634459495544434\n",
      "epoch 613, loss 13.634459495544434\n",
      "epoch 614, loss 13.634459495544434\n",
      "epoch 615, loss 13.634459495544434\n",
      "epoch 616, loss 13.634459495544434\n",
      "epoch 617, loss 13.634459495544434\n",
      "epoch 618, loss 13.634459495544434\n",
      "epoch 619, loss 13.634459495544434\n",
      "epoch 620, loss 13.634459495544434\n",
      "epoch 621, loss 13.634459495544434\n",
      "epoch 622, loss 13.634459495544434\n",
      "epoch 623, loss 13.634459495544434\n",
      "epoch 624, loss 13.634459495544434\n",
      "epoch 625, loss 13.634459495544434\n",
      "epoch 626, loss 13.634459495544434\n",
      "epoch 627, loss 13.634459495544434\n",
      "epoch 628, loss 13.634459495544434\n",
      "epoch 629, loss 13.634459495544434\n",
      "epoch 630, loss 13.634459495544434\n",
      "epoch 631, loss 13.634459495544434\n",
      "epoch 632, loss 13.634459495544434\n",
      "epoch 633, loss 13.634459495544434\n",
      "epoch 634, loss 13.634459495544434\n",
      "epoch 635, loss 13.634459495544434\n",
      "epoch 636, loss 13.634459495544434\n",
      "epoch 637, loss 13.634459495544434\n",
      "epoch 638, loss 13.634459495544434\n",
      "epoch 639, loss 13.634459495544434\n",
      "epoch 640, loss 13.634459495544434\n",
      "epoch 641, loss 13.634459495544434\n",
      "epoch 642, loss 13.634459495544434\n",
      "epoch 643, loss 13.634459495544434\n",
      "epoch 644, loss 13.634459495544434\n",
      "epoch 645, loss 13.634459495544434\n",
      "epoch 646, loss 13.634459495544434\n",
      "epoch 647, loss 13.634459495544434\n",
      "epoch 648, loss 13.634459495544434\n",
      "epoch 649, loss 13.634459495544434\n",
      "epoch 650, loss 13.634459495544434\n",
      "epoch 651, loss 13.634459495544434\n",
      "epoch 652, loss 13.634459495544434\n",
      "epoch 653, loss 13.634459495544434\n",
      "epoch 654, loss 13.634459495544434\n",
      "epoch 655, loss 13.634459495544434\n",
      "epoch 656, loss 13.634459495544434\n",
      "epoch 657, loss 13.634459495544434\n",
      "epoch 658, loss 13.634459495544434\n",
      "epoch 659, loss 13.634459495544434\n",
      "epoch 660, loss 13.634459495544434\n",
      "epoch 661, loss 13.634459495544434\n"
     ]
    },
    {
     "name": "stdout",
     "output_type": "stream",
     "text": [
      "epoch 662, loss 13.634459495544434\n",
      "epoch 663, loss 13.634459495544434\n",
      "epoch 664, loss 13.634459495544434\n",
      "epoch 665, loss 13.634459495544434\n",
      "epoch 666, loss 13.634459495544434\n",
      "epoch 667, loss 13.634459495544434\n",
      "epoch 668, loss 13.634459495544434\n",
      "epoch 669, loss 13.634459495544434\n",
      "epoch 670, loss 13.634459495544434\n",
      "epoch 671, loss 13.634459495544434\n",
      "epoch 672, loss 13.634459495544434\n",
      "epoch 673, loss 13.634459495544434\n",
      "epoch 674, loss 13.634459495544434\n",
      "epoch 675, loss 13.634459495544434\n",
      "epoch 676, loss 13.634459495544434\n",
      "epoch 677, loss 13.634459495544434\n",
      "epoch 678, loss 13.634459495544434\n",
      "epoch 679, loss 13.634459495544434\n",
      "epoch 680, loss 13.634459495544434\n",
      "epoch 681, loss 13.634459495544434\n",
      "epoch 682, loss 13.634459495544434\n",
      "epoch 683, loss 13.634459495544434\n",
      "epoch 684, loss 13.634459495544434\n",
      "epoch 685, loss 13.634459495544434\n",
      "epoch 686, loss 13.634459495544434\n",
      "epoch 687, loss 13.634459495544434\n",
      "epoch 688, loss 13.634459495544434\n",
      "epoch 689, loss 13.634459495544434\n",
      "epoch 690, loss 13.634459495544434\n",
      "epoch 691, loss 13.634459495544434\n",
      "epoch 692, loss 13.634459495544434\n",
      "epoch 693, loss 13.634459495544434\n",
      "epoch 694, loss 13.634459495544434\n",
      "epoch 695, loss 13.634459495544434\n",
      "epoch 696, loss 13.634459495544434\n",
      "epoch 697, loss 13.634459495544434\n",
      "epoch 698, loss 13.634459495544434\n",
      "epoch 699, loss 13.634459495544434\n",
      "epoch 700, loss 13.634459495544434\n",
      "epoch 701, loss 13.634459495544434\n",
      "epoch 702, loss 13.634459495544434\n",
      "epoch 703, loss 13.634459495544434\n",
      "epoch 704, loss 13.634459495544434\n",
      "epoch 705, loss 13.634459495544434\n",
      "epoch 706, loss 13.634459495544434\n",
      "epoch 707, loss 13.634459495544434\n",
      "epoch 708, loss 13.634459495544434\n",
      "epoch 709, loss 13.634459495544434\n",
      "epoch 710, loss 13.634459495544434\n",
      "epoch 711, loss 13.634459495544434\n",
      "epoch 712, loss 13.634459495544434\n",
      "epoch 713, loss 13.634459495544434\n",
      "epoch 714, loss 13.634459495544434\n",
      "epoch 715, loss 13.634459495544434\n",
      "epoch 716, loss 13.634459495544434\n",
      "epoch 717, loss 13.634459495544434\n",
      "epoch 718, loss 13.634459495544434\n",
      "epoch 719, loss 13.634459495544434\n",
      "epoch 720, loss 13.634459495544434\n",
      "epoch 721, loss 13.634459495544434\n",
      "epoch 722, loss 13.634459495544434\n",
      "epoch 723, loss 13.634459495544434\n",
      "epoch 724, loss 13.634459495544434\n",
      "epoch 725, loss 13.634459495544434\n",
      "epoch 726, loss 13.634459495544434\n",
      "epoch 727, loss 13.634459495544434\n",
      "epoch 728, loss 13.634459495544434\n",
      "epoch 729, loss 13.634459495544434\n",
      "epoch 730, loss 13.634459495544434\n",
      "epoch 731, loss 13.634459495544434\n",
      "epoch 732, loss 13.634459495544434\n",
      "epoch 733, loss 13.634459495544434\n",
      "epoch 734, loss 13.634459495544434\n",
      "epoch 735, loss 13.634459495544434\n",
      "epoch 736, loss 13.634459495544434\n",
      "epoch 737, loss 13.634459495544434\n",
      "epoch 738, loss 13.634459495544434\n",
      "epoch 739, loss 13.634459495544434\n",
      "epoch 740, loss 13.634459495544434\n",
      "epoch 741, loss 13.634459495544434\n",
      "epoch 742, loss 13.634459495544434\n",
      "epoch 743, loss 13.634459495544434\n",
      "epoch 744, loss 13.634459495544434\n",
      "epoch 745, loss 13.634459495544434\n",
      "epoch 746, loss 13.634459495544434\n",
      "epoch 747, loss 13.634459495544434\n",
      "epoch 748, loss 13.634459495544434\n",
      "epoch 749, loss 13.634459495544434\n",
      "epoch 750, loss 13.634459495544434\n",
      "epoch 751, loss 13.634459495544434\n",
      "epoch 752, loss 13.634459495544434\n",
      "epoch 753, loss 13.634459495544434\n",
      "epoch 754, loss 13.634459495544434\n",
      "epoch 755, loss 13.634459495544434\n",
      "epoch 756, loss 13.634459495544434\n",
      "epoch 757, loss 13.634459495544434\n",
      "epoch 758, loss 13.634459495544434\n",
      "epoch 759, loss 13.634459495544434\n",
      "epoch 760, loss 13.634459495544434\n",
      "epoch 761, loss 13.634459495544434\n",
      "epoch 762, loss 13.634459495544434\n",
      "epoch 763, loss 13.634459495544434\n",
      "epoch 764, loss 13.634459495544434\n",
      "epoch 765, loss 13.634459495544434\n",
      "epoch 766, loss 13.634459495544434\n",
      "epoch 767, loss 13.634459495544434\n",
      "epoch 768, loss 13.634459495544434\n",
      "epoch 769, loss 13.634459495544434\n",
      "epoch 770, loss 13.634459495544434\n",
      "epoch 771, loss 13.634459495544434\n",
      "epoch 772, loss 13.634459495544434\n",
      "epoch 773, loss 13.634459495544434\n",
      "epoch 774, loss 13.634459495544434\n",
      "epoch 775, loss 13.634459495544434\n",
      "epoch 776, loss 13.634459495544434\n",
      "epoch 777, loss 13.634459495544434\n",
      "epoch 778, loss 13.634459495544434\n",
      "epoch 779, loss 13.634459495544434\n",
      "epoch 780, loss 13.634459495544434\n",
      "epoch 781, loss 13.634459495544434\n",
      "epoch 782, loss 13.634459495544434\n",
      "epoch 783, loss 13.634459495544434\n",
      "epoch 784, loss 13.634459495544434\n",
      "epoch 785, loss 13.634459495544434\n",
      "epoch 786, loss 13.634459495544434\n",
      "epoch 787, loss 13.634459495544434\n",
      "epoch 788, loss 13.634459495544434\n",
      "epoch 789, loss 13.634459495544434\n",
      "epoch 790, loss 13.634459495544434\n",
      "epoch 791, loss 13.634459495544434\n",
      "epoch 792, loss 13.634459495544434\n",
      "epoch 793, loss 13.634459495544434\n",
      "epoch 794, loss 13.634459495544434\n",
      "epoch 795, loss 13.634459495544434\n",
      "epoch 796, loss 13.634459495544434\n",
      "epoch 797, loss 13.634459495544434\n",
      "epoch 798, loss 13.634459495544434\n",
      "epoch 799, loss 13.634459495544434\n",
      "epoch 800, loss 13.634459495544434\n",
      "epoch 801, loss 13.634459495544434\n",
      "epoch 802, loss 13.634459495544434\n",
      "epoch 803, loss 13.634459495544434\n",
      "epoch 804, loss 13.634459495544434\n",
      "epoch 805, loss 13.634459495544434\n",
      "epoch 806, loss 13.634459495544434\n",
      "epoch 807, loss 13.634459495544434\n",
      "epoch 808, loss 13.634459495544434\n",
      "epoch 809, loss 13.634459495544434\n",
      "epoch 810, loss 13.634459495544434\n",
      "epoch 811, loss 13.634459495544434\n",
      "epoch 812, loss 13.634459495544434\n",
      "epoch 813, loss 13.634459495544434\n",
      "epoch 814, loss 13.634459495544434\n",
      "epoch 815, loss 13.634459495544434\n",
      "epoch 816, loss 13.634459495544434\n",
      "epoch 817, loss 13.634459495544434\n",
      "epoch 818, loss 13.634459495544434\n",
      "epoch 819, loss 13.634459495544434\n",
      "epoch 820, loss 13.634459495544434\n",
      "epoch 821, loss 13.634459495544434\n",
      "epoch 822, loss 13.634459495544434\n",
      "epoch 823, loss 13.634459495544434\n",
      "epoch 824, loss 13.634459495544434\n",
      "epoch 825, loss 13.634459495544434\n",
      "epoch 826, loss 13.634459495544434\n",
      "epoch 827, loss 13.634459495544434\n",
      "epoch 828, loss 13.634459495544434\n",
      "epoch 829, loss 13.634459495544434\n",
      "epoch 830, loss 13.634459495544434\n",
      "epoch 831, loss 13.634459495544434\n",
      "epoch 832, loss 13.634459495544434\n",
      "epoch 833, loss 13.634459495544434\n",
      "epoch 834, loss 13.634459495544434\n",
      "epoch 835, loss 13.634459495544434\n",
      "epoch 836, loss 13.634459495544434\n",
      "epoch 837, loss 13.634459495544434\n",
      "epoch 838, loss 13.634459495544434\n",
      "epoch 839, loss 13.634459495544434\n",
      "epoch 840, loss 13.634459495544434\n",
      "epoch 841, loss 13.634459495544434\n",
      "epoch 842, loss 13.634459495544434\n",
      "epoch 843, loss 13.634459495544434\n",
      "epoch 844, loss 13.634459495544434\n",
      "epoch 845, loss 13.634459495544434\n",
      "epoch 846, loss 13.634459495544434\n",
      "epoch 847, loss 13.634459495544434\n",
      "epoch 848, loss 13.634459495544434\n",
      "epoch 849, loss 13.634459495544434\n",
      "epoch 850, loss 13.634459495544434\n",
      "epoch 851, loss 13.634459495544434\n",
      "epoch 852, loss 13.634459495544434\n",
      "epoch 853, loss 13.634459495544434\n",
      "epoch 854, loss 13.634459495544434\n",
      "epoch 855, loss 13.634459495544434\n",
      "epoch 856, loss 13.634459495544434\n",
      "epoch 857, loss 13.634459495544434\n",
      "epoch 858, loss 13.634459495544434\n",
      "epoch 859, loss 13.634459495544434\n",
      "epoch 860, loss 13.634459495544434\n",
      "epoch 861, loss 13.634459495544434\n",
      "epoch 862, loss 13.634459495544434\n",
      "epoch 863, loss 13.634459495544434\n",
      "epoch 864, loss 13.634459495544434\n",
      "epoch 865, loss 13.634459495544434\n",
      "epoch 866, loss 13.634459495544434\n",
      "epoch 867, loss 13.634459495544434\n",
      "epoch 868, loss 13.634459495544434\n",
      "epoch 869, loss 13.634459495544434\n",
      "epoch 870, loss 13.634459495544434\n",
      "epoch 871, loss 13.634459495544434\n",
      "epoch 872, loss 13.634459495544434\n",
      "epoch 873, loss 13.634459495544434\n",
      "epoch 874, loss 13.634459495544434\n",
      "epoch 875, loss 13.634459495544434\n",
      "epoch 876, loss 13.634459495544434\n",
      "epoch 877, loss 13.634459495544434\n",
      "epoch 878, loss 13.634459495544434\n",
      "epoch 879, loss 13.634459495544434\n",
      "epoch 880, loss 13.634459495544434\n",
      "epoch 881, loss 13.634459495544434\n",
      "epoch 882, loss 13.634459495544434\n",
      "epoch 883, loss 13.634459495544434\n",
      "epoch 884, loss 13.634459495544434\n",
      "epoch 885, loss 13.634459495544434\n",
      "epoch 886, loss 13.634459495544434\n",
      "epoch 887, loss 13.634459495544434\n",
      "epoch 888, loss 13.634459495544434\n",
      "epoch 889, loss 13.634459495544434\n",
      "epoch 890, loss 13.634459495544434\n",
      "epoch 891, loss 13.634459495544434\n",
      "epoch 892, loss 13.634459495544434\n",
      "epoch 893, loss 13.634459495544434\n",
      "epoch 894, loss 13.634459495544434\n",
      "epoch 895, loss 13.634459495544434\n",
      "epoch 896, loss 13.634459495544434\n",
      "epoch 897, loss 13.634459495544434\n",
      "epoch 898, loss 13.634459495544434\n",
      "epoch 899, loss 13.634459495544434\n",
      "epoch 900, loss 13.634459495544434\n",
      "epoch 901, loss 13.634459495544434\n",
      "epoch 902, loss 13.634459495544434\n",
      "epoch 903, loss 13.634459495544434\n",
      "epoch 904, loss 13.634459495544434\n",
      "epoch 905, loss 13.634459495544434\n",
      "epoch 906, loss 13.634459495544434\n",
      "epoch 907, loss 13.634459495544434\n",
      "epoch 908, loss 13.634459495544434\n",
      "epoch 909, loss 13.634459495544434\n",
      "epoch 910, loss 13.634459495544434\n",
      "epoch 911, loss 13.634459495544434\n",
      "epoch 912, loss 13.634459495544434\n",
      "epoch 913, loss 13.634459495544434\n",
      "epoch 914, loss 13.634459495544434\n",
      "epoch 915, loss 13.634459495544434\n",
      "epoch 916, loss 13.634459495544434\n",
      "epoch 917, loss 13.634459495544434\n",
      "epoch 918, loss 13.634459495544434\n",
      "epoch 919, loss 13.634459495544434\n",
      "epoch 920, loss 13.634459495544434\n",
      "epoch 921, loss 13.634459495544434\n",
      "epoch 922, loss 13.634459495544434\n",
      "epoch 923, loss 13.634459495544434\n",
      "epoch 924, loss 13.634459495544434\n",
      "epoch 925, loss 13.634459495544434\n",
      "epoch 926, loss 13.634459495544434\n",
      "epoch 927, loss 13.634459495544434\n",
      "epoch 928, loss 13.634459495544434\n",
      "epoch 929, loss 13.634459495544434\n",
      "epoch 930, loss 13.634459495544434\n",
      "epoch 931, loss 13.634459495544434\n",
      "epoch 932, loss 13.634459495544434\n",
      "epoch 933, loss 13.634459495544434\n",
      "epoch 934, loss 13.634459495544434\n",
      "epoch 935, loss 13.634459495544434\n",
      "epoch 936, loss 13.634459495544434\n",
      "epoch 937, loss 13.634459495544434\n",
      "epoch 938, loss 13.634459495544434\n",
      "epoch 939, loss 13.634459495544434\n",
      "epoch 940, loss 13.634459495544434\n",
      "epoch 941, loss 13.634459495544434\n",
      "epoch 942, loss 13.634459495544434\n",
      "epoch 943, loss 13.634459495544434\n",
      "epoch 944, loss 13.634459495544434\n",
      "epoch 945, loss 13.634459495544434\n",
      "epoch 946, loss 13.634459495544434\n",
      "epoch 947, loss 13.634459495544434\n",
      "epoch 948, loss 13.634459495544434\n",
      "epoch 949, loss 13.634459495544434\n",
      "epoch 950, loss 13.634459495544434\n",
      "epoch 951, loss 13.634459495544434\n",
      "epoch 952, loss 13.634459495544434\n",
      "epoch 953, loss 13.634459495544434\n",
      "epoch 954, loss 13.634459495544434\n",
      "epoch 955, loss 13.634459495544434\n",
      "epoch 956, loss 13.634459495544434\n",
      "epoch 957, loss 13.634459495544434\n",
      "epoch 958, loss 13.634459495544434\n",
      "epoch 959, loss 13.634459495544434\n",
      "epoch 960, loss 13.634459495544434\n",
      "epoch 961, loss 13.634459495544434\n",
      "epoch 962, loss 13.634459495544434\n",
      "epoch 963, loss 13.634459495544434\n",
      "epoch 964, loss 13.634459495544434\n",
      "epoch 965, loss 13.634459495544434\n",
      "epoch 966, loss 13.634459495544434\n",
      "epoch 967, loss 13.634459495544434\n",
      "epoch 968, loss 13.634459495544434\n",
      "epoch 969, loss 13.634459495544434\n",
      "epoch 970, loss 13.634459495544434\n",
      "epoch 971, loss 13.634459495544434\n",
      "epoch 972, loss 13.634459495544434\n",
      "epoch 973, loss 13.634459495544434\n",
      "epoch 974, loss 13.634459495544434\n",
      "epoch 975, loss 13.634459495544434\n",
      "epoch 976, loss 13.634459495544434\n",
      "epoch 977, loss 13.634459495544434\n",
      "epoch 978, loss 13.634459495544434\n",
      "epoch 979, loss 13.634459495544434\n",
      "epoch 980, loss 13.634459495544434\n",
      "epoch 981, loss 13.634459495544434\n",
      "epoch 982, loss 13.634459495544434\n",
      "epoch 983, loss 13.634459495544434\n",
      "epoch 984, loss 13.634459495544434\n",
      "epoch 985, loss 13.634459495544434\n",
      "epoch 986, loss 13.634459495544434\n",
      "epoch 987, loss 13.634459495544434\n",
      "epoch 988, loss 13.634459495544434\n",
      "epoch 989, loss 13.634459495544434\n",
      "epoch 990, loss 13.634459495544434\n",
      "epoch 991, loss 13.634459495544434\n",
      "epoch 992, loss 13.634459495544434\n",
      "epoch 993, loss 13.634459495544434\n",
      "epoch 994, loss 13.634459495544434\n"
     ]
    },
    {
     "name": "stdout",
     "output_type": "stream",
     "text": [
      "epoch 995, loss 13.634459495544434\n",
      "epoch 996, loss 13.634459495544434\n",
      "epoch 997, loss 13.634459495544434\n",
      "epoch 998, loss 13.634459495544434\n",
      "epoch 999, loss 13.634459495544434\n"
     ]
    }
   ],
   "source": [
    "optimiser = torch.optim.SGD(model.parameters(), lr = 0.01) #Stochastic Gradient Descent\n",
    "epochs = 1000\n",
    "\n",
    "inputs = torch.from_numpy(pca_train).float()\n",
    "labels = torch.from_numpy(TrainLabel_shuffle[:,1]).float()\n",
    "for epoch in range(epochs):\n",
    "\n",
    "    #clear grads as discussed in prev post\n",
    "    optimiser.zero_grad()\n",
    "    #forward to get predicted values\n",
    "    outputs = model.forward(inputs)\n",
    "    loss = criterion(outputs, labels)\n",
    "    loss.backward()# back props\n",
    "    optimiser.step()# update the parameters\n",
    "    print('epoch {}, loss {}'.format(epoch,loss.item()))"
   ]
  },
  {
   "cell_type": "code",
   "execution_count": 94,
   "metadata": {},
   "outputs": [
    {
     "ename": "AttributeError",
     "evalue": "'Linear' object has no attribute 'data'",
     "output_type": "error",
     "traceback": [
      "\u001b[0;31m---------------------------------------------------------------------------\u001b[0m",
      "\u001b[0;31mAttributeError\u001b[0m                            Traceback (most recent call last)",
      "\u001b[0;32m<ipython-input-94-ced0273d7ebd>\u001b[0m in \u001b[0;36m<module>\u001b[0;34m\u001b[0m\n\u001b[0;32m----> 1\u001b[0;31m \u001b[0mmodel\u001b[0m\u001b[0;34m.\u001b[0m\u001b[0mlinear\u001b[0m\u001b[0;34m.\u001b[0m\u001b[0mdata\u001b[0m\u001b[0;34m.\u001b[0m\u001b[0mgrad\u001b[0m\u001b[0;34m\u001b[0m\u001b[0;34m\u001b[0m\u001b[0m\n\u001b[0m",
      "\u001b[0;32m/miniconda/lib/python3.7/site-packages/torch/nn/modules/module.py\u001b[0m in \u001b[0;36m__getattr__\u001b[0;34m(self, name)\u001b[0m\n\u001b[1;32m    533\u001b[0m                 \u001b[0;32mreturn\u001b[0m \u001b[0mmodules\u001b[0m\u001b[0;34m[\u001b[0m\u001b[0mname\u001b[0m\u001b[0;34m]\u001b[0m\u001b[0;34m\u001b[0m\u001b[0;34m\u001b[0m\u001b[0m\n\u001b[1;32m    534\u001b[0m         raise AttributeError(\"'{}' object has no attribute '{}'\".format(\n\u001b[0;32m--> 535\u001b[0;31m             type(self).__name__, name))\n\u001b[0m\u001b[1;32m    536\u001b[0m \u001b[0;34m\u001b[0m\u001b[0m\n\u001b[1;32m    537\u001b[0m     \u001b[0;32mdef\u001b[0m \u001b[0m__setattr__\u001b[0m\u001b[0;34m(\u001b[0m\u001b[0mself\u001b[0m\u001b[0;34m,\u001b[0m \u001b[0mname\u001b[0m\u001b[0;34m,\u001b[0m \u001b[0mvalue\u001b[0m\u001b[0;34m)\u001b[0m\u001b[0;34m:\u001b[0m\u001b[0;34m\u001b[0m\u001b[0;34m\u001b[0m\u001b[0m\n",
      "\u001b[0;31mAttributeError\u001b[0m: 'Linear' object has no attribute 'data'"
     ]
    }
   ],
   "source": [
    "model.linear.data.grad"
   ]
  },
  {
   "cell_type": "code",
   "execution_count": 59,
   "metadata": {},
   "outputs": [
    {
     "data": {
      "text/plain": [
       "tensor([[-3.6786, -1.9452,  2.7113,  ..., -0.0406,  0.0054, -0.0317],\n",
       "        [ 2.4176, -3.9689,  1.1477,  ...,  0.0584, -0.0311,  0.1654],\n",
       "        [-1.9116, -0.5825, -1.1915,  ...,  0.0488,  0.0442,  0.0206],\n",
       "        ...,\n",
       "        [-1.2008, -0.9535, -0.5587,  ...,  0.0287, -0.0058, -0.0459],\n",
       "        [ 0.7767,  0.0413,  2.2578,  ...,  0.0190, -0.0464,  0.0078],\n",
       "        [-0.9953,  0.8148, -0.3852,  ...,  0.0418, -0.0106,  0.0704]])"
      ]
     },
     "execution_count": 59,
     "metadata": {},
     "output_type": "execute_result"
    }
   ],
   "source": [
    "inputs"
   ]
  },
  {
   "cell_type": "code",
   "execution_count": 81,
   "metadata": {},
   "outputs": [],
   "source": [
    "predicted =model(torch.from_numpy(Avg_template_train).float()).squeeze().data.numpy()"
   ]
  },
  {
   "cell_type": "code",
   "execution_count": 77,
   "metadata": {},
   "outputs": [
    {
     "data": {
      "text/plain": [
       "KendalltauResult(correlation=-0.05095140808401381, pvalue=0.33901104133791793)"
      ]
     },
     "execution_count": 77,
     "metadata": {},
     "output_type": "execute_result"
    }
   ],
   "source": [
    "kendalltau(predicted, train_labels[:,1])"
   ]
  },
  {
   "cell_type": "code",
   "execution_count": 82,
   "metadata": {},
   "outputs": [
    {
     "data": {
      "text/plain": [
       "[<matplotlib.lines.Line2D at 0x2b2d0ed53400>]"
      ]
     },
     "execution_count": 82,
     "metadata": {},
     "output_type": "execute_result"
    },
    {
     "data": {
      "image/png": "[encoded data removed]",
      "text/plain": [
       "<Figure size 432x288 with 1 Axes>"
      ]
     },
     "metadata": {
      "needs_background": "light"
     },
     "output_type": "display_data"
    }
   ],
   "source": [
    "plt.plot(predicted, train_labels[:,1], \"ro\")"
   ]
  },
  {
   "cell_type": "code",
   "execution_count": 71,
   "metadata": {},
   "outputs": [
    {
     "data": {
      "text/plain": [
       "(160, 1)"
      ]
     },
     "execution_count": 71,
     "metadata": {},
     "output_type": "execute_result"
    }
   ],
   "source": [
    "predicted.shape"
   ]
  },
  {
   "cell_type": "code",
   "execution_count": 60,
   "metadata": {},
   "outputs": [
    {
     "data": {
      "text/plain": [
       "1194.63037109375"
      ]
     },
     "execution_count": 60,
     "metadata": {},
     "output_type": "execute_result"
    }
   ],
   "source": [
    "loss.item()"
   ]
  },
  {
   "cell_type": "code",
   "execution_count": 105,
   "metadata": {},
   "outputs": [],
   "source": [
    "def train(num_epochs, lr=0.1):\n",
    "  \n",
    "    optmizer=optim.Adam(reg_model.parameters(),lr=lr)\n",
    "    reg_best_model =copy.deepcopy(reg_model)\n",
    "    best_kendall=0\n",
    "    best_epoch=0\n",
    "  \n",
    "    for i in range(num_epochs):\n",
    "\n",
    "        for mode in [\"train\",\"eval\"]:\n",
    "\n",
    "            accuracy=0\n",
    "            loss_total=0\n",
    "\n",
    "            if mode == \"train\":\n",
    "\n",
    "                reg_model.train()\n",
    "                for data, labels in loader_train:\n",
    "                    data, labels=data.to(device), labels.to(device)\n",
    "                    optmizer.zero_grad()\n",
    "                    xTR_mean = reg_model(data)\n",
    "\n",
    "                    #xRR_std, xTR_mean, xPR_mean=reg_model(data)\n",
    "                    #LossRR_std = criterion(xRR_std,labels[:,2])\n",
    "                    #LossTR_mean = criterion(xTR_mean,labels[:,1])\n",
    "                    #LossPR_mean = criterion(xPR_mean,labels[:,0])\n",
    "                    #loss = LossTR_mean\n",
    "                    loss = F.mse_loss(xTR_mean,labels)\n",
    "                    #LossRR_std + LossTR_mean + LossPR_mean\n",
    "                    \n",
    "                    loss.backward()\n",
    "                    #torch.nn.utils.clip_grad_norm_(reg_model.parameters(), 0.01)\n",
    "                    \n",
    "                    optmizer.step()\n",
    "\n",
    "                if i % 1000 == 0:\n",
    "                    with torch.no_grad():\n",
    "                        y_TR_mean= reg_model(data_train.to(device))\n",
    "                        t = y_TR_mean.cpu().detach().squeeze().numpy()\n",
    "                        kendallTR_mean = kendalltau(t, labels_train[:])\n",
    "                        #kendallRR_std = kendalltau(xRR_std.cpu().detach().numpy(), labels[:,2].cpu().detach().numpy())[0]\n",
    "                        #kendallPR_mean = kendalltau(xPR_mean.cpu().detach().numpy(), labels[:,0].cpu().detach().numpy())[0]\n",
    "                        #kendallAvg = np.mean([kendallRR_std, kendallTR_mean, kendallPR_mean])\n",
    "\n",
    "                        #print(f\"Epoch{i} Training loss: {loss.item()}\")\n",
    "                        # print(f\"Training RR STD loss: {LossRR_std.item()}\")\n",
    "                        #print(f\"Training TR Mean loss: {LossTR_mean.item()}\")\n",
    "                        #print(f\"Training PR Mean loss: {LossPR_mean.item()}\")\n",
    "                        print(f\"TR Mean:f{kendallTR_mean[0]}\")\n",
    "                        #print(f\"Training Avg Kendall: {kendallAvg}\")\n",
    "\n",
    "\n",
    "            if mode == \"eval\":\n",
    "\n",
    "                reg_model.eval()\n",
    "                for data, labels in loader_valid:\n",
    "                    data, labels=data.to(device), labels.to(device)\n",
    "\n",
    "                    with torch.no_grad():\n",
    "                        optmizer.zero_grad()\n",
    "                        xTR_mean = reg_model(data)\n",
    "\n",
    "                        #xRR_std, xTR_mean, xPR_mean=reg_model(data)\n",
    "                        #LossRR_std = criterion(xRR_std,labels[:,2])\n",
    "                        #LossTR_mean = criterion(xTR_mean,labels[:,1])\n",
    "                        #LossPR_mean = criterion(xPR_mean,labels[:,0])\n",
    "                        #loss = LossTR_mean\n",
    "                        loss = F.mse_loss(xTR_mean,labels)\n",
    "                        #LossRR_std + LossTR_mean + LossPR_mean\n",
    "\n",
    "                        loss_total+=loss\n",
    "\n",
    "                if i % 1000 == 0:\n",
    "                    with torch.no_grad():\n",
    "                        #kendallRR_std = kendalltau(xRR_std.cpu().detach().numpy(), labels[:,2].cpu().detach().numpy())[0]\n",
    "                        y_TR_mean= reg_model(data_train.to(device))\n",
    "                        t = y_TR_mean.cpu().detach().squeeze().numpy()\n",
    "                        kendallTR_mean = kendalltau(t, labels_train[:])\n",
    "                        #kendallPR_mean = kendalltau(xPR_mean.cpu().detach().numpy(), labels[:,0].cpu().detach().numpy())[0]\n",
    "                        #kendallAvg = np.mean([kendallRR_std, kendallTR_mean, kendallPR_mean])\n",
    "\n",
    "                        print(f\"Epoch{i} Training loss: {loss.item()}\")\n",
    "                       # print(f\"Training RR STD loss: {LossRR_std.item()}\")\n",
    "                        #print(f\"Training TR Mean loss: {LossTR_mean.item()}\")\n",
    "                        #print(f\"Training PR Mean loss: {LossPR_mean.item()}\")\n",
    "                        print(f\"TR Mean:f{kendallTR_mean[0]}\")\n",
    "                        #print(f\"Training Avg Kendall: {kendallAvg}\")\n",
    "                    \n",
    "\n",
    "\n",
    "\n",
    "                    #if kendallAvg > best_kendall:\n",
    "                        #best_kendall = kendallAvg\n",
    "                        #reg_best_model=copy.deepcopy(reg_model)\n",
    "                        #best_epoch=i\n",
    "\n",
    "    #print(f\"The best epoch:{best_epoch} with an accuracy of {best_kendall}\")\n",
    "\n",
    "    return reg_model"
   ]
  },
  {
   "cell_type": "code",
   "execution_count": 109,
   "metadata": {},
   "outputs": [
    {
     "name": "stdout",
     "output_type": "stream",
     "text": [
      "TR Mean:f-0.015256369927650205\n",
      "Epoch0 Training loss: 10.777377128601074\n",
      "TR Mean:f-0.015256369927650205\n",
      "TR Mean:f-0.014784523435042468\n",
      "Epoch1000 Training loss: 10.777883529663086\n",
      "TR Mean:f-0.014784523435042468\n",
      "TR Mean:f-0.013288775402047218\n",
      "Epoch2000 Training loss: 10.777813911437988\n",
      "TR Mean:f-0.013288775402047218\n",
      "TR Mean:f-0.011952504558460485\n",
      "Epoch3000 Training loss: 10.777796745300293\n",
      "TR Mean:f-0.011952504558460485\n",
      "TR Mean:f-0.008729503368787353\n",
      "Epoch4000 Training loss: 10.777735710144043\n",
      "TR Mean:f-0.008729503368787353\n"
     ]
    }
   ],
   "source": [
    "reg_model = train(5000, 0.00001)"
   ]
  },
  {
   "cell_type": "code",
   "execution_count": 110,
   "metadata": {},
   "outputs": [],
   "source": [
    "y_TR_mean= reg_model(data_train.to(device))"
   ]
  },
  {
   "cell_type": "code",
   "execution_count": 111,
   "metadata": {},
   "outputs": [],
   "source": [
    "t = y_TR_mean.cpu().detach().squeeze().numpy()"
   ]
  },
  {
   "cell_type": "code",
   "execution_count": 112,
   "metadata": {},
   "outputs": [
    {
     "data": {
      "text/plain": [
       "KendalltauResult(correlation=-0.009043368858482604, pvalue=0.8652598025734298)"
      ]
     },
     "execution_count": 112,
     "metadata": {},
     "output_type": "execute_result"
    }
   ],
   "source": [
    "kendalltau(t, labels_train[:])"
   ]
  },
  {
   "cell_type": "code",
   "execution_count": 130,
   "metadata": {},
   "outputs": [
    {
     "data": {
      "text/plain": [
       "[<matplotlib.lines.Line2D at 0x2b9eb0237128>]"
      ]
     },
     "execution_count": 130,
     "metadata": {},
     "output_type": "execute_result"
    },
    {
     "data": {
      "image/png": "[encoded data removed]",
      "text/plain": [
       "<Figure size 432x288 with 1 Axes>"
      ]
     },
     "metadata": {
      "needs_background": "light"
     },
     "output_type": "display_data"
    }
   ],
   "source": [
    "plt.plot(t, labels_train[:], \"ro\")"
   ]
  },
  {
   "cell_type": "markdown",
   "metadata": {},
   "source": [
    "Regression Task Baseline PCA + Regressor"
   ]
  },
  {
   "cell_type": "code",
   "execution_count": 113,
   "metadata": {},
   "outputs": [],
   "source": [
    "labels_train = train_labels[:]\n",
    "labels_valid = valid_labels[:]\n",
    "\n",
    "shuffle1 = np.random.permutation(len(Avg_template_train))\n",
    "train_shuffle = Avg_template_train[shuffle1]\n",
    "TrainLabel_shuffle = labels_train[shuffle1]\n",
    "shuffle2 = np.random.permutation(len(Avg_template_valid))\n",
    "valid_shuffle = Avg_template_valid[shuffle2]\n",
    "ValidLabel_shuffle = labels_valid[shuffle2]"
   ]
  },
  {
   "cell_type": "code",
   "execution_count": 27,
   "metadata": {},
   "outputs": [],
   "source": [
    "from sklearn.decomposition import PCA\n",
    "ipca = PCA(n_components=30)\n",
    "ipca.fit(train_shuffle)\n",
    "pca_train = ipca.transform(train_shuffle)\n",
    "pca_valid = ipca.transform(valid_shuffle)"
   ]
  },
  {
   "cell_type": "code",
   "execution_count": 48,
   "metadata": {},
   "outputs": [
    {
     "name": "stdout",
     "output_type": "stream",
     "text": [
      "PR_Mean\n",
      "0.7367510705975453\n",
      "RT_Mean\n",
      "0.8732505218843478\n",
      "RR_StdDev\n",
      "0.25637800247804843\n",
      "0.6221265316533139\n"
     ]
    }
   ],
   "source": [
    "from sklearn.svm import SVR\n",
    "from sklearn.model_selection import GridSearchCV\n",
    "param_grid = [{'C': [1, 5, 10, 15, 100, 1000,10000], 'epsilon': [0.001, 0.0001,0.1,0.5,1,10], \"degree\" : [3,4]}]\n",
    "\n",
    "svm = SVR(gamma=\"auto\")\n",
    "result = []\n",
    "for i in range(3):\n",
    "    clf = GridSearchCV(svm, param_grid, cv=5)\n",
    "    clf.fit(pca_train, TrainLabel_shuffle[:,i])\n",
    "    y_pred = clf.predict(pca_valid)\n",
    "    print(LABELS_NAME[i])\n",
    "    result.append(kendalltau(y_pred, ValidLabel_shuffle[:,i])[0])\n",
    "    print(kendalltau(y_pred, ValidLabel_shuffle[:,i])[0])\n",
    "    \n",
    "print(np.mean(result))"
   ]
  },
  {
   "cell_type": "code",
   "execution_count": 114,
   "metadata": {},
   "outputs": [
    {
     "name": "stdout",
     "output_type": "stream",
     "text": [
      "PR_Mean\n",
      "0.3805629863065229\n",
      "RT_Mean\n",
      "0.6254128084880336\n",
      "RR_StdDev\n",
      "0.09143441180066553\n",
      "0.36580340219840735\n"
     ]
    }
   ],
   "source": [
    "from sklearn.linear_model import LinearRegression\n",
    "\n",
    "lin = LinearRegression()\n",
    "result = []\n",
    "for i in range(3):\n",
    "    lin.fit(train_shuffle, TrainLabel_shuffle[:,i])\n",
    "    y_pred = lin.predict(valid_shuffle)\n",
    "    print(LABELS_NAME[i])\n",
    "    result.append(kendalltau(y_pred, ValidLabel_shuffle[:,i])[0])\n",
    "    print(kendalltau(y_pred, ValidLabel_shuffle[:,i])[0])\n",
    "    \n",
    "print(np.mean(result))"
   ]
  },
  {
   "cell_type": "code",
   "execution_count": 31,
   "metadata": {},
   "outputs": [
    {
     "data": {
      "text/plain": [
       "{'C': 10, 'degree': 3, 'epsilon': 1}"
      ]
     },
     "execution_count": 31,
     "metadata": {},
     "output_type": "execute_result"
    }
   ],
   "source": [
    "clf.best_params_"
   ]
  },
  {
   "cell_type": "code",
   "execution_count": null,
   "metadata": {},
   "outputs": [],
   "source": [
    "kendalltau(xRR_std.cpu().detach().numpy(), labels[:,2].cpu().detach().numpy())[0]"
   ]
  },
  {
   "cell_type": "code",
   "execution_count": 74,
   "metadata": {},
   "outputs": [
    {
     "data": {
      "text/plain": [
       "array([11.,  3., 11., 31., 31., 31., 31., 31., 31., 31., 31., 31., 31.,\n",
       "       31., 31., 31., 31., 31., 31., 31., 31., 31., 31., 31., 11., 31.,\n",
       "       31., 31., 31.], dtype=float32)"
      ]
     },
     "execution_count": 74,
     "metadata": {},
     "output_type": "execute_result"
    }
   ],
   "source": [
    "y_pred[index_of_int]"
   ]
  },
  {
   "cell_type": "code",
   "execution_count": null,
   "metadata": {},
   "outputs": [],
   "source": [
    "t_train_labels"
   ]
  },
  {
   "cell_type": "code",
   "execution_count": 16,
   "metadata": {},
   "outputs": [],
   "source": [
    "R_peak_amplitude = [[preprocess_train[i][int(j)] for j in record] for i, record in enumerate(R_peak)]"
   ]
  },
  {
   "cell_type": "code",
   "execution_count": 18,
   "metadata": {},
   "outputs": [
    {
     "data": {
      "image/png": "[encoded data removed]",
      "text/plain": [
       "<Figure size 432x288 with 1 Axes>"
      ]
     },
     "metadata": {
      "needs_background": "light"
     },
     "output_type": "display_data"
    }
   ],
   "source": [
    "plt.plot(R_peak[5],R_peak_amplitude[5],\"ro\")\n",
    "Plot_ECG(preprocess_train[5].cpu(),start=0,end=30)"
   ]
  },
  {
   "cell_type": "markdown",
   "metadata": {},
   "source": [
    "for i in range(len(RR_std)):\n",
    "    print((i,RR_std[i], train_labels[i,-2]))"
   ]
  },
  {
   "cell_type": "code",
   "execution_count": 54,
   "metadata": {},
   "outputs": [
    {
     "data": {
      "text/plain": [
       "[<matplotlib.lines.Line2D at 0x2aae5812de80>]"
      ]
     },
     "execution_count": 54,
     "metadata": {},
     "output_type": "execute_result"
    },
    {
     "data": {
      "image/png": "[encoded data removed]",
      "text/plain": [
       "<Figure size 432x288 with 1 Axes>"
      ]
     },
     "metadata": {
      "needs_background": "light"
     },
     "output_type": "display_data"
    }
   ],
   "source": [
    "plt.plot(Train_RR_std, train_labels[:,-2], \"ro\")"
   ]
  },
  {
   "cell_type": "code",
   "execution_count": 57,
   "metadata": {},
   "outputs": [
    {
     "data": {
      "text/plain": [
       "0.9243710691823899"
      ]
     },
     "execution_count": 57,
     "metadata": {},
     "output_type": "execute_result"
    }
   ],
   "source": [
    "kendalltau(Train_RR_std, train_labels[:,-2])[0]"
   ]
  },
  {
   "cell_type": "markdown",
   "metadata": {},
   "source": [
    "\"PR_Mean\", \"RT_Mean\""
   ]
  },
  {
   "cell_type": "code",
   "execution_count": 32,
   "metadata": {},
   "outputs": [],
   "source": [
    "S_numpy = preprocess_valid.cpu().numpy()"
   ]
  },
  {
   "cell_type": "code",
   "execution_count": 52,
   "metadata": {},
   "outputs": [],
   "source": [
    "listoftemplate = []\n",
    "listofQRS_offset = []\n",
    "listofT_peak = []\n",
    "listofT_offset = []\n",
    "listofQRS_onset = []\n",
    "listofP_peak = []\n",
    "listofP_onset = []\n",
    "listofR_Peak = []\n",
    "R_peak = R_peak_valid\n",
    "RR_interval_mean = Valid_RR_mean\n",
    "\n",
    "for recording in range(len(R_peak)):\n",
    "    #generate the template\n",
    "    half_size_int = int(RR_interval_mean[recording]//2)\n",
    "    template = np.ones((1,int(half_size_int*0.8)+int(half_size_int*1.2)))\n",
    "    for i in R_peak[recording][1:-1]:\n",
    "        new_heart_beat = S_numpy[recording][int(i)-int(half_size_int*0.8): int(i)+int(half_size_int*1.2)]\n",
    "        template = np.concatenate((template,\n",
    "                                   np.expand_dims(new_heart_beat, axis = 0))\n",
    "                                   , axis=0)\n",
    "    \n",
    "    \n",
    "    template = np.mean(template, axis = 0)\n",
    "    \n",
    "    #find QRS offset\n",
    "    derivative = template[1:] - template[:-1] \n",
    "    TA = np.array([])\n",
    "    TDA = np.array([])\n",
    "    for i in range(int(half_size_int*0.8)+1, int(half_size_int*0.8)+25):\n",
    "        TA = np.append(TA,np.max(template[i:i+4]) - np.min(template[i:i+4])) \n",
    "        TDA = np.append(TDA,np.max(derivative[i:i+4]) - np.min(derivative[i:i+4]))\n",
    "    c1 = 0.1\n",
    "    c2 = 0.1\n",
    "    TT = c1 * (np.max(TA) - np.min(TA)) + np.min(TA)\n",
    "    TD = c2 * (np.max(TDA) - np.min(TDA)) + np.min(TDA)\n",
    "    \n",
    "    for i in range(0, len(TA)):\n",
    "        if TA[i] < TT or TDA[i] < TD:\n",
    "            QRS_offset = i + int(half_size_int*0.8) + 4\n",
    "            break\n",
    "        \n",
    "    #find T peak\n",
    "    T_peak = QRS_offset + np.argmax(template[QRS_offset:])\n",
    "    \n",
    "    #find T wave offset\n",
    "    \n",
    "    k = (template[T_peak] - template[-1])/(T_peak-len(template))\n",
    "    d = template[-1] - k*len(template)\n",
    "    g = k*np.arange(0,len(template)) + d\n",
    "    decision = template - g\n",
    "    T_peak_offset = np.argmin(decision[T_peak:len(template)]) + T_peak\n",
    "    \n",
    "    #reverse the template\n",
    "    reverse_template = np.flip(template)\n",
    "    \n",
    "    #Find the QRS onset\n",
    "    derivative = reverse_template[1:] - reverse_template[:-1] \n",
    "    TA = np.array([])\n",
    "    TDA = np.array([])\n",
    "    for i in range(int(half_size_int*1.2)+1, int(half_size_int*1.2)+25):\n",
    "        TA = np.append(TA,np.max(reverse_template[i:i+4]) - np.min(reverse_template[i:i+4])) \n",
    "        TDA = np.append(TDA,np.max(derivative[i:i+4]) - np.min(derivative[i:i+4]))\n",
    "    c1 = 0.5\n",
    "    c2 = 0.5\n",
    "    TT = c1 * (np.max(TA) - np.min(TA)) + np.min(TA)\n",
    "    TD = c2 * (np.max(TDA) - np.min(TDA)) + np.min(TDA)\n",
    "    \n",
    "    for i in range(0, len(TA)):\n",
    "        if TA[i] < TT or TDA[i] < TD:\n",
    "            QRS_onset = i + int(half_size_int*1.2) + 4\n",
    "            break\n",
    "    \n",
    "    #Find the P peak\n",
    "    P_peak = QRS_onset + np.argmax(reverse_template[QRS_onset:])  \n",
    "    \n",
    "    #Find the P onset\n",
    "    \n",
    "    k = (reverse_template[P_peak] - reverse_template[-1])/(P_peak-len(reverse_template))\n",
    "    d = reverse_template[-1] - k*len(reverse_template)\n",
    "    g = k*np.arange(0,len(reverse_template)) + d\n",
    "    decision = reverse_template - g\n",
    "    P_onset = np.argmin(decision[P_peak:len(reverse_template)]) + P_peak\n",
    "    \n",
    "    \n",
    "    P_peak = len(template)-P_peak-1\n",
    "    QRS_onset = len(template)-QRS_onset-1\n",
    "    P_onset = len(template)-P_onset-1\n",
    "    \n",
    "    \n",
    "    listofR_Peak.append(int(half_size_int*0.8)+1)\n",
    "    listoftemplate.append(template)\n",
    "    listofQRS_offset.append(QRS_offset)\n",
    "    listofT_peak.append(T_peak)\n",
    "    listofT_offset.append(T_peak_offset)\n",
    "    listofQRS_onset.append(QRS_onset)\n",
    "    listofP_peak.append(P_peak)\n",
    "    listofP_onset.append(P_onset)\n",
    "    "
   ]
  },
  {
   "cell_type": "code",
   "execution_count": 53,
   "metadata": {},
   "outputs": [],
   "source": [
    "RT_Mean = [T_peak-R_peak+1 for T_peak,R_peak in zip(listofT_peak,listofR_Peak)]\n",
    "PR_Mean = [R_peak-P_onset for R_peak,P_onset in zip(listofR_Peak,listofP_peak)]"
   ]
  },
  {
   "cell_type": "code",
   "execution_count": 54,
   "metadata": {},
   "outputs": [],
   "source": [
    "PR_Mean2 = [QRS_onset-P_onset for QRS_onset,P_onset in zip(listofQRS_onset,listofP_onset)]"
   ]
  },
  {
   "cell_type": "code",
   "execution_count": 55,
   "metadata": {},
   "outputs": [
    {
     "data": {
      "text/plain": [
       "[<matplotlib.lines.Line2D at 0x2af83e789a20>]"
      ]
     },
     "execution_count": 55,
     "metadata": {},
     "output_type": "execute_result"
    },
    {
     "data": {
      "image/png": "[encoded data removed]",
      "text/plain": [
       "<Figure size 432x288 with 1 Axes>"
      ]
     },
     "metadata": {
      "needs_background": "light"
     },
     "output_type": "display_data"
    }
   ],
   "source": [
    "plt.plot(PR_Mean, valid_labels[:,0], \"ro\")"
   ]
  },
  {
   "cell_type": "code",
   "execution_count": 56,
   "metadata": {},
   "outputs": [
    {
     "data": {
      "text/plain": [
       "KendalltauResult(correlation=0.8697791379031147, pvalue=4.866409294148606e-55)"
      ]
     },
     "execution_count": 56,
     "metadata": {},
     "output_type": "execute_result"
    }
   ],
   "source": [
    "kendalltau(PR_Mean, valid_labels[:,0])"
   ]
  },
  {
   "cell_type": "code",
   "execution_count": 57,
   "metadata": {},
   "outputs": [
    {
     "data": {
      "text/plain": [
       "KendalltauResult(correlation=0.9112549924246455, pvalue=9.830725944908511e-61)"
      ]
     },
     "execution_count": 57,
     "metadata": {},
     "output_type": "execute_result"
    }
   ],
   "source": [
    "kendalltau(RT_Mean, valid_labels[:, 1])"
   ]
  },
  {
   "cell_type": "code",
   "execution_count": 45,
   "metadata": {},
   "outputs": [
    {
     "data": {
      "text/plain": [
       "[<matplotlib.lines.Line2D at 0x2af83e3df048>]"
      ]
     },
     "execution_count": 45,
     "metadata": {},
     "output_type": "execute_result"
    },
    {
     "data": {
      "image/png": "[encoded data removed]",
      "text/plain": [
       "<Figure size 432x288 with 1 Axes>"
      ]
     },
     "metadata": {
      "needs_background": "light"
     },
     "output_type": "display_data"
    }
   ],
   "source": [
    "plt.plot(RT_Mean, valid_labels[:, 1], \"ro\")"
   ]
  },
  {
   "cell_type": "code",
   "execution_count": 118,
   "metadata": {},
   "outputs": [
    {
     "data": {
      "text/plain": [
       "KendalltauResult(correlation=0.8643121455155489, pvalue=4.085910602274134e-59)"
      ]
     },
     "execution_count": 118,
     "metadata": {},
     "output_type": "execute_result"
    }
   ],
   "source": [
    "kendalltau(list_RT_Mean, train_labels[:,-3])"
   ]
  },
  {
   "cell_type": "code",
   "execution_count": 119,
   "metadata": {},
   "outputs": [
    {
     "data": {
      "text/plain": [
       "KendalltauResult(correlation=0.9289062593216623, pvalue=2.961914504225467e-63)"
      ]
     },
     "execution_count": 119,
     "metadata": {},
     "output_type": "execute_result"
    }
   ],
   "source": [
    "kendalltau(RT_Mean, train_labels[:,-3])"
   ]
  },
  {
   "cell_type": "code",
   "execution_count": null,
   "metadata": {},
   "outputs": [],
   "source": [
    "index_nb = 8\n",
    "vizualize_ECG(listoftemplate[index_nb],0,len(listoftemplate[index_nb]),seconde=False)\n",
    "plt.plot(listofR_Peak[index_nb]-1, listoftemplate[index_nb][listofR_Peak[index_nb]-1], \"o\")\n",
    "plt.plot(listofQRS_offset[index_nb], listoftemplate[index_nb][listofQRS_offset[index_nb]], \"o\")\n",
    "plt.plot(listofT_peak[index_nb], listoftemplate[index_nb][listofT_peak[index_nb]], \"o\")\n",
    "plt.plot(listofT_offset[index_nb], listoftemplate[index_nb][listofT_offset[index_nb]], \"o\")\n",
    "plt.plot(listofQRS_onset[index_nb], listoftemplate[index_nb][listofQRS_onset[index_nb]], \"o\")\n",
    "plt.plot(listofP_peak[index_nb], listoftemplate[index_nb][listofP_peak[index_nb]], \"o\")\n",
    "plt.plot(listofP_onset[index_nb], listoftemplate[index_nb][listofP_onset[index_nb]], \"o\")\n",
    "plt.legend([\"\",\"R\",\"QRS offset\", \"T\", \"T offset\", \"QRS onset\",\"P\", \"P onset\" ])"
   ]
  },
  {
   "cell_type": "markdown",
   "metadata": {},
   "source": [
    "Lets try to improve the result by adding a layer of machine learning"
   ]
  },
  {
   "cell_type": "code",
   "execution_count": 110,
   "metadata": {},
   "outputs": [],
   "source": [
    "import pandas as pd"
   ]
  },
  {
   "cell_type": "code",
   "execution_count": 111,
   "metadata": {},
   "outputs": [],
   "source": [
    "ECG_train = pd.DataFrame()"
   ]
  },
  {
   "cell_type": "code",
   "execution_count": 113,
   "metadata": {},
   "outputs": [],
   "source": [
    "ECG_train[\"heartbeat\"] = RR_interval_mean\n",
    "ECG_train[\"RR_std\"] = RR_std\n",
    "ECG_train[\"RT_Mean\"] = RT_Mean\n",
    "ECG_train[\"PR_Mean\"] = PR_Mean\n",
    "ECG_train[\"QRS_len\"] = [QRS_offset-QRS_onset for QRS_offset,QRS_onset in zip(listofQRS_offset,listofQRS_onset)]\n",
    "ECG_train[\"RT_Mean2\"] = [T_offset-QRS_offset for T_offset,QRS_offset in zip(listofT_offset,listofQRS_offset)]\n",
    "ECG_train[\"PR_Mean2\"] =[QRS_onset-P_onset for QRS_onset,P_onset in zip(listofQRS_onset,listofP_onset)]\n",
    "ECG_train[\"PT_Mean\"] =[T_peak-P_peak for T_peak,P_peak in zip(listofT_peak,listofP_peak)]\n",
    "ECG_train[\"R_peak_amplitude\"] = [listoftemplate[index_nb][R_peak-1] for index_nb, R_peak in enumerate(listofR_Peak)]\n",
    "ECG_train[\"P_peak_amplitude\"] = [listoftemplate[index_nb][P_peak] for index_nb, P_peak in enumerate(listofP_peak)]\n",
    "ECG_train[\"T_peak_amplitude\"] = [listoftemplate[index_nb][T_peak] for index_nb, T_peak in enumerate(listofT_peak)]"
   ]
  },
  {
   "cell_type": "code",
   "execution_count": 115,
   "metadata": {},
   "outputs": [],
   "source": []
  },
  {
   "cell_type": "code",
   "execution_count": 126,
   "metadata": {},
   "outputs": [],
   "source": [
    "idtransformer = id_trasformer()\n",
    "idtransformer.create_dict_ID(train_labels[:,-1])\n",
    "train_labels[:,-1] = idtransformer.Id2Class(train_labels[:,-1])\n",
    "valid_labels[:,-1] = idtransformer.Id2Class(valid_labels[:,-1])"
   ]
  },
  {
   "cell_type": "code",
   "execution_count": 116,
   "metadata": {},
   "outputs": [],
   "source": [
    "x_valid = np.array(ECG_train)"
   ]
  },
  {
   "cell_type": "code",
   "execution_count": 61,
   "metadata": {},
   "outputs": [],
   "source": [
    "x=np.array(ECG_train)"
   ]
  },
  {
   "cell_type": "code",
   "execution_count": 129,
   "metadata": {},
   "outputs": [],
   "source": [
    "shuffle = np.random.permutation(160)\n",
    "train_shuffle = x[shuffle]\n",
    "TrainLabel_shuffle = train_labels[shuffle]\n",
    "valid_shuffle = x_valid[shuffle]\n",
    "ValidLabel_shuffle = valid_labels[shuffle]"
   ]
  },
  {
   "cell_type": "markdown",
   "metadata": {},
   "source": [
    "ID task this will give a baseline to beat"
   ]
  },
  {
   "cell_type": "code",
   "execution_count": 171,
   "metadata": {},
   "outputs": [],
   "source": [
    "from sklearn.ensemble import ExtraTreesClassifier\n",
    "from sklearn.discriminant_analysis import LinearDiscriminantAnalysis"
   ]
  },
  {
   "cell_type": "code",
   "execution_count": 174,
   "metadata": {},
   "outputs": [
    {
     "name": "stderr",
     "output_type": "stream",
     "text": [
      "/miniconda/lib/python3.7/site-packages/sklearn/discriminant_analysis.py:388: UserWarning: Variables are collinear.\n",
      "  warnings.warn(\"Variables are collinear.\")\n"
     ]
    },
    {
     "data": {
      "text/plain": [
       "0.48125"
      ]
     },
     "execution_count": 174,
     "metadata": {},
     "output_type": "execute_result"
    }
   ],
   "source": [
    "forest = LinearDiscriminantAnalysis()\n",
    "forest.fit(train_shuffle, TrainLabel_shuffle[:,-1])\n",
    "y_pred = forest.predict(valid_shuffle)\n",
    "forest.score(valid_shuffle, ValidLabel_shuffle[:,-1])"
   ]
  },
  {
   "cell_type": "code",
   "execution_count": 134,
   "metadata": {},
   "outputs": [
    {
     "name": "stdout",
     "output_type": "stream",
     "text": [
      "0.78125\n"
     ]
    },
    {
     "data": {
      "text/plain": [
       "0.45"
      ]
     },
     "execution_count": 134,
     "metadata": {},
     "output_type": "execute_result"
    }
   ],
   "source": [
    "forest = ExtraTreesClassifier(n_estimators=1000,\n",
    "                              random_state=0, oob_score=True, bootstrap=True)\n",
    "forest.fit(train_shuffle, TrainLabel_shuffle[:,-1])\n",
    "print(forest.oob_score_)\n",
    "y_pred = forest.predict(valid_shuffle)\n",
    "forest.score(valid_shuffle, ValidLabel_shuffle[:,-1])"
   ]
  },
  {
   "cell_type": "code",
   "execution_count": 175,
   "metadata": {},
   "outputs": [
    {
     "name": "stdout",
     "output_type": "stream",
     "text": [
      "0.46451612903225814\n"
     ]
    }
   ],
   "source": [
    "ecgIdAccuracy = recall_score(ValidLabel_shuffle[:,-1], y_pred, average='macro')\n",
    "adjustementTerm = 1.0 / len(np.unique(ValidLabel_shuffle[:,-1]))\n",
    "ecgIdAccuracy = (ecgIdAccuracy - adjustementTerm) / (1 - adjustementTerm)\n",
    "if ecgIdAccuracy < 0:\n",
    "    ecgIdAccuracy = 0.0\n",
    "print(ecgIdAccuracy)"
   ]
  },
  {
   "cell_type": "markdown",
   "metadata": {},
   "source": [
    "Regression Task"
   ]
  },
  {
   "cell_type": "code",
   "execution_count": 147,
   "metadata": {},
   "outputs": [],
   "source": []
  },
  {
   "cell_type": "code",
   "execution_count": 152,
   "metadata": {},
   "outputs": [
    {
     "data": {
      "text/plain": [
       "KendalltauResult(correlation=0.841621133556427, pvalue=3.361077295023981e-56)"
      ]
     },
     "execution_count": 152,
     "metadata": {},
     "output_type": "execute_result"
    }
   ],
   "source": [
    "forest = RandomForestRegressor(n_estimators=500,\n",
    "                              random_state=0, bootstrap=True)\n",
    "forest.fit(train_shuffle, TrainLabel_shuffle[:,-2])\n",
    "y_pred = forest.predict(valid_shuffle)\n",
    "kendalltau(y_pred, ValidLabel_shuffle[:,-2])"
   ]
  },
  {
   "cell_type": "code",
   "execution_count": 153,
   "metadata": {},
   "outputs": [
    {
     "data": {
      "text/plain": [
       "KendalltauResult(correlation=0.8685327989136057, pvalue=1.0143556843011926e-59)"
      ]
     },
     "execution_count": 153,
     "metadata": {},
     "output_type": "execute_result"
    }
   ],
   "source": [
    "forest = RandomForestRegressor(n_estimators=500,\n",
    "                              random_state=0, bootstrap=True)\n",
    "forest.fit(train_shuffle, TrainLabel_shuffle[:,-3])\n",
    "y_pred = forest.predict(valid_shuffle)\n",
    "kendalltau(y_pred, ValidLabel_shuffle[:,-3])"
   ]
  },
  {
   "cell_type": "code",
   "execution_count": 154,
   "metadata": {},
   "outputs": [
    {
     "data": {
      "text/plain": [
       "KendalltauResult(correlation=0.843528867168673, pvalue=1.9595342735005284e-56)"
      ]
     },
     "execution_count": 154,
     "metadata": {},
     "output_type": "execute_result"
    }
   ],
   "source": [
    "forest = RandomForestRegressor(n_estimators=500,\n",
    "                              random_state=0, bootstrap=True)\n",
    "forest.fit(train_shuffle, TrainLabel_shuffle[:,-4])\n",
    "y_pred = forest.predict(valid_shuffle)\n",
    "kendalltau(y_pred, ValidLabel_shuffle[:,-4])"
   ]
  },
  {
   "cell_type": "markdown",
   "metadata": {},
   "source": [
    "No improvement here"
   ]
  },
  {
   "cell_type": "code",
   "execution_count": 156,
   "metadata": {},
   "outputs": [],
   "source": [
    "from sklearn.linear_model import LinearRegression"
   ]
  },
  {
   "cell_type": "code",
   "execution_count": 160,
   "metadata": {},
   "outputs": [
    {
     "name": "stdout",
     "output_type": "stream",
     "text": [
      "KendalltauResult(correlation=0.7024689503434867, pvalue=1.1128367743913108e-39)\n",
      "KendalltauResult(correlation=0.8812706509346092, pvalue=1.975081609541191e-61)\n",
      "KendalltauResult(correlation=0.8350171003739197, pvalue=2.380900142611868e-55)\n"
     ]
    }
   ],
   "source": [
    "for i in range(3):\n",
    "    linear = LinearRegression()\n",
    "    linear.fit(train_shuffle, TrainLabel_shuffle[:,i])\n",
    "    y_pred = linear.predict(valid_shuffle)\n",
    "    print(kendalltau(y_pred, ValidLabel_shuffle[:,i]))"
   ]
  },
  {
   "cell_type": "markdown",
   "metadata": {},
   "source": [
    "No improvement also"
   ]
  },
  {
   "cell_type": "code",
   "execution_count": 23,
   "metadata": {},
   "outputs": [
    {
     "data": {
      "image/png": "[encoded data removed]",
      "text/plain": [
       "<Figure size 432x288 with 1 Axes>"
      ]
     },
     "metadata": {
      "needs_background": "light"
     },
     "output_type": "display_data"
    },
    {
     "data": {
      "image/png": "[encoded data removed]",
      "text/plain": [
       "<Figure size 432x288 with 1 Axes>"
      ]
     },
     "metadata": {
      "needs_background": "light"
     },
     "output_type": "display_data"
    },
    {
     "data": {
      "image/png": "[encoded data removed]",
      "text/plain": [
       "<Figure size 432x288 with 1 Axes>"
      ]
     },
     "metadata": {
      "needs_background": "light"
     },
     "output_type": "display_data"
    },
    {
     "data": {
      "image/png": "[encoded data removed]",
      "text/plain": [
       "<Figure size 432x288 with 1 Axes>"
      ]
     },
     "metadata": {
      "needs_background": "light"
     },
     "output_type": "display_data"
    },
    {
     "data": {
      "image/png": "[encoded data removed]",
      "text/plain": [
       "<Figure size 432x288 with 1 Axes>"
      ]
     },
     "metadata": {
      "needs_background": "light"
     },
     "output_type": "display_data"
    },
    {
     "data": {
      "image/png": "[encoded data removed]",
      "text/plain": [
       "<Figure size 432x288 with 1 Axes>"
      ]
     },
     "metadata": {
      "needs_background": "light"
     },
     "output_type": "display_data"
    },
    {
     "data": {
      "image/png": "[encoded data removed]",
      "text/plain": [
       "<Figure size 432x288 with 1 Axes>"
      ]
     },
     "metadata": {
      "needs_background": "light"
     },
     "output_type": "display_data"
    },
    {
     "data": {
      "image/png": "[encoded data removed]",
      "text/plain": [
       "<Figure size 432x288 with 1 Axes>"
      ]
     },
     "metadata": {
      "needs_background": "light"
     },
     "output_type": "display_data"
    }
   ],
   "source": [
    "def vizualize_label(label_name=LABELS_NAME, type_data=train_labels):\n",
    "    # Plot histogram of the label to see their distribution\n",
    "    # Not complete \n",
    "    for i, ex in enumerate(label_name):\n",
    "        plt.figure(i*2+1) #to let the index start at 1\n",
    "        plt.title(ex)\n",
    "        plt.hist(train_labels[:,i])\n",
    "        plt.figure(i*2+2)\n",
    "        plt.plot(train_labels[:,-1], train_labels[:,i],\"ro\")\n",
    "    plt.show()\n",
    "    \n",
    "vizualize_label()"
   ]
  }
 ],
 "metadata": {
  "kernelspec": {
   "display_name": "Python 3",
   "language": "python",
   "name": "python3"
  },
  "language_info": {
   "codemirror_mode": {
    "name": "ipython",
    "version": 3
   },
   "file_extension": ".py",
   "mimetype": "text/x-python",
   "name": "python",
   "nbconvert_exporter": "python",
   "pygments_lexer": "ipython3",
   "version": "3.7.1"
  }
 },
 "nbformat": 4,
 "nbformat_minor": 2
}
