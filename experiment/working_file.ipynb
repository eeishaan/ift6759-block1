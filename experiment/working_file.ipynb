{
 "cells": [
  {
   "cell_type": "code",
   "execution_count": 1,
   "metadata": {},
   "outputs": [],
   "source": [
    "import matplotlib.pyplot as plt\n",
    "%matplotlib inline"
   ]
  },
  {
   "cell_type": "code",
   "execution_count": 2,
   "metadata": {},
   "outputs": [],
   "source": [
    "import os\n",
    "import torch\n",
    "import torch.nn as nn\n",
    "import torch.nn.functional as F\n",
    "import math"
   ]
  },
  {
   "cell_type": "code",
   "execution_count": 3,
   "metadata": {},
   "outputs": [],
   "source": [
    "import numpy as np\n",
    "from scipy.stats import kendalltau\n",
    "from sklearn.metrics import recall_score\n",
    "from sklearn.ensemble import RandomForestRegressor"
   ]
  },
  {
   "cell_type": "code",
   "execution_count": 4,
   "metadata": {},
   "outputs": [],
   "source": [
    "seed = 42\n",
    "torch.manual_seed(seed)\n",
    "if torch.cuda.is_available():\n",
    "    torch.cuda.manual_seed(seed)\n",
    "np.random.seed(seed)"
   ]
  },
  {
   "cell_type": "code",
   "execution_count": 5,
   "metadata": {},
   "outputs": [],
   "source": [
    "def read_memfile(filename, shape, dtype='float32'):\n",
    "    # read binary data and return as a numpy array\n",
    "    fp = np.memmap(filename, dtype=dtype, mode='r', shape=shape)\n",
    "    data = np.zeros(shape=shape, dtype=dtype)\n",
    "    data[:] = fp[:]\n",
    "    del fp\n",
    "    return data"
   ]
  },
  {
   "cell_type": "code",
   "execution_count": 6,
   "metadata": {},
   "outputs": [],
   "source": [
    "def write_memfile(data, filename):\n",
    "    # write a numpy array 'data' into a binary  data file specified by\n",
    "    # 'filename'\n",
    "    shape = data.shape\n",
    "    dtype = data.dtype\n",
    "    fp = np.memmap(filename, dtype=dtype, mode='w+', shape=shape)\n",
    "    fp[:] = data[:]\n",
    "    del fp"
   ]
  },
  {
   "cell_type": "code",
   "execution_count": 7,
   "metadata": {},
   "outputs": [],
   "source": [
    "ROOT_DIR = '/rap/jvb-000-aa/COURS2019/etudiants/data/omsignal/myHeartProject/'\n",
    "TRAIN_LABELED_FILE = 'MILA_TrainLabeledData.dat'\n",
    "VALIDATION_LABELED_FILE =  'MILA_ValidationLabeledData.dat'\n",
    "\n",
    "TRAIN_LABELED_FILE = 'MILA_TrainLabeledData.dat'\n",
    "VALIDATION_LABELED_FILE = 'MILA_ValidationLabeledData.dat'\n",
    "LABELS_NAME = [\"PR_Mean\", \"RT_Mean\", \"RR_StdDev\", \"ID\"]\n",
    "\n",
    "train_labeled_data_file = os.path.join(ROOT_DIR, TRAIN_LABELED_FILE)\n",
    "validation_labeled_data_file = os.path.join(ROOT_DIR, VALIDATION_LABELED_FILE)"
   ]
  },
  {
   "cell_type": "code",
   "execution_count": 8,
   "metadata": {},
   "outputs": [],
   "source": [
    "datatrain = read_memfile(train_labeled_data_file, shape=(160,3754))\n",
    "train_data, train_labels = datatrain[:,:-4], datatrain[:,-4:]"
   ]
  },
  {
   "cell_type": "code",
   "execution_count": 9,
   "metadata": {},
   "outputs": [],
   "source": [
    "datavalid = read_memfile(validation_labeled_data_file, shape=(160,3754))\n",
    "valid_data, valid_labels = datavalid[:,:-4], datavalid[:,-4:]"
   ]
  },
  {
   "cell_type": "code",
   "execution_count": 10,
   "metadata": {},
   "outputs": [],
   "source": [
    "class Preprocessor(nn.Module):\n",
    "\n",
    "    def __init__(\n",
    "            self,\n",
    "            ma_window_size=2,\n",
    "            mv_window_size=4,\n",
    "            num_samples_per_second=125):\n",
    "        # ma_window_size: (in seconds) window size to use\n",
    "        #                 for moving average baseline wander removal\n",
    "        # mv_window_size: (in seconds) window size to use\n",
    "        #                 for moving average RMS normalization\n",
    "\n",
    "        super(Preprocessor, self).__init__()\n",
    "\n",
    "        # Kernel size to use for moving average baseline wander removal: 2\n",
    "        # seconds * 125 HZ sampling rate, + 1 to make it odd\n",
    "\n",
    "        self.maKernelSize = (ma_window_size * num_samples_per_second) + 1\n",
    "\n",
    "        # Kernel size to use for moving average normalization: 4\n",
    "        # seconds * 125 HZ sampling rate , + 1 to make it odd\n",
    "\n",
    "        self.mvKernelSize = (mv_window_size * num_samples_per_second) + 1\n",
    "\n",
    "    def forward(self, x):\n",
    "\n",
    "        with torch.no_grad():\n",
    "            x = x.unsqueeze(0)\n",
    "            \n",
    "\n",
    "            # Remove window mean and standard deviation\n",
    "\n",
    "            x = (x - torch.mean(x, dim=2, keepdim=True)) / \\\n",
    "                (torch.std(x, dim=2, keepdim=True) + 0.00001)\n",
    "\n",
    "            # Moving average baseline wander removal\n",
    "\n",
    "            x = x - F.avg_pool1d(\n",
    "                x, kernel_size=self.maKernelSize,\n",
    "                stride=1, padding=(self.maKernelSize - 1) // 2\n",
    "            )\n",
    "\n",
    "            # Moving RMS normalization\n",
    "\n",
    "            x = x / (\n",
    "                torch.sqrt(\n",
    "                    F.avg_pool1d(\n",
    "                        torch.pow(x, 2),\n",
    "                        kernel_size=self.mvKernelSize,\n",
    "                        stride=1, padding=(self.mvKernelSize - 1) // 2\n",
    "                    )) + 0.00001\n",
    "            )\n",
    "\n",
    "        # Don't backpropagate further\n",
    "\n",
    "        x = x.detach().contiguous()\n",
    "\n",
    "        return x.squeeze(0)"
   ]
  },
  {
   "cell_type": "code",
   "execution_count": 11,
   "metadata": {},
   "outputs": [],
   "source": [
    "def Plot_ECG(data, start=0, end=30, index_nb=[0], seconde=True):\n",
    "    \"\"\"\n",
    "    Plot the ECG on a user defined time interval\n",
    "    \n",
    "    Parameters\n",
    "    ----------\n",
    "    data : numpy array\n",
    "        The ECG Data\n",
    "    start: int\n",
    "        The starting time of the part of the ECG you want to plot\n",
    "    end: int\n",
    "        The End time of the part of the ECG you want to plot\n",
    "    index_nb: List\n",
    "        The index of the observation you want to plot\n",
    "    seconde: boolean\n",
    "        Used True if the start time is in seconde\n",
    "    \"\"\"\n",
    "    # Adjust the shape in order to have 2 dimension\n",
    "    if len(data.shape) == 1:\n",
    "        data = np.expand_dims(data, axis=0)\n",
    "        \n",
    "    # Transform the start and end time \n",
    "    if seconde == True:\n",
    "        start = start*125\n",
    "        end = end*125\n",
    "        \n",
    "    x_labels = np.arange(start, end)\n",
    "             \n",
    "    for i, ex in enumerate(index_nb):\n",
    "        plt.figure(i*2+1) \n",
    "        plt.plot(x_labels, data[ex, start:end])\n",
    "        \n",
    "    plt.show"
   ]
  },
  {
   "cell_type": "code",
   "execution_count": 12,
   "metadata": {},
   "outputs": [],
   "source": [
    "class id_trasformer:\n",
    "    def __init__(self):\n",
    "        self.DictId2Class = {}\n",
    "        self.DictClass2Id = {}\n",
    "        self.n_Id = 0 \n",
    "        \n",
    "    def create_dict_ID(self, ID_vector):\n",
    "        for id in ID_vector:\n",
    "            if id not in self.DictId2Class:\n",
    "                self.DictId2Class[id] = self.n_Id\n",
    "                self.DictClass2Id[self.n_Id] = id\n",
    "                self.n_Id += 1\n",
    "                \n",
    "    def Id2Class(self, ID_vector):\n",
    "        return [self.DictId2Class[id] for id in ID_vector]\n",
    "    \n",
    "    def Class2Id(self, class_vector):\n",
    "        return [self.DictClass2Id[labels] for labels in class_vector]"
   ]
  },
  {
   "cell_type": "code",
   "execution_count": 13,
   "metadata": {},
   "outputs": [],
   "source": [
    "device = torch.device(\"cuda:0\" if torch.cuda.is_available else \"cpu\")"
   ]
  },
  {
   "cell_type": "code",
   "execution_count": 14,
   "metadata": {},
   "outputs": [],
   "source": [
    "preprocessor = Preprocessor().to(device)"
   ]
  },
  {
   "cell_type": "code",
   "execution_count": 15,
   "metadata": {},
   "outputs": [],
   "source": [
    "train = torch.tensor(train_data).to(device)\n",
    "valid =  torch.tensor(valid_data).to(device)\n",
    "preprocess_train = preprocessor(train)\n",
    "preprocess_valid = preprocessor(valid)"
   ]
  },
  {
   "cell_type": "code",
   "execution_count": 16,
   "metadata": {},
   "outputs": [],
   "source": [
    "idtransformer = id_trasformer()\n",
    "idtransformer.create_dict_ID(train_labels[:,-1])\n",
    "train_labels[:,-1] = idtransformer.Id2Class(train_labels[:,-1])\n",
    "valid_labels[:,-1] = idtransformer.Id2Class(valid_labels[:,-1])"
   ]
  },
  {
   "cell_type": "markdown",
   "metadata": {},
   "source": [
    "Algo to detect R P,T peak and onset offset based on https://pure.tugraz.at/ws/portalfiles/portal/1312717/Online%20and%20Offline%20Determination%20of%20QT%20PR%20in%20Electrocardiography%20LNCS%207719.pdfdf.pdf"
   ]
  },
  {
   "cell_type": "code",
   "execution_count": 17,
   "metadata": {},
   "outputs": [],
   "source": [
    "def detect_R_peak(data, SADA_wd_size = 7, FS_wd_size = 12, Threshold = 35):\n",
    "    \"\"\"\n",
    "    Take a Batch of ECG data and find the location of the R Peak\n",
    "    \n",
    "    The algorithm is based on the paper:\n",
    "    Online and Offline Determination of QT and PR Interval and QRS Duration in Electrocardiography\n",
    "    (Bachler et al., 2012)\n",
    "    The variable name and default value follow the paper\n",
    "    \n",
    "    Parameters\n",
    "    ----------\n",
    "    data : numpy array\n",
    "        The ECG Data (batch size x lenght of the ECG recording)\n",
    "    SADA_wd_size: int\n",
    "        size of the moving window used in the calculation of SA and DA\n",
    "    FS_wd_size: int\n",
    "        size of the moving window used in the calculation of the feature signal FS\n",
    "    Threshold: int\n",
    "        FS is compared to the Threshold to determined if its a QRS zone. \n",
    "    \"\"\"\n",
    "    \n",
    "    R_peak = []\n",
    "    \n",
    "    #Allow batch size of 1\n",
    "    if len(data.size()) == 1:\n",
    "        data = data.unsqueeze(0)\n",
    "    \n",
    "    D = data[:, 1:] - data[:, 0:-1]\n",
    "    \n",
    "    \n",
    "    data = data.unsqueeze(0)\n",
    "    D = D.unsqueeze(0)\n",
    "    SA = F.max_pool1d(data, kernel_size = SADA_wd_size, stride = 1)\n",
    "    SA = SA + F.max_pool1d(-data, kernel_size = SADA_wd_size, stride = 1) \n",
    "    DA = F.max_pool1d(D, kernel_size = SADA_wd_size, stride = 1, padding=1)\n",
    "    DA = DA + F.max_pool1d(-D, kernel_size = SADA_wd_size, stride = 1, padding=1) \n",
    "    \n",
    "    C = DA[:,:,1:] * torch.pow(SA, 2)\n",
    "    FS = F.max_pool1d(C, kernel_size = FS_wd_size, stride = 1) \n",
    "    Detect = (FS > Threshold)\n",
    "    \n",
    "    Detect = Detect.squeeze(0).cpu()\n",
    "    data = data.squeeze(0).cpu()\n",
    "\n",
    "    for ECG in range(len(data)):\n",
    "        \n",
    "        in_QRS = 0\n",
    "        start_QRS = 0\n",
    "        end_QRS = 0\n",
    "        r_peak = np.array([])\n",
    "        \n",
    "        for tick, detect in enumerate(Detect[ECG]):\n",
    "            \n",
    "            if (in_QRS == 0) and (detect == 1):\n",
    "                start_QRS = tick\n",
    "                in_QRS = 1\n",
    "                \n",
    "            elif (in_QRS == 1) and (detect == 0):\n",
    "                end_QRS = tick\n",
    "                R_tick = torch.argmax(data[ECG, start_QRS : end_QRS+SADA_wd_size+FS_wd_size]).item()\n",
    "                r_peak = np.append(r_peak, R_tick + start_QRS)\n",
    "                in_QRS = 0\n",
    "                start_QRS = 0\n",
    "                \n",
    "        R_peak.append(r_peak)\n",
    "        \n",
    "    return R_peak"
   ]
  },
  {
   "cell_type": "code",
   "execution_count": 18,
   "metadata": {},
   "outputs": [],
   "source": [
    "def Get_RR_Mean_std(R_peak, MaxInterval=180):\n",
    "    \"\"\"\n",
    "    Calculate the mean RR interval and the std\n",
    "    \n",
    "    Parameters\n",
    "    ----------\n",
    "    R_peak : list of list\n",
    "        Each entry is a list of the positiion of the R peak in the ECG\n",
    "    MaxInterval: int\n",
    "        maximum lenght of an interval, interval higher than this amount are ignore\n",
    "    \"\"\"\n",
    "    #calculate the lenght of the interval\n",
    "    RR_interval = [R_peak[i][1:]-R_peak[i][0:-1] for i in range(len(R_peak))]\n",
    "    \n",
    "    #We keep only good quality one\n",
    "    RR_interval_adj = [interval[interval<MaxInterval] for interval in RR_interval]\n",
    "    \n",
    "\n",
    "    RR_interval_mean = [np.mean(interval) for interval in RR_interval_adj]    \n",
    "    RR_std = [np.std(interval) for interval in RR_interval_adj]\n",
    "    \n",
    "    return RR_interval_mean, RR_std"
   ]
  },
  {
   "cell_type": "code",
   "execution_count": 19,
   "metadata": {},
   "outputs": [],
   "source": [
    "R_peak_train = detect_R_peak(preprocess_train)\n",
    "R_peak_valid = detect_R_peak(preprocess_valid)"
   ]
  },
  {
   "cell_type": "code",
   "execution_count": 20,
   "metadata": {},
   "outputs": [],
   "source": [
    "Train_RR_mean, Train_RR_std = Get_RR_Mean_std(R_peak_train)\n",
    "Valid_RR_mean, Valid_RR_std = Get_RR_Mean_std(R_peak_valid)"
   ]
  },
  {
   "cell_type": "code",
   "execution_count": 21,
   "metadata": {},
   "outputs": [],
   "source": [
    "def create_template(data, R_peak, template_size = 110, All_window = True):\n",
    "    \n",
    "    listoftemplate1 = []\n",
    "    listoftemplate2 = []\n",
    "    half_size_int = template_size//2\n",
    "    listECG_id = []\n",
    "    \n",
    "    for recording in range(len(data)):\n",
    "        template = []\n",
    "        ECG_id = []\n",
    "        #generate the template      \n",
    "        \n",
    "        for i in R_peak[recording][1:-1]:\n",
    "            new_heart_beat = data[recording][int(i)-int(half_size_int*0.8): int(i)+int(half_size_int*1.2)]\n",
    "            if len(new_heart_beat) != 110:\n",
    "                print(\"error\")\n",
    "            template.append(new_heart_beat)\n",
    "            \n",
    "            if All_window:\n",
    "                ECG_id.append(recording)        \n",
    "\n",
    "        if All_window == False:\n",
    "            template = np.mean(template, axis = 0)\n",
    "            template = np.expand_dims(template, axis = 0)\n",
    "            ECG_id.append(recording)  \n",
    "            \n",
    "        listoftemplate1 = listoftemplate1 + template\n",
    "        listECG_id = listECG_id + ECG_id\n",
    "        \n",
    "        \n",
    "    #listoftemplate = [hearth_beat for hearth_beat in template for template in listoftemplate]\n",
    "    return np.array(listoftemplate1), np.array(listECG_id)"
   ]
  },
  {
   "cell_type": "code",
   "execution_count": 22,
   "metadata": {},
   "outputs": [],
   "source": [
    "def create_template_average(data, R_peak, template_size = 110):\n",
    "    half_size_int = template_size//2\n",
    "    listoftemplate = []\n",
    "    for recording in range(len(R_peak)):\n",
    "        #generate the template\n",
    "        template = np.zeros((1,int(half_size_int*0.8)+int(half_size_int*1.2)))\n",
    "        for i in R_peak[recording][1:-1]:\n",
    "            new_heart_beat = data[recording][int(i)-int(half_size_int*0.8): int(i)+int(half_size_int*1.2)]\n",
    "            template = np.concatenate((template,\n",
    "                                       np.expand_dims(new_heart_beat, axis = 0))\n",
    "                                       , axis=0)\n",
    "\n",
    "\n",
    "        template = np.mean(template, axis = 0)\n",
    "        listoftemplate.append(template)\n",
    "        \n",
    "        \n",
    "        \n",
    "    #listoftemplate = [hearth_beat for hearth_beat in template for template in listoftemplate]\n",
    "    return listoftemplate"
   ]
  },
  {
   "cell_type": "markdown",
   "metadata": {},
   "source": [
    "Here we should probably combine the two function (create_template,create_template_average) above into one"
   ]
  },
  {
   "cell_type": "code",
   "execution_count": 23,
   "metadata": {},
   "outputs": [],
   "source": [
    "template_valid, t_valid_labels = create_template(preprocess_valid.cpu().numpy(),  R_peak_valid)\n",
    "template_train, t_train_labels = create_template(preprocess_train.cpu().numpy(), R_peak_train)"
   ]
  },
  {
   "cell_type": "code",
   "execution_count": 24,
   "metadata": {},
   "outputs": [],
   "source": [
    "Avg_template_valid = create_template_average(preprocess_valid.cpu().numpy(),  R_peak_valid)\n",
    "Avg_template_train = create_template_average(preprocess_train.cpu().numpy(), R_peak_train)\n",
    "Avg_template_train = np.array(Avg_template_train)\n",
    "Avg_template_valid = np.array(Avg_template_valid)"
   ]
  },
  {
   "cell_type": "markdown",
   "metadata": {},
   "source": [
    "Convolution for classification on all window"
   ]
  },
  {
   "cell_type": "code",
   "execution_count": 25,
   "metadata": {},
   "outputs": [],
   "source": [
    "import torch\n",
    "from torchvision import models,transforms,datasets\n",
    "import torch.nn as nn\n",
    "import torch.nn.functional as F\n",
    "import matplotlib.pyplot as plt\n",
    "%matplotlib inline \n",
    "import torch.optim as optim\n",
    "from PIL import Image\n",
    "import copy\n",
    "import numpy as np\n",
    "import torchvision\n",
    "import os"
   ]
  },
  {
   "cell_type": "code",
   "execution_count": 26,
   "metadata": {},
   "outputs": [],
   "source": [
    "dictECG_id_to_labels1 = {i:j for i, j in enumerate(train_labels[:,-1])}\n",
    "dictECG_id_to_labels2 = {i:j for i, j in enumerate(valid_labels[:,-1])}\n",
    "labels_train = np.array([dictECG_id_to_labels1[i] for i in t_train_labels])\n",
    "labels_valid = np.array([dictECG_id_to_labels2[i] for i in t_valid_labels])"
   ]
  },
  {
   "cell_type": "code",
   "execution_count": 27,
   "metadata": {},
   "outputs": [],
   "source": [
    "data_train = torch.Tensor(template_train)\n",
    "labels_train_t = torch.LongTensor(labels_train)\n",
    "trainloader = torch.utils.data.TensorDataset(data_train, labels_train_t)\n",
    "loader_train = torch.utils.data.DataLoader(trainloader, batch_size=128, shuffle = True)\n",
    "\n",
    "data_valid = torch.Tensor(template_valid)\n",
    "labels_valid_t = torch.LongTensor(labels_valid)\n",
    "validloader = torch.utils.data.TensorDataset(data_valid, labels_valid_t)\n",
    "loader_valid = torch.utils.data.DataLoader(validloader, batch_size=128, shuffle = False)"
   ]
  },
  {
   "cell_type": "code",
   "execution_count": 32,
   "metadata": {},
   "outputs": [],
   "source": [
    "class Net(nn.Module):\n",
    "    def __init__(self):\n",
    "        super(Net,self).__init__()\n",
    "        self.conv1=nn.Conv1d(1,10,kernel_size=5) #22\n",
    "        self.conv2=nn.Conv1d(10,20,kernel_size=5) #18\n",
    "        self.drop_conv2=nn.Dropout2d(p=0.5) #4\n",
    "        self.fc1=nn.Linear(60,50)\n",
    "        self.drop_lin=nn.Dropout(p=0.5)\n",
    "        self.fc2=nn.Linear(50,32)\n",
    "    \n",
    "    def forward(self,x):\n",
    "        x = x.unsqueeze(1)\n",
    "        x=F.relu(F.max_pool1d(self.conv1(x),5))\n",
    "        x=F.relu(F.max_pool1d(self.drop_conv2(self.conv2(x)),5))\n",
    "        x=x.view(-1,60)\n",
    "        x=F.relu(self.drop_lin(self.fc1(x)))\n",
    "        x=F.log_softmax(self.fc2(x), dim = 1)\n",
    "    \n",
    "        return x"
   ]
  },
  {
   "cell_type": "code",
   "execution_count": 33,
   "metadata": {},
   "outputs": [],
   "source": [
    "model = Net().to(device)"
   ]
  },
  {
   "cell_type": "code",
   "execution_count": 34,
   "metadata": {},
   "outputs": [],
   "source": [
    "def train(num_epochs, model, lr = 0.1):\n",
    "  \n",
    "    optmizer=optim.SGD(model.parameters(),lr=lr)\n",
    "    best_model=best_model=copy.deepcopy(model)\n",
    "    best_accuracy=0\n",
    "    best_epoch=0\n",
    "  \n",
    "    for i in range(num_epochs):\n",
    "\n",
    "        for mode in [\"train\",\"eval\"]:\n",
    "\n",
    "            accuracy=0\n",
    "            loss_total=0\n",
    "\n",
    "            if mode == \"train\":\n",
    "\n",
    "                model.train()\n",
    "                for data, labels in loader_train:\n",
    "                    data, labels=data.to(device), labels.to(device)\n",
    "                    optmizer.zero_grad()\n",
    "\n",
    "                    output=model(data)\n",
    "                    pred=torch.argmax(output,1)\n",
    "                    loss=F.nll_loss(output, labels)\n",
    "\n",
    "                    accuracy+=(pred==labels).sum()\n",
    "                    loss_total+=loss\n",
    "\n",
    "                    loss.backward()\n",
    "                    optmizer.step()\n",
    "\n",
    "                if i % 25 == 0:\n",
    "                    print(f\"Epoch{i} Training loss: {loss_total.item()}\")\n",
    "                    print(f\"Training Accuracy:{accuracy.item()/len(loader_train.dataset)}\")\n",
    "\n",
    "            if mode == \"eval\":\n",
    "\n",
    "                model.eval()\n",
    "                for data, labels in loader_valid:\n",
    "                    data, labels=data.to(device), labels.to(device)\n",
    "\n",
    "                    with torch.no_grad():\n",
    "                        optmizer.zero_grad()\n",
    "\n",
    "                        output=model(data)\n",
    "                        pred=torch.argmax(output,1)\n",
    "                        loss=F.nll_loss(output, labels)\n",
    "\n",
    "                        accuracy+=(pred==labels).sum()\n",
    "                        loss_total+=loss\n",
    "\n",
    "                accuracy=accuracy.item()/len(loader_valid.dataset)\n",
    "\n",
    "                if i % 25 == 0:\n",
    "                    print(f\"Eval loss: {loss_total.item()}\")\n",
    "                    print(f\"Eval Accuracy:{accuracy}\")\n",
    "\n",
    "                if accuracy > best_accuracy:\n",
    "                    best_accuracy=accuracy\n",
    "                    best_model=copy.deepcopy(model)\n",
    "                    best_epoch=i\n",
    "\n",
    "    print(f\"The best epoch:{best_epoch} with an accuracy of {best_accuracy}\")\n",
    "\n",
    "    return best_model"
   ]
  },
  {
   "cell_type": "code",
   "execution_count": 35,
   "metadata": {},
   "outputs": [
    {
     "name": "stdout",
     "output_type": "stream",
     "text": [
      "Epoch0 Training loss: 138.33468627929688\n",
      "Training Accuracy:0.04394088669950739\n",
      "Eval loss: 137.86190795898438\n",
      "Eval Accuracy:0.06263758254952972\n",
      "Epoch25 Training loss: 73.64024353027344\n",
      "Training Accuracy:0.4047290640394089\n",
      "Eval loss: 116.80226135253906\n",
      "Eval Accuracy:0.35241144686812087\n",
      "Epoch50 Training loss: 58.43256378173828\n",
      "Training Accuracy:0.5243349753694582\n",
      "Eval loss: 119.53597259521484\n",
      "Eval Accuracy:0.36742045227136283\n",
      "Epoch75 Training loss: 50.70518112182617\n",
      "Training Accuracy:0.5978325123152709\n",
      "Eval loss: 159.7534942626953\n",
      "Eval Accuracy:0.2693616169701821\n",
      "Epoch100 Training loss: 44.1013298034668\n",
      "Training Accuracy:0.6374384236453202\n",
      "Eval loss: 99.65666198730469\n",
      "Eval Accuracy:0.5039023414048429\n",
      "Epoch125 Training loss: 40.69495391845703\n",
      "Training Accuracy:0.6624630541871921\n",
      "Eval loss: 94.0762939453125\n",
      "Eval Accuracy:0.5375225135081049\n",
      "Epoch150 Training loss: 37.78379440307617\n",
      "Training Accuracy:0.6882758620689655\n",
      "Eval loss: 105.01290130615234\n",
      "Eval Accuracy:0.5019011406844106\n",
      "Epoch175 Training loss: 35.048858642578125\n",
      "Training Accuracy:0.7052216748768473\n",
      "Eval loss: 93.67948150634766\n",
      "Eval Accuracy:0.5411246748048829\n",
      "Epoch200 Training loss: 34.71479034423828\n",
      "Training Accuracy:0.7099507389162562\n",
      "Eval loss: 92.81889343261719\n",
      "Eval Accuracy:0.529717830698419\n",
      "Epoch225 Training loss: 35.69495391845703\n",
      "Training Accuracy:0.7121182266009852\n",
      "Eval loss: 99.5061264038086\n",
      "Eval Accuracy:0.5051030618371023\n",
      "Epoch250 Training loss: 31.81127166748047\n",
      "Training Accuracy:0.7324137931034482\n",
      "Eval loss: 104.30200958251953\n",
      "Eval Accuracy:0.5293175905543326\n",
      "Epoch275 Training loss: 36.59989929199219\n",
      "Training Accuracy:0.7034482758620689\n",
      "Eval loss: 92.882080078125\n",
      "Eval Accuracy:0.5533319991995197\n",
      "Epoch300 Training loss: 40.24461364746094\n",
      "Training Accuracy:0.6892610837438423\n",
      "Eval loss: 91.88927459716797\n",
      "Eval Accuracy:0.5933560136081649\n",
      "Epoch325 Training loss: 31.066831588745117\n",
      "Training Accuracy:0.7469950738916256\n",
      "Eval loss: 89.13118743896484\n",
      "Eval Accuracy:0.5917550530318191\n",
      "Epoch350 Training loss: 31.20081329345703\n",
      "Training Accuracy:0.7414778325123152\n",
      "Eval loss: 102.68421936035156\n",
      "Eval Accuracy:0.5581348809285571\n",
      "Epoch375 Training loss: 31.048404693603516\n",
      "Training Accuracy:0.7477832512315271\n",
      "Eval loss: 90.62329864501953\n",
      "Eval Accuracy:0.5917550530318191\n",
      "Epoch400 Training loss: 28.905677795410156\n",
      "Training Accuracy:0.7619704433497537\n",
      "Eval loss: 87.24549865722656\n",
      "Eval Accuracy:0.5955573344006404\n",
      "Epoch425 Training loss: 28.414749145507812\n",
      "Training Accuracy:0.7692610837438424\n",
      "Eval loss: 100.66805267333984\n",
      "Eval Accuracy:0.6021612967780668\n",
      "Epoch450 Training loss: 29.191049575805664\n",
      "Training Accuracy:0.7601970443349754\n",
      "Eval loss: 94.08436584472656\n",
      "Eval Accuracy:0.6077646587952772\n",
      "Epoch475 Training loss: 30.792675018310547\n",
      "Training Accuracy:0.7511330049261083\n",
      "Eval loss: 94.5654067993164\n",
      "Eval Accuracy:0.5897538523113869\n",
      "Epoch500 Training loss: 28.1025390625\n",
      "Training Accuracy:0.7698522167487685\n",
      "Eval loss: 89.11770629882812\n",
      "Eval Accuracy:0.6151691014608766\n",
      "Epoch525 Training loss: 27.476388931274414\n",
      "Training Accuracy:0.7708374384236453\n",
      "Eval loss: 91.79300689697266\n",
      "Eval Accuracy:0.5893536121673004\n",
      "Epoch550 Training loss: 25.83612632751465\n",
      "Training Accuracy:0.7716256157635468\n",
      "Eval loss: 84.83768463134766\n",
      "Eval Accuracy:0.6305783470082049\n",
      "Epoch575 Training loss: 42.57101058959961\n",
      "Training Accuracy:0.7278817733990148\n",
      "Eval loss: 99.5264663696289\n",
      "Eval Accuracy:0.39143486091654994\n",
      "Epoch600 Training loss: 25.851943969726562\n",
      "Training Accuracy:0.7966502463054187\n",
      "Eval loss: 95.77584838867188\n",
      "Eval Accuracy:0.5917550530318191\n",
      "Epoch625 Training loss: 29.22386932373047\n",
      "Training Accuracy:0.7623645320197044\n",
      "Eval loss: 93.4716796875\n",
      "Eval Accuracy:0.6089653792275366\n",
      "Epoch650 Training loss: 26.086530685424805\n",
      "Training Accuracy:0.7773399014778325\n",
      "Eval loss: 95.18563079833984\n",
      "Eval Accuracy:0.6203722233340004\n",
      "Epoch675 Training loss: 25.049745559692383\n",
      "Training Accuracy:0.7925123152709359\n",
      "Eval loss: 94.77241516113281\n",
      "Eval Accuracy:0.6013608164898939\n",
      "Epoch700 Training loss: 26.239999771118164\n",
      "Training Accuracy:0.7787192118226601\n",
      "Eval loss: 94.98248291015625\n",
      "Eval Accuracy:0.5981588953372023\n",
      "Epoch725 Training loss: 25.062606811523438\n",
      "Training Accuracy:0.7925123152709359\n",
      "Eval loss: 95.99996948242188\n",
      "Eval Accuracy:0.6153692215329197\n",
      "Epoch750 Training loss: 32.35805892944336\n",
      "Training Accuracy:0.7515270935960591\n",
      "Eval loss: 90.03569030761719\n",
      "Eval Accuracy:0.6207724634780869\n",
      "Epoch775 Training loss: 24.039949417114258\n",
      "Training Accuracy:0.7976354679802956\n",
      "Eval loss: 101.35562896728516\n",
      "Eval Accuracy:0.5931558935361216\n",
      "Epoch800 Training loss: 23.673599243164062\n",
      "Training Accuracy:0.8051231527093596\n",
      "Eval loss: 93.70512390136719\n",
      "Eval Accuracy:0.5985591354812888\n",
      "Epoch825 Training loss: 27.022287368774414\n",
      "Training Accuracy:0.781871921182266\n",
      "Eval loss: 89.44557189941406\n",
      "Eval Accuracy:0.6417850710426256\n",
      "Epoch850 Training loss: 24.427942276000977\n",
      "Training Accuracy:0.7956650246305419\n",
      "Eval loss: 102.63746643066406\n",
      "Eval Accuracy:0.6095657394436662\n",
      "Epoch875 Training loss: 22.948200225830078\n",
      "Training Accuracy:0.8057142857142857\n",
      "Eval loss: 103.20108032226562\n",
      "Eval Accuracy:0.5991594956974184\n",
      "Epoch900 Training loss: 23.05050277709961\n",
      "Training Accuracy:0.8074876847290641\n",
      "Eval loss: 98.097412109375\n",
      "Eval Accuracy:0.6289773864318591\n",
      "Epoch925 Training loss: 23.217079162597656\n",
      "Training Accuracy:0.7996059113300492\n",
      "Eval loss: 101.89614868164062\n",
      "Eval Accuracy:0.615569341604963\n",
      "Epoch950 Training loss: 22.009716033935547\n",
      "Training Accuracy:0.8110344827586207\n",
      "Eval loss: 103.95368194580078\n",
      "Eval Accuracy:0.6207724634780869\n",
      "Epoch975 Training loss: 24.350080490112305\n",
      "Training Accuracy:0.7982266009852217\n",
      "Eval loss: 102.43376922607422\n",
      "Eval Accuracy:0.6101660996597958\n",
      "Epoch1000 Training loss: 23.328001022338867\n",
      "Training Accuracy:0.8063054187192118\n",
      "Eval loss: 88.79158782958984\n",
      "Eval Accuracy:0.625375225135081\n",
      "Epoch1025 Training loss: 23.663311004638672\n",
      "Training Accuracy:0.8092610837438423\n",
      "Eval loss: 90.13481140136719\n",
      "Eval Accuracy:0.6401841104662798\n",
      "Epoch1050 Training loss: 21.940677642822266\n",
      "Training Accuracy:0.8169458128078818\n",
      "Eval loss: 100.2347183227539\n",
      "Eval Accuracy:0.6311787072243346\n",
      "Epoch1075 Training loss: 22.235597610473633\n",
      "Training Accuracy:0.8220689655172414\n",
      "Eval loss: 94.99604797363281\n",
      "Eval Accuracy:0.6327796678006804\n",
      "Epoch1100 Training loss: 23.877948760986328\n",
      "Training Accuracy:0.8033497536945813\n",
      "Eval loss: 104.29167938232422\n",
      "Eval Accuracy:0.6153692215329197\n",
      "Epoch1125 Training loss: 24.002561569213867\n",
      "Training Accuracy:0.7960591133004926\n",
      "Eval loss: 92.85549926757812\n",
      "Eval Accuracy:0.6197718631178707\n",
      "Epoch1150 Training loss: 23.432376861572266\n",
      "Training Accuracy:0.8108374384236453\n",
      "Eval loss: 121.71135711669922\n",
      "Eval Accuracy:0.5931558935361216\n",
      "Epoch1175 Training loss: 24.9094181060791\n",
      "Training Accuracy:0.7940886699507389\n",
      "Eval loss: 91.14746856689453\n",
      "Eval Accuracy:0.63338002801681\n",
      "Epoch1200 Training loss: 24.56844711303711\n",
      "Training Accuracy:0.8072906403940887\n",
      "Eval loss: 96.06033325195312\n",
      "Eval Accuracy:0.626175705423254\n",
      "Epoch1225 Training loss: 27.976444244384766\n",
      "Training Accuracy:0.780295566502463\n",
      "Eval loss: 99.87239837646484\n",
      "Eval Accuracy:0.6075645387232339\n",
      "Epoch1250 Training loss: 23.44963264465332\n",
      "Training Accuracy:0.8122167487684729\n",
      "Eval loss: 92.1568832397461\n",
      "Eval Accuracy:0.644786872123274\n",
      "Epoch1275 Training loss: 23.71232795715332\n",
      "Training Accuracy:0.8078817733990148\n",
      "Eval loss: 100.37926483154297\n",
      "Eval Accuracy:0.5937562537522514\n",
      "Epoch1300 Training loss: 23.508453369140625\n",
      "Training Accuracy:0.8070935960591133\n",
      "Eval loss: 93.77449798583984\n",
      "Eval Accuracy:0.6363818290974584\n",
      "Epoch1325 Training loss: 24.109128952026367\n",
      "Training Accuracy:0.8011822660098522\n",
      "Eval loss: 91.32698059082031\n",
      "Eval Accuracy:0.63338002801681\n",
      "Epoch1350 Training loss: 21.051040649414062\n",
      "Training Accuracy:0.818128078817734\n",
      "Eval loss: 95.66897583007812\n",
      "Eval Accuracy:0.6445867520512307\n",
      "Epoch1375 Training loss: 21.906078338623047\n",
      "Training Accuracy:0.8214778325123153\n",
      "Eval loss: 102.05119323730469\n",
      "Eval Accuracy:0.6269761857114269\n",
      "Epoch1400 Training loss: 21.180313110351562\n",
      "Training Accuracy:0.819704433497537\n",
      "Eval loss: 100.7937240600586\n",
      "Eval Accuracy:0.6205723434060436\n",
      "Epoch1425 Training loss: 22.010465621948242\n",
      "Training Accuracy:0.8157635467980295\n",
      "Eval loss: 102.57838439941406\n",
      "Eval Accuracy:0.648389033420052\n"
     ]
    },
    {
     "name": "stdout",
     "output_type": "stream",
     "text": [
      "Epoch1450 Training loss: 27.601139068603516\n",
      "Training Accuracy:0.7881773399014779\n",
      "Eval loss: 95.44615173339844\n",
      "Eval Accuracy:0.625375225135081\n",
      "Epoch1475 Training loss: 22.02729034423828\n",
      "Training Accuracy:0.81871921182266\n",
      "Eval loss: 102.77228546142578\n",
      "Eval Accuracy:0.6425855513307985\n",
      "Epoch1500 Training loss: 23.575782775878906\n",
      "Training Accuracy:0.8033497536945813\n",
      "Eval loss: 95.54804992675781\n",
      "Eval Accuracy:0.6609965979587753\n",
      "Epoch1525 Training loss: 23.29609489440918\n",
      "Training Accuracy:0.8141871921182267\n",
      "Eval loss: 95.82703399658203\n",
      "Eval Accuracy:0.6179707824694817\n",
      "Epoch1550 Training loss: 24.929058074951172\n",
      "Training Accuracy:0.7901477832512315\n",
      "Eval loss: 91.087890625\n",
      "Eval Accuracy:0.6169701821092656\n",
      "Epoch1575 Training loss: 23.086599349975586\n",
      "Training Accuracy:0.8096551724137931\n",
      "Eval loss: 90.18517303466797\n",
      "Eval Accuracy:0.6501901140684411\n",
      "Epoch1600 Training loss: 23.524913787841797\n",
      "Training Accuracy:0.8019704433497536\n",
      "Eval loss: 90.81527709960938\n",
      "Eval Accuracy:0.6369821893135882\n",
      "Epoch1625 Training loss: 22.544387817382812\n",
      "Training Accuracy:0.8061083743842364\n",
      "Eval loss: 94.16392517089844\n",
      "Eval Accuracy:0.6575945567340404\n",
      "Epoch1650 Training loss: 22.04176902770996\n",
      "Training Accuracy:0.8139901477832512\n",
      "Eval loss: 96.50141906738281\n",
      "Eval Accuracy:0.6437862717630578\n",
      "Epoch1675 Training loss: 22.450429916381836\n",
      "Training Accuracy:0.8124137931034483\n",
      "Eval loss: 98.57286834716797\n",
      "Eval Accuracy:0.6475885531318791\n",
      "Epoch1700 Training loss: 22.663864135742188\n",
      "Training Accuracy:0.8124137931034483\n",
      "Eval loss: 103.03303527832031\n",
      "Eval Accuracy:0.5847508505103062\n",
      "Epoch1725 Training loss: 23.936540603637695\n",
      "Training Accuracy:0.8029556650246306\n",
      "Eval loss: 96.0840835571289\n",
      "Eval Accuracy:0.6133680208124875\n",
      "Epoch1750 Training loss: 22.090349197387695\n",
      "Training Accuracy:0.8195073891625616\n",
      "Eval loss: 100.46631622314453\n",
      "Eval Accuracy:0.631578947368421\n",
      "Epoch1775 Training loss: 21.225833892822266\n",
      "Training Accuracy:0.8230541871921182\n",
      "Eval loss: 94.51371002197266\n",
      "Eval Accuracy:0.6351811086651992\n",
      "Epoch1800 Training loss: 21.99679946899414\n",
      "Training Accuracy:0.8137931034482758\n",
      "Eval loss: 94.59181213378906\n",
      "Eval Accuracy:0.6383830298178907\n",
      "Epoch1825 Training loss: 23.748506546020508\n",
      "Training Accuracy:0.8076847290640394\n",
      "Eval loss: 95.36426544189453\n",
      "Eval Accuracy:0.6423854312587552\n",
      "Epoch1850 Training loss: 22.505207061767578\n",
      "Training Accuracy:0.8102463054187192\n",
      "Eval loss: 95.3946762084961\n",
      "Eval Accuracy:0.6521913147888734\n",
      "Epoch1875 Training loss: 22.504117965698242\n",
      "Training Accuracy:0.8132019704433497\n",
      "Eval loss: 99.09725189208984\n",
      "Eval Accuracy:0.6317790674404643\n",
      "Epoch1900 Training loss: 23.928878784179688\n",
      "Training Accuracy:0.8141871921182267\n",
      "Eval loss: 97.46875\n",
      "Eval Accuracy:0.6093656193716229\n",
      "Epoch1925 Training loss: 23.538448333740234\n",
      "Training Accuracy:0.8100492610837439\n",
      "Eval loss: 101.71595764160156\n",
      "Eval Accuracy:0.6243746247748649\n",
      "Epoch1950 Training loss: 24.20349884033203\n",
      "Training Accuracy:0.8005911330049261\n",
      "Eval loss: 116.29462432861328\n",
      "Eval Accuracy:0.56513908345007\n",
      "Epoch1975 Training loss: 23.013418197631836\n",
      "Training Accuracy:0.8137931034482758\n",
      "Eval loss: 94.1354751586914\n",
      "Eval Accuracy:0.6147688613167901\n",
      "Epoch2000 Training loss: 24.17753028869629\n",
      "Training Accuracy:0.8049261083743843\n",
      "Eval loss: 93.96646118164062\n",
      "Eval Accuracy:0.6415849509705823\n",
      "Epoch2025 Training loss: 23.65135955810547\n",
      "Training Accuracy:0.8065024630541872\n",
      "Eval loss: 93.05033111572266\n",
      "Eval Accuracy:0.6397838703221933\n",
      "Epoch2050 Training loss: 22.657255172729492\n",
      "Training Accuracy:0.8088669950738916\n",
      "Eval loss: 87.88201904296875\n",
      "Eval Accuracy:0.6219731839103462\n",
      "Epoch2075 Training loss: 22.49244499206543\n",
      "Training Accuracy:0.8145812807881774\n",
      "Eval loss: 88.32449340820312\n",
      "Eval Accuracy:0.6525915549329597\n",
      "Epoch2100 Training loss: 22.664419174194336\n",
      "Training Accuracy:0.8065024630541872\n",
      "Eval loss: 92.61808013916016\n",
      "Eval Accuracy:0.6393836301781068\n",
      "Epoch2125 Training loss: 22.149639129638672\n",
      "Training Accuracy:0.8157635467980295\n",
      "Eval loss: 95.0624008178711\n",
      "Eval Accuracy:0.6429857914748849\n",
      "Epoch2150 Training loss: 22.65983772277832\n",
      "Training Accuracy:0.8189162561576354\n",
      "Eval loss: 102.05159759521484\n",
      "Eval Accuracy:0.6083650190114068\n",
      "Epoch2175 Training loss: 21.915040969848633\n",
      "Training Accuracy:0.8200985221674877\n",
      "Eval loss: 107.57988739013672\n",
      "Eval Accuracy:0.5959575745447269\n",
      "Epoch2200 Training loss: 23.883007049560547\n",
      "Training Accuracy:0.8082758620689655\n",
      "Eval loss: 95.40130615234375\n",
      "Eval Accuracy:0.6361817090254153\n",
      "Epoch2225 Training loss: 21.31743621826172\n",
      "Training Accuracy:0.8236453201970443\n",
      "Eval loss: 96.17540740966797\n",
      "Eval Accuracy:0.6377826696017611\n",
      "Epoch2250 Training loss: 21.525894165039062\n",
      "Training Accuracy:0.8252216748768473\n",
      "Eval loss: 85.99457550048828\n",
      "Eval Accuracy:0.6419851911146688\n",
      "Epoch2275 Training loss: 22.780672073364258\n",
      "Training Accuracy:0.814384236453202\n",
      "Eval loss: 99.87504577636719\n",
      "Eval Accuracy:0.6169701821092656\n",
      "Epoch2300 Training loss: 22.672286987304688\n",
      "Training Accuracy:0.8145812807881774\n",
      "Eval loss: 94.93550109863281\n",
      "Eval Accuracy:0.634180508304983\n",
      "Epoch2325 Training loss: 21.885055541992188\n",
      "Training Accuracy:0.8220689655172414\n",
      "Eval loss: 90.57743835449219\n",
      "Eval Accuracy:0.6449869921953172\n",
      "Epoch2350 Training loss: 21.374900817871094\n",
      "Training Accuracy:0.8250246305418719\n",
      "Eval loss: 98.4993896484375\n",
      "Eval Accuracy:0.626175705423254\n",
      "Epoch2375 Training loss: 23.258495330810547\n",
      "Training Accuracy:0.8035467980295566\n",
      "Eval loss: 83.9625015258789\n",
      "Eval Accuracy:0.6313788272963778\n",
      "Epoch2400 Training loss: 22.144271850585938\n",
      "Training Accuracy:0.8179310344827586\n",
      "Eval loss: 91.8786849975586\n",
      "Eval Accuracy:0.6515909545727436\n",
      "Epoch2425 Training loss: 37.64824676513672\n",
      "Training Accuracy:0.7412807881773399\n",
      "Eval loss: 81.82962799072266\n",
      "Eval Accuracy:0.6015609365619372\n",
      "Epoch2450 Training loss: 23.94287872314453\n",
      "Training Accuracy:0.8055172413793104\n",
      "Eval loss: 86.34111022949219\n",
      "Eval Accuracy:0.634180508304983\n",
      "Epoch2475 Training loss: 22.146879196166992\n",
      "Training Accuracy:0.8145812807881774\n",
      "Eval loss: 86.32300567626953\n",
      "Eval Accuracy:0.6425855513307985\n",
      "Epoch2500 Training loss: 22.662256240844727\n",
      "Training Accuracy:0.8183251231527093\n",
      "Eval loss: 109.55634307861328\n",
      "Eval Accuracy:0.6371823093856314\n",
      "Epoch2525 Training loss: 21.37900161743164\n",
      "Training Accuracy:0.8248275862068966\n",
      "Eval loss: 94.61835479736328\n",
      "Eval Accuracy:0.6463878326996197\n",
      "Epoch2550 Training loss: 23.25307273864746\n",
      "Training Accuracy:0.81064039408867\n",
      "Eval loss: 93.49942779541016\n",
      "Eval Accuracy:0.6479887932759656\n",
      "Epoch2575 Training loss: 21.477611541748047\n",
      "Training Accuracy:0.8208866995073891\n",
      "Eval loss: 90.69100952148438\n",
      "Eval Accuracy:0.635981588953372\n",
      "Epoch2600 Training loss: 22.041715621948242\n",
      "Training Accuracy:0.8135960591133005\n",
      "Eval loss: 98.67518615722656\n",
      "Eval Accuracy:0.6309785871522914\n",
      "Epoch2625 Training loss: 20.384231567382812\n",
      "Training Accuracy:0.8333004926108374\n",
      "Eval loss: 96.8722915649414\n",
      "Eval Accuracy:0.6561937162297379\n",
      "Epoch2650 Training loss: 21.172666549682617\n",
      "Training Accuracy:0.8285714285714286\n",
      "Eval loss: 109.37525939941406\n",
      "Eval Accuracy:0.5989593756253753\n",
      "Epoch2675 Training loss: 22.061559677124023\n",
      "Training Accuracy:0.8228571428571428\n",
      "Eval loss: 85.08051300048828\n",
      "Eval Accuracy:0.6365819491695017\n",
      "Epoch2700 Training loss: 23.51756477355957\n",
      "Training Accuracy:0.8070935960591133\n",
      "Eval loss: 103.56182861328125\n",
      "Eval Accuracy:0.6295777466479888\n",
      "Epoch2725 Training loss: 24.743919372558594\n",
      "Training Accuracy:0.7994088669950739\n",
      "Eval loss: 87.75825500488281\n",
      "Eval Accuracy:0.6263758254952971\n",
      "Epoch2750 Training loss: 23.333879470825195\n",
      "Training Accuracy:0.8126108374384237\n",
      "Eval loss: 119.88981628417969\n",
      "Eval Accuracy:0.5717430458274965\n",
      "Epoch2775 Training loss: 22.2578125\n",
      "Training Accuracy:0.8159605911330049\n",
      "Eval loss: 88.27642059326172\n",
      "Eval Accuracy:0.6453872323394036\n",
      "Epoch2800 Training loss: 26.366430282592773\n",
      "Training Accuracy:0.7938916256157635\n",
      "Eval loss: 82.9370346069336\n",
      "Eval Accuracy:0.6541925155093056\n",
      "Epoch2825 Training loss: 21.85175323486328\n",
      "Training Accuracy:0.8228571428571428\n",
      "Eval loss: 96.1924057006836\n",
      "Eval Accuracy:0.6083650190114068\n",
      "Epoch2850 Training loss: 22.19681739807129\n",
      "Training Accuracy:0.8191133004926109\n",
      "Eval loss: 95.36723327636719\n",
      "Eval Accuracy:0.6273764258555133\n",
      "Epoch2875 Training loss: 21.34537124633789\n",
      "Training Accuracy:0.8289655172413793\n",
      "Eval loss: 88.77670288085938\n",
      "Eval Accuracy:0.6523914348609166\n"
     ]
    },
    {
     "name": "stdout",
     "output_type": "stream",
     "text": [
      "Epoch2900 Training loss: 22.646533966064453\n",
      "Training Accuracy:0.8126108374384237\n",
      "Eval loss: 92.5819320678711\n",
      "Eval Accuracy:0.6307784670802481\n",
      "Epoch2925 Training loss: 21.580053329467773\n",
      "Training Accuracy:0.8220689655172414\n",
      "Eval loss: 96.9104232788086\n",
      "Eval Accuracy:0.6241745047028217\n",
      "Epoch2950 Training loss: 21.564382553100586\n",
      "Training Accuracy:0.814384236453202\n",
      "Eval loss: 102.55206298828125\n",
      "Eval Accuracy:0.625375225135081\n",
      "Epoch2975 Training loss: 34.36687469482422\n",
      "Training Accuracy:0.7548768472906404\n",
      "Eval loss: 90.2643051147461\n",
      "Eval Accuracy:0.6189713828296978\n",
      "The best epoch:2894 with an accuracy of 0.6796077646587952\n"
     ]
    }
   ],
   "source": [
    "best_model = train(3000, model,0.1 )\n"
   ]
  },
  {
   "cell_type": "markdown",
   "metadata": {},
   "source": [
    "Pred and majority vote"
   ]
  },
  {
   "cell_type": "code",
   "execution_count": 36,
   "metadata": {},
   "outputs": [],
   "source": [
    "y_pred = best_model(data_valid.to(device))"
   ]
  },
  {
   "cell_type": "code",
   "execution_count": 37,
   "metadata": {},
   "outputs": [],
   "source": [
    "pred = torch.argmax(y_pred, dim=1)"
   ]
  },
  {
   "cell_type": "code",
   "execution_count": 38,
   "metadata": {},
   "outputs": [],
   "source": [
    "pred = pred.cpu().numpy()\n",
    "y_pred_majority = np.array([])\n",
    "for i in range(160):\n",
    "    index_of_int = t_valid_labels == i\n",
    "    counts = np.bincount(pred[index_of_int].astype(int))\n",
    "    y_pred_majority = np.append(y_pred_majority,np.argmax(counts))"
   ]
  },
  {
   "cell_type": "markdown",
   "metadata": {},
   "source": [
    "Evaluate using the TA formula"
   ]
  },
  {
   "cell_type": "code",
   "execution_count": 39,
   "metadata": {},
   "outputs": [
    {
     "name": "stdout",
     "output_type": "stream",
     "text": [
      "0.7354838709677419\n"
     ]
    }
   ],
   "source": [
    "ecgIdAccuracy = recall_score(valid_labels[:,-1], y_pred_majority, average='macro')\n",
    "adjustementTerm = 1.0 / len(np.unique(valid_labels[:,-1]))\n",
    "ecgIdAccuracy = (ecgIdAccuracy - adjustementTerm) / (1 - adjustementTerm)\n",
    "if ecgIdAccuracy < 0:\n",
    "    ecgIdAccuracy = 0.0\n",
    "print(ecgIdAccuracy)"
   ]
  },
  {
   "cell_type": "markdown",
   "metadata": {},
   "source": [
    "End of Convolution"
   ]
  },
  {
   "cell_type": "markdown",
   "metadata": {},
   "source": [
    "\n",
    "Using the convolution on the average window instead of all window was tested also\n",
    "Better result are obtained by using all the window and doing a majority vote"
   ]
  },
  {
   "cell_type": "markdown",
   "metadata": {},
   "source": [
    " however they both fell short of a PCA + LDA classificateur"
   ]
  },
  {
   "cell_type": "code",
   "execution_count": 40,
   "metadata": {},
   "outputs": [],
   "source": [
    "labels_train = train_labels[:,-1]\n",
    "labels_valid = valid_labels[:,-1]\n",
    "\n",
    "shuffle1 = np.random.permutation(len(Avg_template_train))\n",
    "train_shuffle = Avg_template_train[shuffle1]\n",
    "TrainLabel_shuffle = labels_train[shuffle1]\n",
    "shuffle2 = np.random.permutation(len(Avg_template_valid))\n",
    "valid_shuffle = Avg_template_valid[shuffle2]\n",
    "ValidLabel_shuffle = labels_valid[shuffle2]"
   ]
  },
  {
   "cell_type": "code",
   "execution_count": 41,
   "metadata": {},
   "outputs": [],
   "source": [
    "from sklearn.decomposition import PCA"
   ]
  },
  {
   "cell_type": "code",
   "execution_count": 42,
   "metadata": {},
   "outputs": [],
   "source": [
    "ipca = PCA(n_components=30)\n",
    "ipca.fit(train_shuffle)\n",
    "pca_train = ipca.transform(train_shuffle)\n",
    "pca_valid = ipca.transform(valid_shuffle)"
   ]
  },
  {
   "cell_type": "code",
   "execution_count": 43,
   "metadata": {},
   "outputs": [],
   "source": [
    "from sklearn.discriminant_analysis import LinearDiscriminantAnalysis"
   ]
  },
  {
   "cell_type": "code",
   "execution_count": 44,
   "metadata": {},
   "outputs": [
    {
     "data": {
      "text/plain": [
       "0.78125"
      ]
     },
     "execution_count": 44,
     "metadata": {},
     "output_type": "execute_result"
    }
   ],
   "source": [
    "lda = LinearDiscriminantAnalysis()\n",
    "lda.fit(pca_train, TrainLabel_shuffle)\n",
    "y_pred = lda.predict(pca_valid)\n",
    "lda.score(pca_valid, ValidLabel_shuffle)"
   ]
  },
  {
   "cell_type": "code",
   "execution_count": 45,
   "metadata": {},
   "outputs": [
    {
     "name": "stdout",
     "output_type": "stream",
     "text": [
      "0.7741935483870968\n"
     ]
    }
   ],
   "source": [
    "ecgIdAccuracy = recall_score(ValidLabel_shuffle, y_pred, average='macro')\n",
    "adjustementTerm = 1.0 / len(np.unique(ValidLabel_shuffle))\n",
    "ecgIdAccuracy = (ecgIdAccuracy - adjustementTerm) / (1 - adjustementTerm)\n",
    "if ecgIdAccuracy < 0:\n",
    "    ecgIdAccuracy = 0.0\n",
    "print(ecgIdAccuracy)"
   ]
  },
  {
   "cell_type": "markdown",
   "metadata": {},
   "source": [
    "Also Try (code not keep): individually analyse each window with PCA + LDA and do With Majority vote \n",
    "dont gives better than analyse the average window. "
   ]
  },
  {
   "cell_type": "markdown",
   "metadata": {},
   "source": [
    "Regression Task on averaged window with multitask learning"
   ]
  },
  {
   "cell_type": "code",
   "execution_count": 48,
   "metadata": {},
   "outputs": [],
   "source": [
    "labels_train = train_labels[:]\n",
    "labels_valid = valid_labels[:]\n",
    "data_train = torch.Tensor(Avg_template_train)\n",
    "labels_train_t = torch.Tensor(labels_train)\n",
    "trainloader = torch.utils.data.TensorDataset(data_train, labels_train_t)\n",
    "loader_train = torch.utils.data.DataLoader(trainloader, batch_size=160, shuffle = False)\n",
    "\n",
    "data_valid = torch.Tensor(Avg_template_valid)\n",
    "labels_valid_t = torch.Tensor(labels_valid)\n",
    "validloader = torch.utils.data.TensorDataset(data_valid, labels_valid_t)\n",
    "loader_valid = torch.utils.data.DataLoader(validloader, batch_size=160, shuffle = False)"
   ]
  },
  {
   "cell_type": "code",
   "execution_count": 49,
   "metadata": {},
   "outputs": [],
   "source": [
    "class Reg_Net(nn.Module):\n",
    "    def __init__(self):\n",
    "        super(Reg_Net,self).__init__()\n",
    "        self.conv1=nn.Conv1d(1,10,kernel_size=3) #22\n",
    "        self.conv2=nn.Conv1d(10,20,kernel_size=3) #18\n",
    "        self.conv3=nn.Conv1d(20,20,kernel_size=3) #18\n",
    "        self.drop_conv3=nn.Dropout2d(p=0.5) #4\n",
    "\n",
    "        \n",
    "        self.fc1RR_std=nn.Linear(60,30)\n",
    "        self.fc2RR_std=nn.Linear(30,1)\n",
    "        self.fc1TR_mean=nn.Linear(60,30)\n",
    "        self.fc2TR_mean=nn.Linear(30,1)\n",
    "        self.fc1PR_mean=nn.Linear(60,30)\n",
    "        self.fc2PR_mean=nn.Linear(30,1)\n",
    "    \n",
    "    def forward(self,x):\n",
    "        x = x.unsqueeze(1)\n",
    "        x=F.relu(F.max_pool1d(self.conv1(x),3))\n",
    "        x=F.relu(F.max_pool1d(self.conv2(x),3))\n",
    "        x=F.relu(F.max_pool1d(self.drop_conv3(self.conv3(x)),3))\n",
    "        x=x.view(-1,60)\n",
    "        \n",
    "        \n",
    "        xRR_std = F.relu((self.fc1RR_std(x)))\n",
    "        xRR_std = self.fc2RR_std(xRR_std)\n",
    "\n",
    "        \n",
    "        \n",
    "        xTR_mean = F.relu((self.fc1TR_mean(x)))\n",
    "        xTR_mean = self.fc2TR_mean(xTR_mean)\n",
    "\n",
    "        \n",
    "        xPR_mean = F.relu((self.fc1PR_mean(x)))\n",
    "        xPR_mean = self.fc2PR_mean(xPR_mean) \n",
    "\n",
    "    \n",
    "        return xRR_std, xTR_mean, xPR_mean"
   ]
  },
  {
   "cell_type": "code",
   "execution_count": 50,
   "metadata": {},
   "outputs": [],
   "source": [
    "reg_model = Reg_Net().to(device)"
   ]
  },
  {
   "cell_type": "code",
   "execution_count": 51,
   "metadata": {},
   "outputs": [],
   "source": [
    "def train(num_epochs, lr=0.1):\n",
    "  \n",
    "    optmizer=optim.Adam(reg_model.parameters(),lr=lr)\n",
    "    reg_best_model =copy.deepcopy(reg_model)\n",
    "    best_kendall=0\n",
    "    best_epoch=0\n",
    "    criterion = nn.MSELoss()\n",
    "  \n",
    "    for i in range(num_epochs):\n",
    "\n",
    "        for mode in [\"train\",\"eval\"]:\n",
    "\n",
    "            accuracy=0\n",
    "            loss_total=0\n",
    "\n",
    "            if mode == \"train\":\n",
    "\n",
    "                reg_model.train()\n",
    "                for data, labels in loader_train:\n",
    "                    data, labels=data.to(device), labels.to(device)\n",
    "                    optmizer.zero_grad()\n",
    "                    xTR_mean = reg_model(data)\n",
    "\n",
    "                    xRR_std, xTR_mean, xPR_mean=reg_model(data)\n",
    "                    LossRR_std = criterion(xRR_std,labels[:,2].unsqueeze(1))\n",
    "                    LossTR_mean = criterion(xTR_mean,labels[:,1].unsqueeze(1))\n",
    "                    LossPR_mean = criterion(xPR_mean,labels[:,0].unsqueeze(1))\n",
    "                    loss = LossRR_std + LossTR_mean + LossPR_mean\n",
    "                    \n",
    "                    loss.backward()\n",
    "                    \n",
    "                    optmizer.step()\n",
    "\n",
    "                if i % 1000 == 0:\n",
    "                    with torch.no_grad():\n",
    "                        kendallTR_mean = kendalltau(xTR_mean.cpu().detach().numpy(), labels[:,1].cpu().detach().numpy())[0]\n",
    "                        kendallRR_std = kendalltau(xRR_std.cpu().detach().numpy(), labels[:,2].cpu().detach().numpy())[0]\n",
    "                        kendallPR_mean = kendalltau(xPR_mean.cpu().detach().numpy(), labels[:,0].cpu().detach().numpy())[0]\n",
    "                        kendallAvg = np.mean([kendallRR_std, kendallTR_mean, kendallPR_mean])\n",
    "\n",
    "                        print(f\"Epoch{i} Training loss: {loss.item()}\")\n",
    "                        print(f\"Training RR STD loss: {LossRR_std.item()}\")\n",
    "                        print(f\"Training TR Mean loss: {LossTR_mean.item()}\")\n",
    "                        print(f\"Training PR Mean loss: {LossPR_mean.item()}\")\n",
    "                        print(f\"Training Kendall TR: {kendallTR_mean}\")\n",
    "                        print(f\"Training Kendall std: {kendallRR_std}\")\n",
    "                        print(f\"Training Kendall PR: {kendallPR_mean}\")\n",
    "                        print(f\"Training Avg Kendall: {kendallAvg}\")\n",
    "\n",
    "\n",
    "\n",
    "            if mode == \"eval\":\n",
    "\n",
    "                reg_model.eval()\n",
    "                for data, labels in loader_valid:\n",
    "                    data, labels=data.to(device), labels.to(device)\n",
    "\n",
    "                    with torch.no_grad():\n",
    "                        optmizer.zero_grad()\n",
    "                        xTR_mean = reg_model(data)\n",
    "\n",
    "                        xRR_std, xTR_mean, xPR_mean=reg_model(data)\n",
    "                        LossRR_std = criterion(xRR_std,labels[:,2].unsqueeze(1))\n",
    "                        LossTR_mean = criterion(xTR_mean,labels[:,1].unsqueeze(1))\n",
    "                        LossPR_mean = criterion(xPR_mean,labels[:,0].unsqueeze(1))\n",
    "                        loss = 0.1*LossRR_std + LossTR_mean + LossPR_mean\n",
    "                        loss = F.mse_loss(xTR_mean,labels)\n",
    "                        \n",
    "\n",
    "                        loss_total+=loss\n",
    "\n",
    "                if i % 1000 == 0:\n",
    "                    with torch.no_grad():\n",
    "                        kendallTR_mean = kendalltau(xTR_mean.cpu().detach().numpy(), labels[:,1].cpu().detach().numpy())[0]\n",
    "                        kendallRR_std = kendalltau(xRR_std.cpu().detach().numpy(), labels[:,2].cpu().detach().numpy())[0]\n",
    "                        kendallPR_mean = kendalltau(xPR_mean.cpu().detach().numpy(), labels[:,0].cpu().detach().numpy())[0]\n",
    "                        kendallAvg = np.mean([kendallRR_std, kendallTR_mean, kendallPR_mean])\n",
    "\n",
    "                        print(f\"Epoch{i} Val loss: {loss.item()}\")\n",
    "                        print(f\"Val RR STD loss: {LossRR_std.item()}\")\n",
    "                        print(f\"Val TR Mean loss: {LossTR_mean.item()}\")\n",
    "                        print(f\"Val PR Mean loss: {LossPR_mean.item()}\")\n",
    "                        print(f\"Val Kendall TR: {kendallTR_mean}\")\n",
    "                        print(f\"Val Kendall std: {kendallRR_std}\")\n",
    "                        print(f\"Val Kendall PR: {kendallPR_mean}\")\n",
    "                        print(f\"Val Avg Kendall: {kendallAvg}\")\n",
    "                    \n",
    "\n",
    "\n",
    "\n",
    "                    if kendallAvg > best_kendall:\n",
    "                        best_kendall = kendallAvg\n",
    "                        reg_best_model=copy.deepcopy(reg_model)\n",
    "                        best_epoch=i\n",
    "\n",
    "    print(f\"The best epoch:{best_epoch} with an avg kendall of {best_kendall}\")\n",
    "\n",
    "    return reg_model"
   ]
  },
  {
   "cell_type": "code",
   "execution_count": 52,
   "metadata": {},
   "outputs": [
    {
     "name": "stdout",
     "output_type": "stream",
     "text": [
      "Epoch0 Training loss: 1529.0455322265625\n",
      "Training RR STD loss: 45.151771545410156\n",
      "Training TR Mean loss: 1208.340087890625\n",
      "Training PR Mean loss: 275.5537109375\n",
      "Training Kendall TR: 0.01572574323580673\n",
      "Training Kendall std: 0.035062893081761005\n",
      "Training Kendall PR: 0.06745813370955772\n",
      "Training Avg Kendall: 0.039415590009041816\n",
      "Epoch0 Val loss: 442.03692626953125\n",
      "Val RR STD loss: 47.10417938232422\n",
      "Val TR Mean loss: 1145.189208984375\n",
      "Val PR Mean loss: 262.27593994140625\n",
      "Val Kendall TR: 0.11133826210951166\n",
      "Val Kendall std: 0.10605762813336012\n",
      "Val Kendall PR: 0.36483724307071613\n",
      "Val Avg Kendall: 0.19407771110452932\n",
      "Epoch1000 Training loss: 9.656634330749512\n",
      "Training RR STD loss: 5.405916213989258\n",
      "Training TR Mean loss: 2.1685800552368164\n",
      "Training PR Mean loss: 2.0821380615234375\n",
      "Training Kendall TR: 0.7749646266605557\n",
      "Training Kendall std: 0.440251572327044\n",
      "Training Kendall PR: 0.6910920691223921\n",
      "Training Avg Kendall: 0.6354360893699972\n",
      "Epoch1000 Val loss: 171.33944702148438\n",
      "Val RR STD loss: 15.255647659301758\n",
      "Val TR Mean loss: 100.41633605957031\n",
      "Val PR Mean loss: 36.016212463378906\n",
      "Val Kendall TR: 0.7979242117848335\n",
      "Val Kendall std: 0.1431660050636388\n",
      "Val Kendall PR: 0.4939455950366894\n",
      "Val Avg Kendall: 0.4783452706283872\n",
      "Epoch2000 Training loss: 6.74188232421875\n",
      "Training RR STD loss: 4.309366703033447\n",
      "Training TR Mean loss: 1.2435184717178345\n",
      "Training PR Mean loss: 1.1889973878860474\n",
      "Training Kendall TR: 0.8183676779913822\n",
      "Training Kendall std: 0.525\n",
      "Training Kendall PR: 0.7918861570194236\n",
      "Training Avg Kendall: 0.7117512783369353\n",
      "Epoch2000 Val loss: 188.42813110351562\n",
      "Val RR STD loss: 16.888042449951172\n",
      "Val TR Mean loss: 76.77153015136719\n",
      "Val PR Mean loss: 34.109222412109375\n",
      "Val Kendall TR: 0.8034282219173658\n",
      "Val Kendall std: 0.17036833222015668\n",
      "Val Kendall PR: 0.5313728639379094\n",
      "Val Avg Kendall: 0.5017231393584773\n",
      "Epoch3000 Training loss: 4.494969367980957\n",
      "Training RR STD loss: 2.065446376800537\n",
      "Training TR Mean loss: 1.4982588291168213\n",
      "Training PR Mean loss: 0.9312644004821777\n",
      "Training Kendall TR: 0.8233999158268404\n",
      "Training Kendall std: 0.6468553459119497\n",
      "Training Kendall PR: 0.8157874071915746\n",
      "Training Avg Kendall: 0.7620142229767882\n",
      "Epoch3000 Val loss: 185.58351135253906\n",
      "Val RR STD loss: 18.27096176147461\n",
      "Val TR Mean loss: 79.61625671386719\n",
      "Val PR Mean loss: 41.0242805480957\n",
      "Val Kendall TR: 0.8021701624585014\n",
      "Val Kendall std: 0.2140807423329426\n",
      "Val Kendall PR: 0.5654977267596101\n",
      "Val Avg Kendall: 0.5272495438503513\n",
      "Epoch4000 Training loss: 4.127861022949219\n",
      "Training RR STD loss: 1.7994674444198608\n",
      "Training TR Mean loss: 1.2169156074523926\n",
      "Training PR Mean loss: 1.1114776134490967\n",
      "Training Kendall TR: 0.8306337577153116\n",
      "Training Kendall std: 0.7094339622641509\n",
      "Training Kendall PR: 0.7947165682240204\n",
      "Training Avg Kendall: 0.7782614294011609\n",
      "Epoch4000 Val loss: 202.00802612304688\n",
      "Val RR STD loss: 17.493892669677734\n",
      "Val TR Mean loss: 62.180198669433594\n",
      "Val PR Mean loss: 37.31914520263672\n",
      "Val Kendall TR: 0.803742736782082\n",
      "Val Kendall std: 0.22571641984497914\n",
      "Val Kendall PR: 0.5837395889131459\n",
      "Val Avg Kendall: 0.537732915180069\n",
      "The best epoch:4000 with an avg kendall of 0.537732915180069\n"
     ]
    }
   ],
   "source": [
    "reg_model = train(5000, 0.01)"
   ]
  },
  {
   "cell_type": "markdown",
   "metadata": {},
   "source": [
    "Regression Task Baseline PCA + SVM Regressor"
   ]
  },
  {
   "cell_type": "code",
   "execution_count": 54,
   "metadata": {},
   "outputs": [],
   "source": [
    "labels_train = train_labels[:]\n",
    "labels_valid = valid_labels[:]\n",
    "\n",
    "shuffle1 = np.random.permutation(len(Avg_template_train))\n",
    "train_shuffle = Avg_template_train[shuffle1]\n",
    "TrainLabel_shuffle = labels_train[shuffle1]\n",
    "shuffle2 = np.random.permutation(len(Avg_template_valid))\n",
    "valid_shuffle = Avg_template_valid[shuffle2]\n",
    "ValidLabel_shuffle = labels_valid[shuffle2]"
   ]
  },
  {
   "cell_type": "code",
   "execution_count": 55,
   "metadata": {},
   "outputs": [],
   "source": [
    "from sklearn.decomposition import PCA\n",
    "ipca = PCA(n_components=30)\n",
    "ipca.fit(train_shuffle)\n",
    "pca_train = ipca.transform(train_shuffle)\n",
    "pca_valid = ipca.transform(valid_shuffle)"
   ]
  },
  {
   "cell_type": "code",
   "execution_count": 56,
   "metadata": {},
   "outputs": [
    {
     "name": "stdout",
     "output_type": "stream",
     "text": [
      "PR_Mean\n",
      "0.7367510705975453\n",
      "RT_Mean\n",
      "0.8732505218843478\n",
      "RR_StdDev\n",
      "0.25197531368971027\n",
      "Avg Kendall corr\n",
      "0.6206589687238678\n"
     ]
    }
   ],
   "source": [
    "from sklearn.svm import SVR\n",
    "from sklearn.model_selection import GridSearchCV\n",
    "param_grid = [{'C': [1, 5, 10, 15, 100, 1000,10000], 'epsilon': [0.001, 0.0001,0.1,0.5,1,10], \"degree\" : [3,4]}]\n",
    "svm_regressor = {}\n",
    "svm = SVR(gamma=\"auto\")\n",
    "result = []\n",
    "for i in range(3):\n",
    "    clf = GridSearchCV(svm, param_grid, cv=5)\n",
    "    clf.fit(pca_train, TrainLabel_shuffle[:,i])\n",
    "    y_pred = clf.predict(pca_valid)\n",
    "    svm_regressor[LABELS_NAME[i]] = copy.deepcopy(clf)\n",
    "    print(LABELS_NAME[i])\n",
    "    result.append(kendalltau(y_pred, ValidLabel_shuffle[:,i])[0])\n",
    "    print(kendalltau(y_pred, ValidLabel_shuffle[:,i])[0])\n",
    "print(\"Avg Kendall corr\") \n",
    "print(np.mean(result))"
   ]
  },
  {
   "cell_type": "markdown",
   "metadata": {},
   "source": [
    "Plot R peak"
   ]
  },
  {
   "cell_type": "code",
   "execution_count": 57,
   "metadata": {},
   "outputs": [],
   "source": [
    "R_peak_amplitude = [[preprocess_train[i][int(j)] for j in record] for i, record in enumerate(R_peak_train)]"
   ]
  },
  {
   "cell_type": "code",
   "execution_count": 113,
   "metadata": {},
   "outputs": [
    {
     "data": {
      "image/png": "[encoded data removed]",
      "text/plain": [
       "<Figure size 432x288 with 1 Axes>"
      ]
     },
     "metadata": {
      "needs_background": "light"
     },
     "output_type": "display_data"
    }
   ],
   "source": [
    "num_to_look = 53\n",
    "plt.plot(R_peak_train[num_to_look],R_peak_amplitude[num_to_look],\"ro\")\n",
    "Plot_ECG(preprocess_train[num_to_look].cpu(),start=0,end=30)\n",
    "plt.xlabel(\"Time (1/125 sec)\")\n",
    "plt.ylabel(\"Voltage\")\n",
    "plt.show()"
   ]
  },
  {
   "cell_type": "code",
   "execution_count": 116,
   "metadata": {},
   "outputs": [
    {
     "data": {
      "text/plain": [
       "<function matplotlib.pyplot.show(*args, **kw)>"
      ]
     },
     "execution_count": 116,
     "metadata": {},
     "output_type": "execute_result"
    },
    {
     "data": {
      "image/png": "[encoded data removed]",
      "text/plain": [
       "<Figure size 432x288 with 1 Axes>"
      ]
     },
     "metadata": {
      "needs_background": "light"
     },
     "output_type": "display_data"
    }
   ],
   "source": [
    "num_to_look = 53\n",
    "Plot_ECG(preprocess_train[num_to_look].cpu(),start=20,end=25)\n",
    "plt.title(\"Signal Zone of Low Quality\")\n",
    "plt.xlabel(\"Time (1/125 sec)\")\n",
    "plt.ylabel(\"Voltage\")\n",
    "plt.show"
   ]
  },
  {
   "cell_type": "markdown",
   "metadata": {},
   "source": [
    "RR std pred vs real"
   ]
  },
  {
   "cell_type": "code",
   "execution_count": 76,
   "metadata": {},
   "outputs": [],
   "source": [
    "def Find_Peak_Offset_Onset(hearth_beat, Side, half_size_int, c1, c2):\n",
    "    \"\"\"\n",
    "    Take an hearth_beat an find the points of interest at Left or Right of the R peak\n",
    "    \n",
    "    The algorithm is based on the paper:\n",
    "    Online and Offline Determination of QT and PR Interval and QRS Duration in Electrocardiography\n",
    "    (Bachler et al., 2012)\n",
    "    The variable name and default value follow the paper. \n",
    "    \n",
    "    Parameters\n",
    "    ----------\n",
    "    hearth_beat : list\n",
    "        Contains the information of one hearth beat\n",
    "    Side: Left or Right\n",
    "        Left to detect T Peak T offset QRS offset, Right to detect P onset, P Peak, QRS onset\n",
    "    half_size_int: int\n",
    "        half of the RR Mean interval\n",
    "    c1 : Float\n",
    "        Used to determined the threshold for QRS offset, onset detection (change in the signal)\n",
    "    c2 : Float\n",
    "        Used to determined the threshold for QRS offset, onset detection (change in the derivative of the signal)\n",
    "        \n",
    "    Output\n",
    "    ----------\n",
    "    If Side = Left Position of the QRS offset, T Peak, T offset \n",
    "    If Side = Right Position of the  QRS onset, P Peak, P onset  \n",
    "    \"\"\"\n",
    "    \n",
    "    hb_length = len(hearth_beat)\n",
    "    \n",
    "    if Side == \"Right\":\n",
    "        #reverse the template to detect points related to the P wave\n",
    "        hearth_beat = np.flip(hearth_beat)\n",
    "    \n",
    "    \n",
    "    #find QRS offset/QRS Onset\n",
    "    derivative = hearth_beat[1:] - hearth_beat[:-1] \n",
    "    TA = np.array([])\n",
    "    TDA = np.array([])\n",
    "\n",
    "    for i in range(int(half_size_int * 0.8) + 1, int(half_size_int * 0.8) + 25):\n",
    "        TA  = np.append(TA,np.max(hearth_beat[i : i+4]) - np.min(hearth_beat[i : i+4])) \n",
    "        TDA = np.append(TDA,np.max(derivative[i : i+4]) - np.min(derivative[i : i+4]))\n",
    "\n",
    "    TT = c1 * (np.max(TA) - np.min(TA)) + np.min(TA)\n",
    "    TD = c2 * (np.max(TDA) - np.min(TDA)) + np.min(TDA)\n",
    "\n",
    "    for i in range(0, len(TA)):\n",
    "        if TA[i] < TT or TDA[i] < TD:\n",
    "            \n",
    "            if Side == \"Right\":\n",
    "                QRS_offset = i + int(half_size_int*1.2) + 4\n",
    "                break\n",
    "                \n",
    "            else:\n",
    "                QRS_offset = i + int(half_size_int*0.8) + 4\n",
    "                break        \n",
    "\n",
    "    #find T peak/ P Peak\n",
    "    Peak = QRS_offset + np.argmax(hearth_beat[QRS_offset:])\n",
    "\n",
    "    #find T wave offset/P wave onset see paper for details on how it works\n",
    "\n",
    "    k = (hearth_beat[Peak] - hearth_beat[-1]) / (Peak-hb_length)\n",
    "    d = hearth_beat[-1] - k*hb_length\n",
    "    g = k*np.arange(0,hb_length) + d\n",
    "    decision = hearth_beat - g\n",
    "    Peak_offset = np.argmin(decision[Peak:hb_length]) + Peak\n",
    "    \n",
    "    if Side == \"Right\":\n",
    "        #reverse the points to get the points in the original hearth beat\n",
    "        QRS_offset = hb_length - QRS_offset - 1\n",
    "        Peak = hb_length - Peak - 1\n",
    "        Peak_offset = hb_length - Peak_offset - 1\n",
    "        \n",
    "    \n",
    "    return QRS_offset, Peak, Peak_offset"
   ]
  },
  {
   "cell_type": "code",
   "execution_count": 77,
   "metadata": {},
   "outputs": [],
   "source": [
    "def Find_ECG_points(data, R_peak, RR_Mean_Interval):\n",
    "    \"\"\"\n",
    "    Take a Batch of ECG data and find the location of all points\n",
    "    \n",
    "    The algorithm is based on the paper:\n",
    "    Online and Offline Determination of QT and PR Interval and QRS Duration in Electrocardiography\n",
    "    (Bachler et al., 2012)\n",
    "    The variable name and default value follow the paper\n",
    "    \n",
    "    Parameters\n",
    "    ----------\n",
    "    data : numpy array\n",
    "        The ECG Data (batch size x lenght of the ECG recording)\n",
    "    R_peak: list of list\n",
    "        List of batch size lenght that contain the contain list of the location of the R peak\n",
    "    RR_Mean_Interval: list\n",
    "        List of batch size lenght that contains the Mean RR interval of each ECG\n",
    "        \n",
    "    Output\n",
    "    ----------\n",
    "    Dictionnary with the location of all points\n",
    "    \"\"\"\n",
    "    \n",
    "    ECG_points = {}\n",
    "    ECG_points[\"Hearth_Beat\"] = []\n",
    "    ECG_points[\"R_Peak\"] = []\n",
    "    ECG_points[\"P_Peak\"] = []\n",
    "    ECG_points[\"T_Peak\"] = []\n",
    "    ECG_points[\"QRS_offset\"] = []\n",
    "    ECG_points[\"QRS_onset\"] = []\n",
    "    ECG_points[\"P_onset\"] = []\n",
    "    ECG_points[\"T_offset\"] = []\n",
    "    \n",
    "    \n",
    "    for recording in range(len(data)):\n",
    "        #generate the averaged hearth beat\n",
    "        #Each hearth beat is of variable size\n",
    "        half_size_int = int(RR_Mean_Interval[recording]//2)\n",
    "        segments  = []\n",
    "\n",
    "        for i in R_peak[recording][1:-1]:\n",
    "            new_heart_beat = data[recording][int(i)-int(half_size_int*0.8): int(i)+int(half_size_int*1.2)]\n",
    "            segments.append(new_heart_beat)\n",
    "        \n",
    "        \n",
    "        avg_segments = np.mean(segments, axis = 0)\n",
    "        \n",
    "        QRS_offset, T_peak, T_offset = Find_Peak_Offset_Onset(avg_segments, \"Left\", half_size_int, 0.1, 0.1)\n",
    "        \n",
    "        QRS_onset, P_peak, P_onset = Find_Peak_Offset_Onset(avg_segments, \"Right\", half_size_int, 0.5, 0.5)\n",
    "\n",
    "        ECG_points[\"Hearth_Beat\"].append(avg_segments)\n",
    "        ECG_points[\"R_Peak\"].append(int(half_size_int*0.8))\n",
    "        ECG_points[\"P_Peak\"].append(P_peak)\n",
    "        ECG_points[\"T_Peak\"].append(T_peak)\n",
    "        ECG_points[\"QRS_offset\"].append(QRS_offset)\n",
    "        ECG_points[\"QRS_onset\"].append(QRS_onset)\n",
    "        ECG_points[\"P_onset\"].append(P_onset)\n",
    "        ECG_points[\"T_offset\"].append(T_offset)\n",
    "    \n",
    "    \n",
    "    return ECG_points"
   ]
  },
  {
   "cell_type": "code",
   "execution_count": 85,
   "metadata": {},
   "outputs": [],
   "source": [
    "def plot_hearth_beat(ECG_points, index_nb):\n",
    "    \"\"\"\n",
    "    Plot an Hearth Beat with all points of interest\n",
    "    \n",
    "    Parameters\n",
    "    ----------\n",
    "    ECG_points : Dictionnary\n",
    "        Contains the location of all point and the hearth beat data\n",
    "    index_nb: int\n",
    "        Index of the hearth beat you want to plot\n",
    "    \"\"\"\n",
    "    \n",
    "    for ECGpoint in [\"R_Peak\", \"QRS_offset\", \"T_Peak\", \"T_offset\", \"QRS_onset\", \"P_Peak\", \"P_onset\"]:\n",
    "        plt.plot(ECG_points[ECGpoint][index_nb], ECG_points[\"Hearth_Beat\"][index_nb][ECG_points[ECGpoint][index_nb]], \"o\")\n",
    "    Plot_ECG(ECG_points[\"Hearth_Beat\"][index_nb], 0, len(ECG_points[\"Hearth_Beat\"][index_nb]), seconde=False)\n",
    "    plt.legend([\"R\", \"QRS offset\", \"T\", \"T offset\", \"QRS onset\", \"P\", \"P onset\" ])\n",
    "    plt.xlabel(\"Time (1/125 sec)\")\n",
    "    plt.ylabel(\"Voltage\")\n",
    "    plt.show()"
   ]
  },
  {
   "cell_type": "code",
   "execution_count": 88,
   "metadata": {},
   "outputs": [],
   "source": [
    "def Get_RT_Mean_PR_Mean(ECG_points):\n",
    "    \"\"\"\n",
    "    Calculate the mean RT Mean interval and PR_Mean\n",
    "    \n",
    "    Parameters\n",
    "    ----------\n",
    "    ECG_points : Dictionnary\n",
    "        Contains the location of all point and the hearth beat data\n",
    "    \"\"\"\n",
    "    RT_Mean = [T_peak-R_peak for T_peak, R_peak in zip(ECG_points[\"T_Peak\"], ECG_points[\"R_Peak\"])]\n",
    "    PR_Mean = [R_peak-P_peak for R_peak, P_peak in zip(ECG_points[\"R_Peak\"], ECG_points[\"P_Peak\"])]\n",
    "    \n",
    "    return RT_Mean, PR_Mean"
   ]
  },
  {
   "cell_type": "code",
   "execution_count": 90,
   "metadata": {},
   "outputs": [],
   "source": [
    "ECG_points_valid = Find_ECG_points(preprocess_valid.cpu().numpy(), R_peak_valid, Valid_RR_mean)\n",
    "ECG_points_train = Find_ECG_points(preprocess_train.cpu().numpy(), R_peak_train, Train_RR_mean)"
   ]
  },
  {
   "cell_type": "code",
   "execution_count": 92,
   "metadata": {},
   "outputs": [],
   "source": [
    "Valid_RT_Mean, Valid_PR_Mean = Get_RT_Mean_PR_Mean(ECG_points_valid)\n",
    "Train_RT_Mean, Train_PR_Mean = Get_RT_Mean_PR_Mean(ECG_points_train)"
   ]
  },
  {
   "cell_type": "code",
   "execution_count": 93,
   "metadata": {},
   "outputs": [
    {
     "data": {
      "image/png": "[encoded data removed]",
      "text/plain": [
       "<Figure size 432x288 with 1 Axes>"
      ]
     },
     "metadata": {
      "needs_background": "light"
     },
     "output_type": "display_data"
    }
   ],
   "source": [
    "plot_hearth_beat(ECG_points_train, 35)"
   ]
  },
  {
   "cell_type": "markdown",
   "metadata": {},
   "source": [
    "Check our Regression Score"
   ]
  },
  {
   "cell_type": "markdown",
   "metadata": {},
   "source": [
    "Valid"
   ]
  },
  {
   "cell_type": "code",
   "execution_count": 95,
   "metadata": {},
   "outputs": [
    {
     "name": "stdout",
     "output_type": "stream",
     "text": [
      "PR Mean\n",
      "0.8697791379031147\n",
      "RT Mean\n",
      "0.9112549924246455\n",
      "RR Std\n",
      "0.9112549924246455\n",
      "Kendall Avg\n",
      "0.8777825026948123\n"
     ]
    }
   ],
   "source": [
    "print(\"PR Mean\")\n",
    "a = kendalltau(Valid_PR_Mean, valid_labels[:,0])[0]\n",
    "print(a)\n",
    "print(\"RT Mean\")\n",
    "b = kendalltau(Valid_RT_Mean, valid_labels[:,1])[0]\n",
    "print(b)\n",
    "print(\"RR Std\")\n",
    "c = kendalltau(Valid_RR_std, valid_labels[:,2])[0]\n",
    "print(b)\n",
    "print(\"Kendall Avg\")\n",
    "print(np.mean([a,b,c]))"
   ]
  },
  {
   "cell_type": "markdown",
   "metadata": {},
   "source": [
    "Train"
   ]
  },
  {
   "cell_type": "code",
   "execution_count": 97,
   "metadata": {},
   "outputs": [
    {
     "name": "stdout",
     "output_type": "stream",
     "text": [
      "PR Mean\n",
      "0.88191830385067\n",
      "RT Mean\n",
      "0.9289062593216623\n",
      "RR Std\n",
      "0.9289062593216623\n",
      "Kendall Avg\n",
      "0.9117318774515741\n"
     ]
    }
   ],
   "source": [
    "print(\"PR Mean\")\n",
    "a = kendalltau(Train_PR_Mean, train_labels[:,0])[0]\n",
    "print(a)\n",
    "print(\"RT Mean\")\n",
    "b = kendalltau(Train_RT_Mean, train_labels[:,1])[0]\n",
    "print(b)\n",
    "print(\"RR Std\")\n",
    "c = kendalltau(Train_RR_std, train_labels[:,2])[0]\n",
    "print(b)\n",
    "print(\"Kendall Avg\")\n",
    "print(np.mean([a,b,c]))"
   ]
  },
  {
   "cell_type": "markdown",
   "metadata": {},
   "source": [
    "Main code below note that its the same thing for the T and P peak (we only pass the reverse list for the P peak) so the code could be improve and cut in function..."
   ]
  },
  {
   "cell_type": "markdown",
   "metadata": {},
   "source": [
    "Calculate RT Mean and PR Mean from the points we have found"
   ]
  },
  {
   "cell_type": "code",
   "execution_count": 98,
   "metadata": {},
   "outputs": [
    {
     "data": {
      "text/plain": [
       "<function matplotlib.pyplot.show(*args, **kw)>"
      ]
     },
     "execution_count": 98,
     "metadata": {},
     "output_type": "execute_result"
    },
    {
     "data": {
      "image/png": "[encoded data removed]",
      "text/plain": [
       "<Figure size 432x288 with 1 Axes>"
      ]
     },
     "metadata": {
      "needs_background": "light"
     },
     "output_type": "display_data"
    }
   ],
   "source": [
    "plt.plot(Valid_PR_Mean, valid_labels[:,0], \"ro\")\n",
    "plt.title(\"Predicted PR Mean Interval vs True\")\n",
    "plt.xlabel(\"Predicted\")\n",
    "plt.ylabel(\"True\")\n",
    "plt.show"
   ]
  },
  {
   "cell_type": "code",
   "execution_count": 99,
   "metadata": {},
   "outputs": [
    {
     "data": {
      "text/plain": [
       "<function matplotlib.pyplot.show(*args, **kw)>"
      ]
     },
     "execution_count": 99,
     "metadata": {},
     "output_type": "execute_result"
    },
    {
     "data": {
      "image/png": "[encoded data removed]",
      "text/plain": [
       "<Figure size 432x288 with 1 Axes>"
      ]
     },
     "metadata": {
      "needs_background": "light"
     },
     "output_type": "display_data"
    }
   ],
   "source": [
    "plt.plot(Valid_RT_Mean, valid_labels[:, 1], \"ro\")\n",
    "plt.title(\"Predicted RT Mean Interval vs True\")\n",
    "plt.xlabel(\"Predicted\")\n",
    "plt.ylabel(\"True\")\n",
    "plt.show"
   ]
  },
  {
   "cell_type": "code",
   "execution_count": 100,
   "metadata": {},
   "outputs": [
    {
     "data": {
      "text/plain": [
       "<function matplotlib.pyplot.show(*args, **kw)>"
      ]
     },
     "execution_count": 100,
     "metadata": {},
     "output_type": "execute_result"
    },
    {
     "data": {
      "image/png": "[encoded data removed]",
      "text/plain": [
       "<Figure size 432x288 with 1 Axes>"
      ]
     },
     "metadata": {
      "needs_background": "light"
     },
     "output_type": "display_data"
    }
   ],
   "source": [
    "plt.plot(Valid_RR_std, valid_labels[:,-2], \"ro\")\n",
    "plt.title(\"Predicted RR Standard Deviation vs True\")\n",
    "plt.xlabel(\"Predicted\")\n",
    "plt.ylabel(\"True\")\n",
    "plt.show"
   ]
  },
  {
   "cell_type": "code",
   "execution_count": null,
   "metadata": {},
   "outputs": [],
   "source": []
  }
 ],
 "metadata": {
  "kernelspec": {
   "display_name": "Python 3",
   "language": "python",
   "name": "python3"
  },
  "language_info": {
   "codemirror_mode": {
    "name": "ipython",
    "version": 3
   },
   "file_extension": ".py",
   "mimetype": "text/x-python",
   "name": "python",
   "nbconvert_exporter": "python",
   "pygments_lexer": "ipython3",
   "version": "3.6.8"
  }
 },
 "nbformat": 4,
 "nbformat_minor": 2
}
